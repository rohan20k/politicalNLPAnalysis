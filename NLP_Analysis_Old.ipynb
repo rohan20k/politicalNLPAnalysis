{
 "cells": [
  {
   "cell_type": "markdown",
   "metadata": {},
   "source": [
    "## Problem Set - 3\n",
    "### Submitted By - Rohan Khurana\n",
    "### Date - 05/11/2020"
   ]
  },
  {
   "cell_type": "markdown",
   "metadata": {},
   "source": [
    "#### Importing Important Packages"
   ]
  },
  {
   "cell_type": "code",
   "execution_count": 1,
   "metadata": {},
   "outputs": [],
   "source": [
    "import warnings\n",
    "warnings.filterwarnings(\"ignore\", category=DeprecationWarning) \n",
    "import pandas as pd\n",
    "import zipfile\n",
    "import re"
   ]
  },
  {
   "cell_type": "code",
   "execution_count": 2,
   "metadata": {},
   "outputs": [],
   "source": [
    "import numpy as np # Importing the Numpy library and assigning it an alias. \n",
    "import pandas as pd # Importing the Pandas library and assigning it an alias. \n",
    "import matplotlib.pyplot as matplot # Importing the Matplotlib library and assigning it an alias. "
   ]
  },
  {
   "cell_type": "markdown",
   "metadata": {},
   "source": [
    "#### Importing all the packages mentioned in the Class"
   ]
  },
  {
   "cell_type": "code",
   "execution_count": 246,
   "metadata": {},
   "outputs": [],
   "source": [
    "# All the following packages are important for text analysis are a part of Natural Language Tool Kit for Python.\n",
    "import nltk\n",
    "from nltk.corpus import stopwords\n",
    "from nltk.stem import PorterStemmer\n",
    "from nltk.stem.snowball import EnglishStemmer\n",
    "from nltk.stem.lancaster import LancasterStemmer"
   ]
  },
  {
   "cell_type": "code",
   "execution_count": 4,
   "metadata": {},
   "outputs": [],
   "source": [
    "# Packages for vectorization.\n",
    "from sklearn.feature_extraction.text import CountVectorizer\n",
    "from sklearn.feature_extraction.text import TfidfVectorizer\n",
    "from sklearn.linear_model import LogisticRegression"
   ]
  },
  {
   "cell_type": "code",
   "execution_count": 5,
   "metadata": {},
   "outputs": [
    {
     "name": "stderr",
     "output_type": "stream",
     "text": [
      "/Users/apple/opt/anaconda3/lib/python3.7/site-packages/past/builtins/misc.py:4: DeprecationWarning: Using or importing the ABCs from 'collections' instead of from 'collections.abc' is deprecated, and in 3.8 it will stop working\n",
      "  from collections import Mapping\n"
     ]
    }
   ],
   "source": [
    "from sklearn.decomposition import LatentDirichletAllocation as LDA \n",
    "import pyLDAvis \n",
    "import pyLDAvis.sklearn\n",
    "warnings.filterwarnings(\"ignore\", category=DeprecationWarning)"
   ]
  },
  {
   "cell_type": "markdown",
   "metadata": {},
   "source": [
    "## Part 1: Set-up"
   ]
  },
  {
   "cell_type": "markdown",
   "metadata": {},
   "source": [
    "#### Problem - 1 "
   ]
  },
  {
   "cell_type": "markdown",
   "metadata": {},
   "source": [
    "To begin, you will first work through processing the data. Start by loading in the training data\n",
    "and test data. Keep each in their own dataframe/list (i.e. a dataframe/list for all training\n",
    "observation text and a separate one for all test observations). How many training and test\n",
    "observations do you have?"
   ]
  },
  {
   "cell_type": "markdown",
   "metadata": {},
   "source": [
    "#### Trial importing a training txt file "
   ]
  },
  {
   "cell_type": "code",
   "execution_count": 6,
   "metadata": {},
   "outputs": [],
   "source": [
    "import pandas as pd\n",
    "df = pd.read_csv('/Users/apple/Desktop/Problem_Set_3/train/Biden_train_1.txt', sep=\" \")"
   ]
  },
  {
   "cell_type": "markdown",
   "metadata": {},
   "source": [
    "#### Importing a list of all the file names of the training dataset  and testing dataset"
   ]
  },
  {
   "cell_type": "code",
   "execution_count": 7,
   "metadata": {},
   "outputs": [],
   "source": [
    "import os\n",
    "import glob\n",
    "\n",
    "files_0 = list(glob.glob(os.path.join('/Users/apple/Desktop/Problem_Set_3/train','*.*')))"
   ]
  },
  {
   "cell_type": "code",
   "execution_count": 8,
   "metadata": {},
   "outputs": [],
   "source": [
    "files_1 = list(glob.glob(os.path.join('/Users/apple/Desktop/Problem_Set_3/test','*.*')))"
   ]
  },
  {
   "cell_type": "code",
   "execution_count": 9,
   "metadata": {},
   "outputs": [],
   "source": [
    "trial123 = files_1.copy()"
   ]
  },
  {
   "cell_type": "code",
   "execution_count": 10,
   "metadata": {},
   "outputs": [],
   "source": [
    "trial123 = pd.DataFrame(trial123)"
   ]
  },
  {
   "cell_type": "code",
   "execution_count": 11,
   "metadata": {},
   "outputs": [],
   "source": [
    "trial123.columns = ['File Name']"
   ]
  },
  {
   "cell_type": "code",
   "execution_count": 12,
   "metadata": {},
   "outputs": [],
   "source": [
    "trial123['File Name'] = trial123['File Name'].map(lambda x: x.lstrip('/Users/apple/Desktop/Problem_Set_3/test')) # trying to remove all the unwanted strings all at once. "
   ]
  },
  {
   "cell_type": "code",
   "execution_count": 14,
   "metadata": {},
   "outputs": [],
   "source": [
    "trial123['File Name']= 'test_' + trial123['File Name'].astype(str) #Experimenting putting file name. "
   ]
  },
  {
   "cell_type": "markdown",
   "metadata": {},
   "source": [
    "#### Putting Training and Testing Dataset. "
   ]
  },
  {
   "cell_type": "code",
   "execution_count": 15,
   "metadata": {},
   "outputs": [],
   "source": [
    "training_data = pd.DataFrame([])\n",
    "q = []\n",
    "for i in files_0:\n",
    "    k = open(i)\n",
    "    b = k.read()\n",
    "    q.append(b)\n",
    "training_data['Comments'] = q #Creating Comments column in the testing dataframe. "
   ]
  },
  {
   "cell_type": "code",
   "execution_count": 16,
   "metadata": {},
   "outputs": [],
   "source": [
    "testing_data = pd.DataFrame([])\n",
    "z = []\n",
    "for i in files_1:\n",
    "    k = open(i)\n",
    "    b = k.read()\n",
    "    z.append(b)\n",
    "testing_data['Comments'] = z #Creating Comments column in the testing dataframe. "
   ]
  },
  {
   "cell_type": "markdown",
   "metadata": {},
   "source": [
    "#### Viewing Training Data"
   ]
  },
  {
   "cell_type": "code",
   "execution_count": 17,
   "metadata": {},
   "outputs": [
    {
     "data": {
      "text/html": [
       "<div>\n",
       "<style scoped>\n",
       "    .dataframe tbody tr th:only-of-type {\n",
       "        vertical-align: middle;\n",
       "    }\n",
       "\n",
       "    .dataframe tbody tr th {\n",
       "        vertical-align: top;\n",
       "    }\n",
       "\n",
       "    .dataframe thead th {\n",
       "        text-align: right;\n",
       "    }\n",
       "</style>\n",
       "<table border=\"1\" class=\"dataframe\">\n",
       "  <thead>\n",
       "    <tr style=\"text-align: right;\">\n",
       "      <th></th>\n",
       "      <th>Comments</th>\n",
       "    </tr>\n",
       "  </thead>\n",
       "  <tbody>\n",
       "    <tr>\n",
       "      <td>0</td>\n",
       "      <td>Kamala Harris: Five million assault weapons ar...</td>\n",
       "    </tr>\n",
       "    <tr>\n",
       "      <td>1</td>\n",
       "      <td>Kamala Harris: So what I am saying is that it ...</td>\n",
       "    </tr>\n",
       "    <tr>\n",
       "      <td>2</td>\n",
       "      <td>Kamala Harris: Who has spent full time… Who ha...</td>\n",
       "    </tr>\n",
       "    <tr>\n",
       "      <td>3</td>\n",
       "      <td>Elizabeth Warren: So let’s be clear, whenever ...</td>\n",
       "    </tr>\n",
       "    <tr>\n",
       "      <td>4</td>\n",
       "      <td>Elizabeth Warren: This morning. I announced th...</td>\n",
       "    </tr>\n",
       "    <tr>\n",
       "      <td>...</td>\n",
       "      <td>...</td>\n",
       "    </tr>\n",
       "    <tr>\n",
       "      <td>523</td>\n",
       "      <td>Amy Klobuchar: First of all, I’ve made it very...</td>\n",
       "    </tr>\n",
       "    <tr>\n",
       "      <td>524</td>\n",
       "      <td>Elizabeth Warren: Yes. I think it should be. A...</td>\n",
       "    </tr>\n",
       "    <tr>\n",
       "      <td>525</td>\n",
       "      <td>Elizabeth Warren: So I think the way we achiev...</td>\n",
       "    </tr>\n",
       "    <tr>\n",
       "      <td>526</td>\n",
       "      <td>Kamala Harris: I think that it’s unfortunate t...</td>\n",
       "    </tr>\n",
       "    <tr>\n",
       "      <td>527</td>\n",
       "      <td>Kamala Harris: There are states that have pass...</td>\n",
       "    </tr>\n",
       "  </tbody>\n",
       "</table>\n",
       "<p>528 rows × 1 columns</p>\n",
       "</div>"
      ],
      "text/plain": [
       "                                              Comments\n",
       "0    Kamala Harris: Five million assault weapons ar...\n",
       "1    Kamala Harris: So what I am saying is that it ...\n",
       "2    Kamala Harris: Who has spent full time… Who ha...\n",
       "3    Elizabeth Warren: So let’s be clear, whenever ...\n",
       "4    Elizabeth Warren: This morning. I announced th...\n",
       "..                                                 ...\n",
       "523  Amy Klobuchar: First of all, I’ve made it very...\n",
       "524  Elizabeth Warren: Yes. I think it should be. A...\n",
       "525  Elizabeth Warren: So I think the way we achiev...\n",
       "526  Kamala Harris: I think that it’s unfortunate t...\n",
       "527  Kamala Harris: There are states that have pass...\n",
       "\n",
       "[528 rows x 1 columns]"
      ]
     },
     "execution_count": 17,
     "metadata": {},
     "output_type": "execute_result"
    }
   ],
   "source": [
    "training_data"
   ]
  },
  {
   "cell_type": "markdown",
   "metadata": {},
   "source": [
    "We can see that there are 528 observations in the training dataset."
   ]
  },
  {
   "cell_type": "markdown",
   "metadata": {},
   "source": [
    "#### Viewing Testing Data"
   ]
  },
  {
   "cell_type": "code",
   "execution_count": 18,
   "metadata": {},
   "outputs": [
    {
     "data": {
      "text/html": [
       "<div>\n",
       "<style scoped>\n",
       "    .dataframe tbody tr th:only-of-type {\n",
       "        vertical-align: middle;\n",
       "    }\n",
       "\n",
       "    .dataframe tbody tr th {\n",
       "        vertical-align: top;\n",
       "    }\n",
       "\n",
       "    .dataframe thead th {\n",
       "        text-align: right;\n",
       "    }\n",
       "</style>\n",
       "<table border=\"1\" class=\"dataframe\">\n",
       "  <thead>\n",
       "    <tr style=\"text-align: right;\">\n",
       "      <th></th>\n",
       "      <th>Comments</th>\n",
       "    </tr>\n",
       "  </thead>\n",
       "  <tbody>\n",
       "    <tr>\n",
       "      <td>0</td>\n",
       "      <td>I agree. Let me… She referenced me. I agreed w...</td>\n",
       "    </tr>\n",
       "    <tr>\n",
       "      <td>1</td>\n",
       "      <td>Well, a few months after I got elected, the la...</td>\n",
       "    </tr>\n",
       "    <tr>\n",
       "      <td>2</td>\n",
       "      <td>Thank you. Probably Rand Paul. He and I, actua...</td>\n",
       "    </tr>\n",
       "    <tr>\n",
       "      <td>3</td>\n",
       "      <td>So in my view, if fraud is involved, then that...</td>\n",
       "    </tr>\n",
       "    <tr>\n",
       "      <td>4</td>\n",
       "      <td>So, first of all, Washington experience is not...</td>\n",
       "    </tr>\n",
       "    <tr>\n",
       "      <td>...</td>\n",
       "      <td>...</td>\n",
       "    </tr>\n",
       "    <tr>\n",
       "      <td>106</td>\n",
       "      <td>Look, on this issue, my friends, there is no c...</td>\n",
       "    </tr>\n",
       "    <tr>\n",
       "      <td>107</td>\n",
       "      <td>And you know what, we came back four years lat...</td>\n",
       "    </tr>\n",
       "    <tr>\n",
       "      <td>108</td>\n",
       "      <td>Think about the nuclear agreement with Russia ...</td>\n",
       "    </tr>\n",
       "    <tr>\n",
       "      <td>109</td>\n",
       "      <td>You want to know how we get this done? We get ...</td>\n",
       "    </tr>\n",
       "    <tr>\n",
       "      <td>110</td>\n",
       "      <td>Well, what Kamala Harris is doing is, unfortun...</td>\n",
       "    </tr>\n",
       "  </tbody>\n",
       "</table>\n",
       "<p>111 rows × 1 columns</p>\n",
       "</div>"
      ],
      "text/plain": [
       "                                              Comments\n",
       "0    I agree. Let me… She referenced me. I agreed w...\n",
       "1    Well, a few months after I got elected, the la...\n",
       "2    Thank you. Probably Rand Paul. He and I, actua...\n",
       "3    So in my view, if fraud is involved, then that...\n",
       "4    So, first of all, Washington experience is not...\n",
       "..                                                 ...\n",
       "106  Look, on this issue, my friends, there is no c...\n",
       "107  And you know what, we came back four years lat...\n",
       "108  Think about the nuclear agreement with Russia ...\n",
       "109  You want to know how we get this done? We get ...\n",
       "110  Well, what Kamala Harris is doing is, unfortun...\n",
       "\n",
       "[111 rows x 1 columns]"
      ]
     },
     "execution_count": 18,
     "metadata": {},
     "output_type": "execute_result"
    }
   ],
   "source": [
    "testing_data"
   ]
  },
  {
   "cell_type": "code",
   "execution_count": 247,
   "metadata": {},
   "outputs": [
    {
     "data": {
      "text/plain": [
       "108    Think about the nuclear agreement with Russia ...\n",
       "Name: Comments, dtype: object"
      ]
     },
     "execution_count": 247,
     "metadata": {},
     "output_type": "execute_result"
    }
   ],
   "source": [
    "testing_data['Comments'][108:109] #Random inspection of testing_data"
   ]
  },
  {
   "cell_type": "markdown",
   "metadata": {},
   "source": [
    "We can observe that we have 528 training observations and 111 testing observations. "
   ]
  },
  {
   "cell_type": "markdown",
   "metadata": {},
   "source": [
    "#### Problem 2 "
   ]
  },
  {
   "cell_type": "markdown",
   "metadata": {},
   "source": [
    "Create a vector of training labels. These labels can be found in one of two ways: in the file\n",
    "name of each training data observation and at the beginning of the text for each training file.\n",
    "The test data will not have the labels at the beginning of the text so remove these labels from\n",
    "your training observations. Are there any instances where the name of the file does not align\n",
    "with the name at the start of the text? If so, how many such observations are there? Exclude\n",
    "these from your training data. What does the distribution of labels look like? Comment on\n",
    "what you see."
   ]
  },
  {
   "cell_type": "markdown",
   "metadata": {},
   "source": [
    "#### Creating a Vector of Training Labels. "
   ]
  },
  {
   "cell_type": "code",
   "execution_count": 20,
   "metadata": {},
   "outputs": [],
   "source": [
    "k = [] #Initializing empty list k. \n",
    "for i in files_0:\n",
    "    start = i.find(\"n/\") + len(\"n/\")\n",
    "    end = i.find(\"_t\")\n",
    "    k.append(i[start:end])"
   ]
  },
  {
   "cell_type": "markdown",
   "metadata": {},
   "source": [
    "#### Adding a column of Labels in the Training Data"
   ]
  },
  {
   "cell_type": "code",
   "execution_count": 21,
   "metadata": {},
   "outputs": [],
   "source": [
    "training_data['Names'] = k"
   ]
  },
  {
   "cell_type": "markdown",
   "metadata": {},
   "source": [
    "#### Viewing labels Data in the Dataframe "
   ]
  },
  {
   "cell_type": "code",
   "execution_count": 22,
   "metadata": {},
   "outputs": [
    {
     "data": {
      "text/html": [
       "<div>\n",
       "<style scoped>\n",
       "    .dataframe tbody tr th:only-of-type {\n",
       "        vertical-align: middle;\n",
       "    }\n",
       "\n",
       "    .dataframe tbody tr th {\n",
       "        vertical-align: top;\n",
       "    }\n",
       "\n",
       "    .dataframe thead th {\n",
       "        text-align: right;\n",
       "    }\n",
       "</style>\n",
       "<table border=\"1\" class=\"dataframe\">\n",
       "  <thead>\n",
       "    <tr style=\"text-align: right;\">\n",
       "      <th></th>\n",
       "      <th>Comments</th>\n",
       "      <th>Names</th>\n",
       "    </tr>\n",
       "  </thead>\n",
       "  <tbody>\n",
       "    <tr>\n",
       "      <td>0</td>\n",
       "      <td>Kamala Harris: Five million assault weapons ar...</td>\n",
       "      <td>Harris</td>\n",
       "    </tr>\n",
       "    <tr>\n",
       "      <td>1</td>\n",
       "      <td>Kamala Harris: So what I am saying is that it ...</td>\n",
       "      <td>Harris</td>\n",
       "    </tr>\n",
       "    <tr>\n",
       "      <td>2</td>\n",
       "      <td>Kamala Harris: Who has spent full time… Who ha...</td>\n",
       "      <td>Harris</td>\n",
       "    </tr>\n",
       "    <tr>\n",
       "      <td>3</td>\n",
       "      <td>Elizabeth Warren: So let’s be clear, whenever ...</td>\n",
       "      <td>Warren</td>\n",
       "    </tr>\n",
       "    <tr>\n",
       "      <td>4</td>\n",
       "      <td>Elizabeth Warren: This morning. I announced th...</td>\n",
       "      <td>Warren</td>\n",
       "    </tr>\n",
       "    <tr>\n",
       "      <td>...</td>\n",
       "      <td>...</td>\n",
       "      <td>...</td>\n",
       "    </tr>\n",
       "    <tr>\n",
       "      <td>523</td>\n",
       "      <td>Amy Klobuchar: First of all, I’ve made it very...</td>\n",
       "      <td>Klobuchar</td>\n",
       "    </tr>\n",
       "    <tr>\n",
       "      <td>524</td>\n",
       "      <td>Elizabeth Warren: Yes. I think it should be. A...</td>\n",
       "      <td>Warren</td>\n",
       "    </tr>\n",
       "    <tr>\n",
       "      <td>525</td>\n",
       "      <td>Elizabeth Warren: So I think the way we achiev...</td>\n",
       "      <td>Warren</td>\n",
       "    </tr>\n",
       "    <tr>\n",
       "      <td>526</td>\n",
       "      <td>Kamala Harris: I think that it’s unfortunate t...</td>\n",
       "      <td>Harris</td>\n",
       "    </tr>\n",
       "    <tr>\n",
       "      <td>527</td>\n",
       "      <td>Kamala Harris: There are states that have pass...</td>\n",
       "      <td>Harris</td>\n",
       "    </tr>\n",
       "  </tbody>\n",
       "</table>\n",
       "<p>528 rows × 2 columns</p>\n",
       "</div>"
      ],
      "text/plain": [
       "                                              Comments      Names\n",
       "0    Kamala Harris: Five million assault weapons ar...     Harris\n",
       "1    Kamala Harris: So what I am saying is that it ...     Harris\n",
       "2    Kamala Harris: Who has spent full time… Who ha...     Harris\n",
       "3    Elizabeth Warren: So let’s be clear, whenever ...     Warren\n",
       "4    Elizabeth Warren: This morning. I announced th...     Warren\n",
       "..                                                 ...        ...\n",
       "523  Amy Klobuchar: First of all, I’ve made it very...  Klobuchar\n",
       "524  Elizabeth Warren: Yes. I think it should be. A...     Warren\n",
       "525  Elizabeth Warren: So I think the way we achiev...     Warren\n",
       "526  Kamala Harris: I think that it’s unfortunate t...     Harris\n",
       "527  Kamala Harris: There are states that have pass...     Harris\n",
       "\n",
       "[528 rows x 2 columns]"
      ]
     },
     "execution_count": 22,
     "metadata": {},
     "output_type": "execute_result"
    }
   ],
   "source": [
    "training_data"
   ]
  },
  {
   "cell_type": "markdown",
   "metadata": {},
   "source": [
    "We can observe that we have successfully created a dataframe with training labels. "
   ]
  },
  {
   "cell_type": "code",
   "execution_count": 23,
   "metadata": {},
   "outputs": [],
   "source": [
    "x = [] #Initializing empty list. \n",
    "count_True = 0 \n",
    "count_False = 0 \n",
    "training_data['Check'] = ['NULL']* training_data.shape[0] #Initializing the empty column. \n",
    "for i in range(training_data.shape[0]):\n",
    "    p = training_data.iloc[i]['Names']\n",
    "    t = (training_data.iloc[i]['Comments'].split(' ')[1])[:-1]\n",
    "    if t == p:\n",
    "        training_data.at[i,'Check'] = 'True'\n",
    "        count_True += 1 \n",
    "    else:\n",
    "        training_data.at[i,'Check'] = 'False'\n",
    "        count_False += 1"
   ]
  },
  {
   "cell_type": "code",
   "execution_count": 248,
   "metadata": {},
   "outputs": [
    {
     "data": {
      "text/plain": [
       "528"
      ]
     },
     "execution_count": 248,
     "metadata": {},
     "output_type": "execute_result"
    }
   ],
   "source": [
    "count_True #Counts instances where the name of the file aligns with the name of the start of the text. "
   ]
  },
  {
   "cell_type": "code",
   "execution_count": 25,
   "metadata": {},
   "outputs": [
    {
     "data": {
      "text/plain": [
       "0"
      ]
     },
     "execution_count": 25,
     "metadata": {},
     "output_type": "execute_result"
    }
   ],
   "source": [
    "count_False #Counts instances where the name of the file does not align with the name of the start of the text. "
   ]
  },
  {
   "cell_type": "markdown",
   "metadata": {},
   "source": [
    "We observe that there are no such instances where the name of the file does not align with the name at the start of the text."
   ]
  },
  {
   "cell_type": "markdown",
   "metadata": {},
   "source": [
    "#### Checking the Count of Labels"
   ]
  },
  {
   "cell_type": "code",
   "execution_count": 26,
   "metadata": {},
   "outputs": [
    {
     "data": {
      "text/plain": [
       "Warren       80\n",
       "Biden        60\n",
       "Sanders      60\n",
       "Buttigieg    60\n",
       "Klobuchar    55\n",
       "Booker       50\n",
       "Harris       40\n",
       "O'Rourke     33\n",
       "Yang         32\n",
       "Castro       23\n",
       "Steyer       19\n",
       "Gabbard      16\n",
       "Name: Names, dtype: int64"
      ]
     },
     "execution_count": 26,
     "metadata": {},
     "output_type": "execute_result"
    }
   ],
   "source": [
    "training_data.Names.value_counts()"
   ]
  },
  {
   "cell_type": "markdown",
   "metadata": {},
   "source": [
    "We can observe the distribution of training labels as described above.We can see that in our training data we have most observations from Senator Elizabeth Warren and the least from Representative Tulsi Gabbard. "
   ]
  },
  {
   "cell_type": "markdown",
   "metadata": {},
   "source": [
    "#### Problem 3"
   ]
  },
  {
   "cell_type": "markdown",
   "metadata": {},
   "source": [
    "Convert the training data to lower case. Remove punctuation from the training data. Also\n",
    "remove stop words from the training data using the NLTK package’s English stop word list. In\n",
    "addition to NLTK’s stopwords, are there words specific to this dataset that may be worthwhile\n",
    "to treat as stop words? What are these words and why would you exclude them? Remove\n",
    "these additional stop words from the training data as well (note: you can also remove this\n",
    "secondary set of stop words after tokenizing. However, keep in mind that this may cause\n",
    "feature alignment issues with your test dataset when you tokenize it.)"
   ]
  },
  {
   "cell_type": "code",
   "execution_count": 28,
   "metadata": {},
   "outputs": [],
   "source": [
    "training_data_new = training_data.copy() #Copying data to avoid any problems later on. "
   ]
  },
  {
   "cell_type": "code",
   "execution_count": 29,
   "metadata": {},
   "outputs": [
    {
     "data": {
      "text/html": [
       "<div>\n",
       "<style scoped>\n",
       "    .dataframe tbody tr th:only-of-type {\n",
       "        vertical-align: middle;\n",
       "    }\n",
       "\n",
       "    .dataframe tbody tr th {\n",
       "        vertical-align: top;\n",
       "    }\n",
       "\n",
       "    .dataframe thead th {\n",
       "        text-align: right;\n",
       "    }\n",
       "</style>\n",
       "<table border=\"1\" class=\"dataframe\">\n",
       "  <thead>\n",
       "    <tr style=\"text-align: right;\">\n",
       "      <th></th>\n",
       "      <th>Comments</th>\n",
       "      <th>Names</th>\n",
       "      <th>Check</th>\n",
       "    </tr>\n",
       "  </thead>\n",
       "  <tbody>\n",
       "    <tr>\n",
       "      <td>0</td>\n",
       "      <td>Kamala Harris: Five million assault weapons ar...</td>\n",
       "      <td>Harris</td>\n",
       "      <td>True</td>\n",
       "    </tr>\n",
       "    <tr>\n",
       "      <td>1</td>\n",
       "      <td>Kamala Harris: So what I am saying is that it ...</td>\n",
       "      <td>Harris</td>\n",
       "      <td>True</td>\n",
       "    </tr>\n",
       "    <tr>\n",
       "      <td>2</td>\n",
       "      <td>Kamala Harris: Who has spent full time… Who ha...</td>\n",
       "      <td>Harris</td>\n",
       "      <td>True</td>\n",
       "    </tr>\n",
       "    <tr>\n",
       "      <td>3</td>\n",
       "      <td>Elizabeth Warren: So let’s be clear, whenever ...</td>\n",
       "      <td>Warren</td>\n",
       "      <td>True</td>\n",
       "    </tr>\n",
       "    <tr>\n",
       "      <td>4</td>\n",
       "      <td>Elizabeth Warren: This morning. I announced th...</td>\n",
       "      <td>Warren</td>\n",
       "      <td>True</td>\n",
       "    </tr>\n",
       "    <tr>\n",
       "      <td>...</td>\n",
       "      <td>...</td>\n",
       "      <td>...</td>\n",
       "      <td>...</td>\n",
       "    </tr>\n",
       "    <tr>\n",
       "      <td>523</td>\n",
       "      <td>Amy Klobuchar: First of all, I’ve made it very...</td>\n",
       "      <td>Klobuchar</td>\n",
       "      <td>True</td>\n",
       "    </tr>\n",
       "    <tr>\n",
       "      <td>524</td>\n",
       "      <td>Elizabeth Warren: Yes. I think it should be. A...</td>\n",
       "      <td>Warren</td>\n",
       "      <td>True</td>\n",
       "    </tr>\n",
       "    <tr>\n",
       "      <td>525</td>\n",
       "      <td>Elizabeth Warren: So I think the way we achiev...</td>\n",
       "      <td>Warren</td>\n",
       "      <td>True</td>\n",
       "    </tr>\n",
       "    <tr>\n",
       "      <td>526</td>\n",
       "      <td>Kamala Harris: I think that it’s unfortunate t...</td>\n",
       "      <td>Harris</td>\n",
       "      <td>True</td>\n",
       "    </tr>\n",
       "    <tr>\n",
       "      <td>527</td>\n",
       "      <td>Kamala Harris: There are states that have pass...</td>\n",
       "      <td>Harris</td>\n",
       "      <td>True</td>\n",
       "    </tr>\n",
       "  </tbody>\n",
       "</table>\n",
       "<p>528 rows × 3 columns</p>\n",
       "</div>"
      ],
      "text/plain": [
       "                                              Comments      Names Check\n",
       "0    Kamala Harris: Five million assault weapons ar...     Harris  True\n",
       "1    Kamala Harris: So what I am saying is that it ...     Harris  True\n",
       "2    Kamala Harris: Who has spent full time… Who ha...     Harris  True\n",
       "3    Elizabeth Warren: So let’s be clear, whenever ...     Warren  True\n",
       "4    Elizabeth Warren: This morning. I announced th...     Warren  True\n",
       "..                                                 ...        ...   ...\n",
       "523  Amy Klobuchar: First of all, I’ve made it very...  Klobuchar  True\n",
       "524  Elizabeth Warren: Yes. I think it should be. A...     Warren  True\n",
       "525  Elizabeth Warren: So I think the way we achiev...     Warren  True\n",
       "526  Kamala Harris: I think that it’s unfortunate t...     Harris  True\n",
       "527  Kamala Harris: There are states that have pass...     Harris  True\n",
       "\n",
       "[528 rows x 3 columns]"
      ]
     },
     "execution_count": 29,
     "metadata": {},
     "output_type": "execute_result"
    }
   ],
   "source": [
    "training_data_new"
   ]
  },
  {
   "cell_type": "markdown",
   "metadata": {},
   "source": [
    "#### Converting column text to lower case"
   ]
  },
  {
   "cell_type": "code",
   "execution_count": 30,
   "metadata": {},
   "outputs": [],
   "source": [
    "training_data_new['Comments'] = training_data_new['Comments'].str.lower()"
   ]
  },
  {
   "cell_type": "markdown",
   "metadata": {},
   "source": [
    "#### Checking the lower case data"
   ]
  },
  {
   "cell_type": "code",
   "execution_count": 31,
   "metadata": {},
   "outputs": [
    {
     "data": {
      "text/html": [
       "<div>\n",
       "<style scoped>\n",
       "    .dataframe tbody tr th:only-of-type {\n",
       "        vertical-align: middle;\n",
       "    }\n",
       "\n",
       "    .dataframe tbody tr th {\n",
       "        vertical-align: top;\n",
       "    }\n",
       "\n",
       "    .dataframe thead th {\n",
       "        text-align: right;\n",
       "    }\n",
       "</style>\n",
       "<table border=\"1\" class=\"dataframe\">\n",
       "  <thead>\n",
       "    <tr style=\"text-align: right;\">\n",
       "      <th></th>\n",
       "      <th>Comments</th>\n",
       "      <th>Names</th>\n",
       "      <th>Check</th>\n",
       "    </tr>\n",
       "  </thead>\n",
       "  <tbody>\n",
       "    <tr>\n",
       "      <td>0</td>\n",
       "      <td>kamala harris: five million assault weapons ar...</td>\n",
       "      <td>Harris</td>\n",
       "      <td>True</td>\n",
       "    </tr>\n",
       "    <tr>\n",
       "      <td>1</td>\n",
       "      <td>kamala harris: so what i am saying is that it ...</td>\n",
       "      <td>Harris</td>\n",
       "      <td>True</td>\n",
       "    </tr>\n",
       "    <tr>\n",
       "      <td>2</td>\n",
       "      <td>kamala harris: who has spent full time… who ha...</td>\n",
       "      <td>Harris</td>\n",
       "      <td>True</td>\n",
       "    </tr>\n",
       "    <tr>\n",
       "      <td>3</td>\n",
       "      <td>elizabeth warren: so let’s be clear, whenever ...</td>\n",
       "      <td>Warren</td>\n",
       "      <td>True</td>\n",
       "    </tr>\n",
       "    <tr>\n",
       "      <td>4</td>\n",
       "      <td>elizabeth warren: this morning. i announced th...</td>\n",
       "      <td>Warren</td>\n",
       "      <td>True</td>\n",
       "    </tr>\n",
       "    <tr>\n",
       "      <td>...</td>\n",
       "      <td>...</td>\n",
       "      <td>...</td>\n",
       "      <td>...</td>\n",
       "    </tr>\n",
       "    <tr>\n",
       "      <td>523</td>\n",
       "      <td>amy klobuchar: first of all, i’ve made it very...</td>\n",
       "      <td>Klobuchar</td>\n",
       "      <td>True</td>\n",
       "    </tr>\n",
       "    <tr>\n",
       "      <td>524</td>\n",
       "      <td>elizabeth warren: yes. i think it should be. a...</td>\n",
       "      <td>Warren</td>\n",
       "      <td>True</td>\n",
       "    </tr>\n",
       "    <tr>\n",
       "      <td>525</td>\n",
       "      <td>elizabeth warren: so i think the way we achiev...</td>\n",
       "      <td>Warren</td>\n",
       "      <td>True</td>\n",
       "    </tr>\n",
       "    <tr>\n",
       "      <td>526</td>\n",
       "      <td>kamala harris: i think that it’s unfortunate t...</td>\n",
       "      <td>Harris</td>\n",
       "      <td>True</td>\n",
       "    </tr>\n",
       "    <tr>\n",
       "      <td>527</td>\n",
       "      <td>kamala harris: there are states that have pass...</td>\n",
       "      <td>Harris</td>\n",
       "      <td>True</td>\n",
       "    </tr>\n",
       "  </tbody>\n",
       "</table>\n",
       "<p>528 rows × 3 columns</p>\n",
       "</div>"
      ],
      "text/plain": [
       "                                              Comments      Names Check\n",
       "0    kamala harris: five million assault weapons ar...     Harris  True\n",
       "1    kamala harris: so what i am saying is that it ...     Harris  True\n",
       "2    kamala harris: who has spent full time… who ha...     Harris  True\n",
       "3    elizabeth warren: so let’s be clear, whenever ...     Warren  True\n",
       "4    elizabeth warren: this morning. i announced th...     Warren  True\n",
       "..                                                 ...        ...   ...\n",
       "523  amy klobuchar: first of all, i’ve made it very...  Klobuchar  True\n",
       "524  elizabeth warren: yes. i think it should be. a...     Warren  True\n",
       "525  elizabeth warren: so i think the way we achiev...     Warren  True\n",
       "526  kamala harris: i think that it’s unfortunate t...     Harris  True\n",
       "527  kamala harris: there are states that have pass...     Harris  True\n",
       "\n",
       "[528 rows x 3 columns]"
      ]
     },
     "execution_count": 31,
     "metadata": {},
     "output_type": "execute_result"
    }
   ],
   "source": [
    "training_data_new"
   ]
  },
  {
   "cell_type": "markdown",
   "metadata": {},
   "source": [
    "We can see that we have successfully converted the text into lower case. "
   ]
  },
  {
   "cell_type": "markdown",
   "metadata": {},
   "source": [
    "#### Removing the Punctuation from lower case comments"
   ]
  },
  {
   "cell_type": "code",
   "execution_count": 32,
   "metadata": {},
   "outputs": [],
   "source": [
    "training_data_new[\"new_column\"] = training_data_new['Comments'].str.replace('[^\\w\\s]','')"
   ]
  },
  {
   "cell_type": "code",
   "execution_count": 33,
   "metadata": {},
   "outputs": [
    {
     "data": {
      "text/html": [
       "<div>\n",
       "<style scoped>\n",
       "    .dataframe tbody tr th:only-of-type {\n",
       "        vertical-align: middle;\n",
       "    }\n",
       "\n",
       "    .dataframe tbody tr th {\n",
       "        vertical-align: top;\n",
       "    }\n",
       "\n",
       "    .dataframe thead th {\n",
       "        text-align: right;\n",
       "    }\n",
       "</style>\n",
       "<table border=\"1\" class=\"dataframe\">\n",
       "  <thead>\n",
       "    <tr style=\"text-align: right;\">\n",
       "      <th></th>\n",
       "      <th>Comments</th>\n",
       "      <th>Names</th>\n",
       "      <th>Check</th>\n",
       "      <th>new_column</th>\n",
       "    </tr>\n",
       "  </thead>\n",
       "  <tbody>\n",
       "    <tr>\n",
       "      <td>0</td>\n",
       "      <td>kamala harris: five million assault weapons ar...</td>\n",
       "      <td>Harris</td>\n",
       "      <td>True</td>\n",
       "      <td>kamala harris five million assault weapons are...</td>\n",
       "    </tr>\n",
       "    <tr>\n",
       "      <td>1</td>\n",
       "      <td>kamala harris: so what i am saying is that it ...</td>\n",
       "      <td>Harris</td>\n",
       "      <td>True</td>\n",
       "      <td>kamala harris so what i am saying is that it s...</td>\n",
       "    </tr>\n",
       "    <tr>\n",
       "      <td>2</td>\n",
       "      <td>kamala harris: who has spent full time… who ha...</td>\n",
       "      <td>Harris</td>\n",
       "      <td>True</td>\n",
       "      <td>kamala harris who has spent full time who has ...</td>\n",
       "    </tr>\n",
       "    <tr>\n",
       "      <td>3</td>\n",
       "      <td>elizabeth warren: so let’s be clear, whenever ...</td>\n",
       "      <td>Warren</td>\n",
       "      <td>True</td>\n",
       "      <td>elizabeth warren so lets be clear whenever som...</td>\n",
       "    </tr>\n",
       "    <tr>\n",
       "      <td>4</td>\n",
       "      <td>elizabeth warren: this morning. i announced th...</td>\n",
       "      <td>Warren</td>\n",
       "      <td>True</td>\n",
       "      <td>elizabeth warren this morning i announced this...</td>\n",
       "    </tr>\n",
       "    <tr>\n",
       "      <td>...</td>\n",
       "      <td>...</td>\n",
       "      <td>...</td>\n",
       "      <td>...</td>\n",
       "      <td>...</td>\n",
       "    </tr>\n",
       "    <tr>\n",
       "      <td>523</td>\n",
       "      <td>amy klobuchar: first of all, i’ve made it very...</td>\n",
       "      <td>Klobuchar</td>\n",
       "      <td>True</td>\n",
       "      <td>amy klobuchar first of all ive made it very cl...</td>\n",
       "    </tr>\n",
       "    <tr>\n",
       "      <td>524</td>\n",
       "      <td>elizabeth warren: yes. i think it should be. a...</td>\n",
       "      <td>Warren</td>\n",
       "      <td>True</td>\n",
       "      <td>elizabeth warren yes i think it should be all ...</td>\n",
       "    </tr>\n",
       "    <tr>\n",
       "      <td>525</td>\n",
       "      <td>elizabeth warren: so i think the way we achiev...</td>\n",
       "      <td>Warren</td>\n",
       "      <td>True</td>\n",
       "      <td>elizabeth warren so i think the way we achieve...</td>\n",
       "    </tr>\n",
       "    <tr>\n",
       "      <td>526</td>\n",
       "      <td>kamala harris: i think that it’s unfortunate t...</td>\n",
       "      <td>Harris</td>\n",
       "      <td>True</td>\n",
       "      <td>kamala harris i think that its unfortunate tha...</td>\n",
       "    </tr>\n",
       "    <tr>\n",
       "      <td>527</td>\n",
       "      <td>kamala harris: there are states that have pass...</td>\n",
       "      <td>Harris</td>\n",
       "      <td>True</td>\n",
       "      <td>kamala harris there are states that have passe...</td>\n",
       "    </tr>\n",
       "  </tbody>\n",
       "</table>\n",
       "<p>528 rows × 4 columns</p>\n",
       "</div>"
      ],
      "text/plain": [
       "                                              Comments      Names Check  \\\n",
       "0    kamala harris: five million assault weapons ar...     Harris  True   \n",
       "1    kamala harris: so what i am saying is that it ...     Harris  True   \n",
       "2    kamala harris: who has spent full time… who ha...     Harris  True   \n",
       "3    elizabeth warren: so let’s be clear, whenever ...     Warren  True   \n",
       "4    elizabeth warren: this morning. i announced th...     Warren  True   \n",
       "..                                                 ...        ...   ...   \n",
       "523  amy klobuchar: first of all, i’ve made it very...  Klobuchar  True   \n",
       "524  elizabeth warren: yes. i think it should be. a...     Warren  True   \n",
       "525  elizabeth warren: so i think the way we achiev...     Warren  True   \n",
       "526  kamala harris: i think that it’s unfortunate t...     Harris  True   \n",
       "527  kamala harris: there are states that have pass...     Harris  True   \n",
       "\n",
       "                                            new_column  \n",
       "0    kamala harris five million assault weapons are...  \n",
       "1    kamala harris so what i am saying is that it s...  \n",
       "2    kamala harris who has spent full time who has ...  \n",
       "3    elizabeth warren so lets be clear whenever som...  \n",
       "4    elizabeth warren this morning i announced this...  \n",
       "..                                                 ...  \n",
       "523  amy klobuchar first of all ive made it very cl...  \n",
       "524  elizabeth warren yes i think it should be all ...  \n",
       "525  elizabeth warren so i think the way we achieve...  \n",
       "526  kamala harris i think that its unfortunate tha...  \n",
       "527  kamala harris there are states that have passe...  \n",
       "\n",
       "[528 rows x 4 columns]"
      ]
     },
     "execution_count": 33,
     "metadata": {},
     "output_type": "execute_result"
    }
   ],
   "source": [
    "training_data_new"
   ]
  },
  {
   "cell_type": "markdown",
   "metadata": {},
   "source": [
    "We can see that we have removed all the punctuation and even lower cased the sentences and stored them in a new column under the name 'new_column'"
   ]
  },
  {
   "cell_type": "markdown",
   "metadata": {},
   "source": [
    "#### Just observing the finally processed text "
   ]
  },
  {
   "cell_type": "code",
   "execution_count": 34,
   "metadata": {},
   "outputs": [
    {
     "data": {
      "text/plain": [
       "'pete buttigieg if i had a buck for every argument that ive witnessed like this i could pay for college for everybody we need to move past what has been consuming this whole political space for as long as ive been alive were being offered a false choice i dont agree with the vice president that trump is an aberration i dont agree that theres any such thing as back to normal because here in the industrial midwest definitely where i live normal didnt work thats part of how we got here thats part of how a guy like donald trump managed to get within cheating distance of the oval office in the first place but i also dont agree with elizabeth warren that the only way forward is infinite partisan combat yes we have to fight absolutely we have to fight for the big changes at hand but its going to take more than fighting'"
      ]
     },
     "execution_count": 34,
     "metadata": {},
     "output_type": "execute_result"
    }
   ],
   "source": [
    "training_data_new.iloc[151]['new_column'] #Random observation of one of the analysed entries. "
   ]
  },
  {
   "cell_type": "markdown",
   "metadata": {},
   "source": [
    "#### Splitting the data in the 'new_column'"
   ]
  },
  {
   "cell_type": "code",
   "execution_count": 35,
   "metadata": {},
   "outputs": [],
   "source": [
    "training_data_new[\"new_column\"] = training_data_new[\"new_column\"].str.split() #Splitting the sentences into indivisual texts to process further for stop word removal. "
   ]
  },
  {
   "cell_type": "code",
   "execution_count": 36,
   "metadata": {},
   "outputs": [],
   "source": [
    "stop = stopwords.words('english') #Storing all the stop words present in the NLTK for English language."
   ]
  },
  {
   "cell_type": "markdown",
   "metadata": {},
   "source": [
    "#### Removing stop words from the new_column"
   ]
  },
  {
   "cell_type": "code",
   "execution_count": 37,
   "metadata": {},
   "outputs": [],
   "source": [
    "training_data_new['new_column'] = training_data_new['new_column'].apply(lambda x: [item for item in x if item not in stop])"
   ]
  },
  {
   "cell_type": "markdown",
   "metadata": {},
   "source": [
    "#### Viewing the first row of the new_column"
   ]
  },
  {
   "cell_type": "code",
   "execution_count": 38,
   "metadata": {},
   "outputs": [
    {
     "data": {
      "text/plain": [
       "['kamala',\n",
       " 'harris',\n",
       " 'saying',\n",
       " 'seems',\n",
       " 'would',\n",
       " 'able',\n",
       " 'join',\n",
       " 'saying',\n",
       " 'rule',\n",
       " 'apply',\n",
       " 'twitter',\n",
       " 'way',\n",
       " 'facebook']"
      ]
     },
     "execution_count": 38,
     "metadata": {},
     "output_type": "execute_result"
    }
   ],
   "source": [
    "training_data_new.iloc[1]['new_column']"
   ]
  },
  {
   "cell_type": "markdown",
   "metadata": {},
   "source": [
    "We can observe that we have successfully removed the stop words from our new_column."
   ]
  },
  {
   "cell_type": "markdown",
   "metadata": {},
   "source": [
    "#### Removing the Politician's name in addition to the stop words "
   ]
  },
  {
   "cell_type": "markdown",
   "metadata": {},
   "source": [
    "The words removed here are the politician's names as that could easily affect our analysis. These words are in addition to the stop words mentioned in NLTK, so here we remove the first 2 words from every set of stop words as they contain the name of the political leader. "
   ]
  },
  {
   "cell_type": "code",
   "execution_count": 39,
   "metadata": {},
   "outputs": [],
   "source": [
    "training_data_new['new_column'] = training_data_new['new_column'].apply(lambda x: x[2:])"
   ]
  },
  {
   "cell_type": "code",
   "execution_count": 40,
   "metadata": {},
   "outputs": [
    {
     "data": {
      "text/html": [
       "<div>\n",
       "<style scoped>\n",
       "    .dataframe tbody tr th:only-of-type {\n",
       "        vertical-align: middle;\n",
       "    }\n",
       "\n",
       "    .dataframe tbody tr th {\n",
       "        vertical-align: top;\n",
       "    }\n",
       "\n",
       "    .dataframe thead th {\n",
       "        text-align: right;\n",
       "    }\n",
       "</style>\n",
       "<table border=\"1\" class=\"dataframe\">\n",
       "  <thead>\n",
       "    <tr style=\"text-align: right;\">\n",
       "      <th></th>\n",
       "      <th>Comments</th>\n",
       "      <th>Names</th>\n",
       "      <th>Check</th>\n",
       "      <th>new_column</th>\n",
       "    </tr>\n",
       "  </thead>\n",
       "  <tbody>\n",
       "    <tr>\n",
       "      <td>0</td>\n",
       "      <td>kamala harris: five million assault weapons ar...</td>\n",
       "      <td>Harris</td>\n",
       "      <td>True</td>\n",
       "      <td>[five, million, assault, weapons, streets, ame...</td>\n",
       "    </tr>\n",
       "    <tr>\n",
       "      <td>1</td>\n",
       "      <td>kamala harris: so what i am saying is that it ...</td>\n",
       "      <td>Harris</td>\n",
       "      <td>True</td>\n",
       "      <td>[saying, seems, would, able, join, saying, rul...</td>\n",
       "    </tr>\n",
       "    <tr>\n",
       "      <td>2</td>\n",
       "      <td>kamala harris: who has spent full time… who ha...</td>\n",
       "      <td>Harris</td>\n",
       "      <td>True</td>\n",
       "      <td>[spent, full, time, spent, full, time, critici...</td>\n",
       "    </tr>\n",
       "    <tr>\n",
       "      <td>3</td>\n",
       "      <td>elizabeth warren: so let’s be clear, whenever ...</td>\n",
       "      <td>Warren</td>\n",
       "      <td>True</td>\n",
       "      <td>[lets, clear, whenever, someone, hears, term, ...</td>\n",
       "    </tr>\n",
       "    <tr>\n",
       "      <td>4</td>\n",
       "      <td>elizabeth warren: this morning. i announced th...</td>\n",
       "      <td>Warren</td>\n",
       "      <td>True</td>\n",
       "      <td>[morning, announced, morning, im, going, take,...</td>\n",
       "    </tr>\n",
       "    <tr>\n",
       "      <td>...</td>\n",
       "      <td>...</td>\n",
       "      <td>...</td>\n",
       "      <td>...</td>\n",
       "      <td>...</td>\n",
       "    </tr>\n",
       "    <tr>\n",
       "      <td>523</td>\n",
       "      <td>amy klobuchar: first of all, i’ve made it very...</td>\n",
       "      <td>Klobuchar</td>\n",
       "      <td>True</td>\n",
       "      <td>[first, ive, made, clear, think, pete, qualifi...</td>\n",
       "    </tr>\n",
       "    <tr>\n",
       "      <td>524</td>\n",
       "      <td>elizabeth warren: yes. i think it should be. a...</td>\n",
       "      <td>Warren</td>\n",
       "      <td>True</td>\n",
       "      <td>[yes, think, three, brothers, served, military...</td>\n",
       "    </tr>\n",
       "    <tr>\n",
       "      <td>525</td>\n",
       "      <td>elizabeth warren: so i think the way we achiev...</td>\n",
       "      <td>Warren</td>\n",
       "      <td>True</td>\n",
       "      <td>[think, way, achieve, goals, bring, country, t...</td>\n",
       "    </tr>\n",
       "    <tr>\n",
       "      <td>526</td>\n",
       "      <td>kamala harris: i think that it’s unfortunate t...</td>\n",
       "      <td>Harris</td>\n",
       "      <td>True</td>\n",
       "      <td>[think, unfortunate, someone, stage, attemptin...</td>\n",
       "    </tr>\n",
       "    <tr>\n",
       "      <td>527</td>\n",
       "      <td>kamala harris: there are states that have pass...</td>\n",
       "      <td>Harris</td>\n",
       "      <td>True</td>\n",
       "      <td>[states, passed, laws, virtually, prevent, wom...</td>\n",
       "    </tr>\n",
       "  </tbody>\n",
       "</table>\n",
       "<p>528 rows × 4 columns</p>\n",
       "</div>"
      ],
      "text/plain": [
       "                                              Comments      Names Check  \\\n",
       "0    kamala harris: five million assault weapons ar...     Harris  True   \n",
       "1    kamala harris: so what i am saying is that it ...     Harris  True   \n",
       "2    kamala harris: who has spent full time… who ha...     Harris  True   \n",
       "3    elizabeth warren: so let’s be clear, whenever ...     Warren  True   \n",
       "4    elizabeth warren: this morning. i announced th...     Warren  True   \n",
       "..                                                 ...        ...   ...   \n",
       "523  amy klobuchar: first of all, i’ve made it very...  Klobuchar  True   \n",
       "524  elizabeth warren: yes. i think it should be. a...     Warren  True   \n",
       "525  elizabeth warren: so i think the way we achiev...     Warren  True   \n",
       "526  kamala harris: i think that it’s unfortunate t...     Harris  True   \n",
       "527  kamala harris: there are states that have pass...     Harris  True   \n",
       "\n",
       "                                            new_column  \n",
       "0    [five, million, assault, weapons, streets, ame...  \n",
       "1    [saying, seems, would, able, join, saying, rul...  \n",
       "2    [spent, full, time, spent, full, time, critici...  \n",
       "3    [lets, clear, whenever, someone, hears, term, ...  \n",
       "4    [morning, announced, morning, im, going, take,...  \n",
       "..                                                 ...  \n",
       "523  [first, ive, made, clear, think, pete, qualifi...  \n",
       "524  [yes, think, three, brothers, served, military...  \n",
       "525  [think, way, achieve, goals, bring, country, t...  \n",
       "526  [think, unfortunate, someone, stage, attemptin...  \n",
       "527  [states, passed, laws, virtually, prevent, wom...  \n",
       "\n",
       "[528 rows x 4 columns]"
      ]
     },
     "execution_count": 40,
     "metadata": {},
     "output_type": "execute_result"
    }
   ],
   "source": [
    "training_data_new"
   ]
  },
  {
   "cell_type": "markdown",
   "metadata": {},
   "source": [
    "We can successfully observe that the name of the politician is also removed. "
   ]
  },
  {
   "cell_type": "markdown",
   "metadata": {},
   "source": [
    "#### Problem - 4"
   ]
  },
  {
   "cell_type": "markdown",
   "metadata": {},
   "source": [
    "Stem/lemmatize your training data using a stemmer/lemmatizer of your choosing. Show a\n",
    "before and after using a few observations and comment on what you see."
   ]
  },
  {
   "cell_type": "markdown",
   "metadata": {},
   "source": [
    "#### Checking which is correct here,  Porter and Lancaster Stemmer "
   ]
  },
  {
   "cell_type": "code",
   "execution_count": 41,
   "metadata": {},
   "outputs": [],
   "source": [
    "from nltk.stem import PorterStemmer\n",
    "from nltk.stem import LancasterStemmer"
   ]
  },
  {
   "cell_type": "code",
   "execution_count": 42,
   "metadata": {},
   "outputs": [],
   "source": [
    "porter = PorterStemmer()\n",
    "lancaster=LancasterStemmer()"
   ]
  },
  {
   "cell_type": "markdown",
   "metadata": {},
   "source": [
    "#### Side by Side comparision of before and after Stemming."
   ]
  },
  {
   "cell_type": "code",
   "execution_count": 43,
   "metadata": {},
   "outputs": [],
   "source": [
    "Exact_Word = []\n",
    "Porter_Analysis = []\n",
    "Lancaster_Analysis = []\n",
    "for i in range(training_data_new.shape[0]):\n",
    "    for word in training_data_new.iloc[i]['new_column']:\n",
    "        Exact_Word.append(word)\n",
    "        Porter_Analysis.append(porter.stem(word))\n",
    "        Lancaster_Analysis.append(lancaster.stem(word))"
   ]
  },
  {
   "cell_type": "code",
   "execution_count": 44,
   "metadata": {},
   "outputs": [],
   "source": [
    "Porter_Lancaster = pd.DataFrame(\n",
    "    {'Words': Exact_Word,\n",
    "     'Porter Stemmer': Porter_Analysis,\n",
    "     'lancaster Stemmer': Lancaster_Analysis\n",
    "    })"
   ]
  },
  {
   "cell_type": "code",
   "execution_count": 45,
   "metadata": {},
   "outputs": [
    {
     "data": {
      "text/html": [
       "<div>\n",
       "<style scoped>\n",
       "    .dataframe tbody tr th:only-of-type {\n",
       "        vertical-align: middle;\n",
       "    }\n",
       "\n",
       "    .dataframe tbody tr th {\n",
       "        vertical-align: top;\n",
       "    }\n",
       "\n",
       "    .dataframe thead th {\n",
       "        text-align: right;\n",
       "    }\n",
       "</style>\n",
       "<table border=\"1\" class=\"dataframe\">\n",
       "  <thead>\n",
       "    <tr style=\"text-align: right;\">\n",
       "      <th></th>\n",
       "      <th>Words</th>\n",
       "      <th>Porter Stemmer</th>\n",
       "      <th>lancaster Stemmer</th>\n",
       "    </tr>\n",
       "  </thead>\n",
       "  <tbody>\n",
       "    <tr>\n",
       "      <td>0</td>\n",
       "      <td>five</td>\n",
       "      <td>five</td>\n",
       "      <td>fiv</td>\n",
       "    </tr>\n",
       "    <tr>\n",
       "      <td>1</td>\n",
       "      <td>million</td>\n",
       "      <td>million</td>\n",
       "      <td>mil</td>\n",
       "    </tr>\n",
       "    <tr>\n",
       "      <td>2</td>\n",
       "      <td>assault</td>\n",
       "      <td>assault</td>\n",
       "      <td>assault</td>\n",
       "    </tr>\n",
       "    <tr>\n",
       "      <td>3</td>\n",
       "      <td>weapons</td>\n",
       "      <td>weapon</td>\n",
       "      <td>weapon</td>\n",
       "    </tr>\n",
       "    <tr>\n",
       "      <td>4</td>\n",
       "      <td>streets</td>\n",
       "      <td>street</td>\n",
       "      <td>streets</td>\n",
       "    </tr>\n",
       "    <tr>\n",
       "      <td>...</td>\n",
       "      <td>...</td>\n",
       "      <td>...</td>\n",
       "      <td>...</td>\n",
       "    </tr>\n",
       "    <tr>\n",
       "      <td>30788</td>\n",
       "      <td>let</td>\n",
       "      <td>let</td>\n",
       "      <td>let</td>\n",
       "    </tr>\n",
       "    <tr>\n",
       "      <td>30789</td>\n",
       "      <td>women</td>\n",
       "      <td>women</td>\n",
       "      <td>wom</td>\n",
       "    </tr>\n",
       "    <tr>\n",
       "      <td>30790</td>\n",
       "      <td>make</td>\n",
       "      <td>make</td>\n",
       "      <td>mak</td>\n",
       "    </tr>\n",
       "    <tr>\n",
       "      <td>30791</td>\n",
       "      <td>decisions</td>\n",
       "      <td>decis</td>\n",
       "      <td>decid</td>\n",
       "    </tr>\n",
       "    <tr>\n",
       "      <td>30792</td>\n",
       "      <td>lives</td>\n",
       "      <td>live</td>\n",
       "      <td>liv</td>\n",
       "    </tr>\n",
       "  </tbody>\n",
       "</table>\n",
       "<p>30793 rows × 3 columns</p>\n",
       "</div>"
      ],
      "text/plain": [
       "           Words Porter Stemmer lancaster Stemmer\n",
       "0           five           five               fiv\n",
       "1        million        million               mil\n",
       "2        assault        assault           assault\n",
       "3        weapons         weapon            weapon\n",
       "4        streets         street           streets\n",
       "...          ...            ...               ...\n",
       "30788        let            let               let\n",
       "30789      women          women               wom\n",
       "30790       make           make               mak\n",
       "30791  decisions          decis             decid\n",
       "30792      lives           live               liv\n",
       "\n",
       "[30793 rows x 3 columns]"
      ]
     },
     "execution_count": 45,
     "metadata": {},
     "output_type": "execute_result"
    }
   ],
   "source": [
    "Porter_Lancaster"
   ]
  },
  {
   "cell_type": "markdown",
   "metadata": {},
   "source": [
    "We can observe side by side comparision b/w Porter and Lancaster Stemmer along with a before and after stemming example. "
   ]
  },
  {
   "cell_type": "markdown",
   "metadata": {},
   "source": [
    "#### Lemmatization "
   ]
  },
  {
   "cell_type": "code",
   "execution_count": 46,
   "metadata": {},
   "outputs": [],
   "source": [
    "from nltk.stem import WordNetLemmatizer\n",
    "wordnet_lemmatizer = WordNetLemmatizer()"
   ]
  },
  {
   "cell_type": "code",
   "execution_count": 47,
   "metadata": {},
   "outputs": [],
   "source": [
    "lemma = []\n",
    "for i in range(training_data_new.shape[0]):\n",
    "    for word in training_data_new.iloc[i]['new_column']:\n",
    "        lemma.append(wordnet_lemmatizer.lemmatize(word))"
   ]
  },
  {
   "cell_type": "markdown",
   "metadata": {},
   "source": [
    "#### Comparision between Porter, Lancaster stemming and Lemmitization. "
   ]
  },
  {
   "cell_type": "code",
   "execution_count": 48,
   "metadata": {},
   "outputs": [],
   "source": [
    "Porter_Lancaster_Lemmatization = pd.DataFrame(\n",
    "    {'Words': Exact_Word,\n",
    "     'Porter Stemmer': Porter_Analysis,\n",
    "     'lancaster Stemmer': Lancaster_Analysis,\n",
    "     'Lemmatization':lemma\n",
    "    })"
   ]
  },
  {
   "cell_type": "code",
   "execution_count": 49,
   "metadata": {},
   "outputs": [
    {
     "data": {
      "text/html": [
       "<div>\n",
       "<style scoped>\n",
       "    .dataframe tbody tr th:only-of-type {\n",
       "        vertical-align: middle;\n",
       "    }\n",
       "\n",
       "    .dataframe tbody tr th {\n",
       "        vertical-align: top;\n",
       "    }\n",
       "\n",
       "    .dataframe thead th {\n",
       "        text-align: right;\n",
       "    }\n",
       "</style>\n",
       "<table border=\"1\" class=\"dataframe\">\n",
       "  <thead>\n",
       "    <tr style=\"text-align: right;\">\n",
       "      <th></th>\n",
       "      <th>Words</th>\n",
       "      <th>Porter Stemmer</th>\n",
       "      <th>lancaster Stemmer</th>\n",
       "      <th>Lemmatization</th>\n",
       "    </tr>\n",
       "  </thead>\n",
       "  <tbody>\n",
       "    <tr>\n",
       "      <td>0</td>\n",
       "      <td>five</td>\n",
       "      <td>five</td>\n",
       "      <td>fiv</td>\n",
       "      <td>five</td>\n",
       "    </tr>\n",
       "    <tr>\n",
       "      <td>1</td>\n",
       "      <td>million</td>\n",
       "      <td>million</td>\n",
       "      <td>mil</td>\n",
       "      <td>million</td>\n",
       "    </tr>\n",
       "    <tr>\n",
       "      <td>2</td>\n",
       "      <td>assault</td>\n",
       "      <td>assault</td>\n",
       "      <td>assault</td>\n",
       "      <td>assault</td>\n",
       "    </tr>\n",
       "    <tr>\n",
       "      <td>3</td>\n",
       "      <td>weapons</td>\n",
       "      <td>weapon</td>\n",
       "      <td>weapon</td>\n",
       "      <td>weapon</td>\n",
       "    </tr>\n",
       "    <tr>\n",
       "      <td>4</td>\n",
       "      <td>streets</td>\n",
       "      <td>street</td>\n",
       "      <td>streets</td>\n",
       "      <td>street</td>\n",
       "    </tr>\n",
       "    <tr>\n",
       "      <td>5</td>\n",
       "      <td>america</td>\n",
       "      <td>america</td>\n",
       "      <td>americ</td>\n",
       "      <td>america</td>\n",
       "    </tr>\n",
       "    <tr>\n",
       "      <td>6</td>\n",
       "      <td>today</td>\n",
       "      <td>today</td>\n",
       "      <td>today</td>\n",
       "      <td>today</td>\n",
       "    </tr>\n",
       "    <tr>\n",
       "      <td>7</td>\n",
       "      <td>course</td>\n",
       "      <td>cours</td>\n",
       "      <td>cours</td>\n",
       "      <td>course</td>\n",
       "    </tr>\n",
       "    <tr>\n",
       "      <td>8</td>\n",
       "      <td>debate</td>\n",
       "      <td>debat</td>\n",
       "      <td>deb</td>\n",
       "      <td>debate</td>\n",
       "    </tr>\n",
       "    <tr>\n",
       "      <td>9</td>\n",
       "      <td>eight</td>\n",
       "      <td>eight</td>\n",
       "      <td>eight</td>\n",
       "      <td>eight</td>\n",
       "    </tr>\n",
       "    <tr>\n",
       "      <td>10</td>\n",
       "      <td>people</td>\n",
       "      <td>peopl</td>\n",
       "      <td>peopl</td>\n",
       "      <td>people</td>\n",
       "    </tr>\n",
       "    <tr>\n",
       "      <td>11</td>\n",
       "      <td>die</td>\n",
       "      <td>die</td>\n",
       "      <td>die</td>\n",
       "      <td>die</td>\n",
       "    </tr>\n",
       "    <tr>\n",
       "      <td>12</td>\n",
       "      <td>gun</td>\n",
       "      <td>gun</td>\n",
       "      <td>gun</td>\n",
       "      <td>gun</td>\n",
       "    </tr>\n",
       "    <tr>\n",
       "      <td>13</td>\n",
       "      <td>violence</td>\n",
       "      <td>violenc</td>\n",
       "      <td>viol</td>\n",
       "      <td>violence</td>\n",
       "    </tr>\n",
       "    <tr>\n",
       "      <td>14</td>\n",
       "      <td>leading</td>\n",
       "      <td>lead</td>\n",
       "      <td>lead</td>\n",
       "      <td>leading</td>\n",
       "    </tr>\n",
       "    <tr>\n",
       "      <td>15</td>\n",
       "      <td>cause</td>\n",
       "      <td>caus</td>\n",
       "      <td>caus</td>\n",
       "      <td>cause</td>\n",
       "    </tr>\n",
       "    <tr>\n",
       "      <td>16</td>\n",
       "      <td>death</td>\n",
       "      <td>death</td>\n",
       "      <td>dea</td>\n",
       "      <td>death</td>\n",
       "    </tr>\n",
       "    <tr>\n",
       "      <td>17</td>\n",
       "      <td>young</td>\n",
       "      <td>young</td>\n",
       "      <td>young</td>\n",
       "      <td>young</td>\n",
       "    </tr>\n",
       "    <tr>\n",
       "      <td>18</td>\n",
       "      <td>black</td>\n",
       "      <td>black</td>\n",
       "      <td>black</td>\n",
       "      <td>black</td>\n",
       "    </tr>\n",
       "    <tr>\n",
       "      <td>19</td>\n",
       "      <td>men</td>\n",
       "      <td>men</td>\n",
       "      <td>men</td>\n",
       "      <td>men</td>\n",
       "    </tr>\n",
       "    <tr>\n",
       "      <td>20</td>\n",
       "      <td>america</td>\n",
       "      <td>america</td>\n",
       "      <td>americ</td>\n",
       "      <td>america</td>\n",
       "    </tr>\n",
       "    <tr>\n",
       "      <td>21</td>\n",
       "      <td>gun</td>\n",
       "      <td>gun</td>\n",
       "      <td>gun</td>\n",
       "      <td>gun</td>\n",
       "    </tr>\n",
       "    <tr>\n",
       "      <td>22</td>\n",
       "      <td>violence</td>\n",
       "      <td>violenc</td>\n",
       "      <td>viol</td>\n",
       "      <td>violence</td>\n",
       "    </tr>\n",
       "    <tr>\n",
       "      <td>23</td>\n",
       "      <td>top</td>\n",
       "      <td>top</td>\n",
       "      <td>top</td>\n",
       "      <td>top</td>\n",
       "    </tr>\n",
       "    <tr>\n",
       "      <td>24</td>\n",
       "      <td>six</td>\n",
       "      <td>six</td>\n",
       "      <td>six</td>\n",
       "      <td>six</td>\n",
       "    </tr>\n",
       "    <tr>\n",
       "      <td>25</td>\n",
       "      <td>reasons</td>\n",
       "      <td>reason</td>\n",
       "      <td>reason</td>\n",
       "      <td>reason</td>\n",
       "    </tr>\n",
       "    <tr>\n",
       "      <td>26</td>\n",
       "      <td>totaled</td>\n",
       "      <td>total</td>\n",
       "      <td>tot</td>\n",
       "      <td>totaled</td>\n",
       "    </tr>\n",
       "    <tr>\n",
       "      <td>27</td>\n",
       "      <td>serious</td>\n",
       "      <td>seriou</td>\n",
       "      <td>sery</td>\n",
       "      <td>serious</td>\n",
       "    </tr>\n",
       "    <tr>\n",
       "      <td>28</td>\n",
       "      <td>matter</td>\n",
       "      <td>matter</td>\n",
       "      <td>mat</td>\n",
       "      <td>matter</td>\n",
       "    </tr>\n",
       "    <tr>\n",
       "      <td>29</td>\n",
       "      <td>personally</td>\n",
       "      <td>person</td>\n",
       "      <td>person</td>\n",
       "      <td>personally</td>\n",
       "    </tr>\n",
       "    <tr>\n",
       "      <td>30</td>\n",
       "      <td>hugged</td>\n",
       "      <td>hug</td>\n",
       "      <td>hug</td>\n",
       "      <td>hugged</td>\n",
       "    </tr>\n",
       "    <tr>\n",
       "      <td>31</td>\n",
       "      <td>mothers</td>\n",
       "      <td>mother</td>\n",
       "      <td>moth</td>\n",
       "      <td>mother</td>\n",
       "    </tr>\n",
       "    <tr>\n",
       "      <td>32</td>\n",
       "      <td>homicide</td>\n",
       "      <td>homicid</td>\n",
       "      <td>homicid</td>\n",
       "      <td>homicide</td>\n",
       "    </tr>\n",
       "    <tr>\n",
       "      <td>33</td>\n",
       "      <td>victims</td>\n",
       "      <td>victim</td>\n",
       "      <td>victim</td>\n",
       "      <td>victim</td>\n",
       "    </tr>\n",
       "    <tr>\n",
       "      <td>34</td>\n",
       "      <td>care</td>\n",
       "      <td>care</td>\n",
       "      <td>car</td>\n",
       "      <td>care</td>\n",
       "    </tr>\n",
       "    <tr>\n",
       "      <td>35</td>\n",
       "      <td>tell</td>\n",
       "      <td>tell</td>\n",
       "      <td>tel</td>\n",
       "      <td>tell</td>\n",
       "    </tr>\n",
       "    <tr>\n",
       "      <td>36</td>\n",
       "      <td>looked</td>\n",
       "      <td>look</td>\n",
       "      <td>look</td>\n",
       "      <td>looked</td>\n",
       "    </tr>\n",
       "    <tr>\n",
       "      <td>37</td>\n",
       "      <td>autopsy</td>\n",
       "      <td>autopsi</td>\n",
       "      <td>autopsy</td>\n",
       "      <td>autopsy</td>\n",
       "    </tr>\n",
       "    <tr>\n",
       "      <td>38</td>\n",
       "      <td>photographs</td>\n",
       "      <td>photograph</td>\n",
       "      <td>photograph</td>\n",
       "      <td>photograph</td>\n",
       "    </tr>\n",
       "    <tr>\n",
       "      <td>39</td>\n",
       "      <td>care</td>\n",
       "      <td>care</td>\n",
       "      <td>car</td>\n",
       "      <td>care</td>\n",
       "    </tr>\n",
       "    <tr>\n",
       "      <td>40</td>\n",
       "      <td>tell</td>\n",
       "      <td>tell</td>\n",
       "      <td>tel</td>\n",
       "      <td>tell</td>\n",
       "    </tr>\n",
       "    <tr>\n",
       "      <td>41</td>\n",
       "      <td>attended</td>\n",
       "      <td>attend</td>\n",
       "      <td>attend</td>\n",
       "      <td>attended</td>\n",
       "    </tr>\n",
       "    <tr>\n",
       "      <td>42</td>\n",
       "      <td>police</td>\n",
       "      <td>polic</td>\n",
       "      <td>pol</td>\n",
       "      <td>police</td>\n",
       "    </tr>\n",
       "    <tr>\n",
       "      <td>43</td>\n",
       "      <td>officer</td>\n",
       "      <td>offic</td>\n",
       "      <td>off</td>\n",
       "      <td>officer</td>\n",
       "    </tr>\n",
       "    <tr>\n",
       "      <td>44</td>\n",
       "      <td>funerals</td>\n",
       "      <td>funer</td>\n",
       "      <td>fun</td>\n",
       "      <td>funeral</td>\n",
       "    </tr>\n",
       "    <tr>\n",
       "      <td>45</td>\n",
       "      <td>care</td>\n",
       "      <td>care</td>\n",
       "      <td>car</td>\n",
       "      <td>care</td>\n",
       "    </tr>\n",
       "    <tr>\n",
       "      <td>46</td>\n",
       "      <td>tell</td>\n",
       "      <td>tell</td>\n",
       "      <td>tel</td>\n",
       "      <td>tell</td>\n",
       "    </tr>\n",
       "    <tr>\n",
       "      <td>47</td>\n",
       "      <td>im</td>\n",
       "      <td>im</td>\n",
       "      <td>im</td>\n",
       "      <td>im</td>\n",
       "    </tr>\n",
       "    <tr>\n",
       "      <td>48</td>\n",
       "      <td>done</td>\n",
       "      <td>done</td>\n",
       "      <td>don</td>\n",
       "      <td>done</td>\n",
       "    </tr>\n",
       "    <tr>\n",
       "      <td>49</td>\n",
       "      <td>need</td>\n",
       "      <td>need</td>\n",
       "      <td>nee</td>\n",
       "      <td>need</td>\n",
       "    </tr>\n",
       "  </tbody>\n",
       "</table>\n",
       "</div>"
      ],
      "text/plain": [
       "          Words Porter Stemmer lancaster Stemmer Lemmatization\n",
       "0          five           five               fiv          five\n",
       "1       million        million               mil       million\n",
       "2       assault        assault           assault       assault\n",
       "3       weapons         weapon            weapon        weapon\n",
       "4       streets         street           streets        street\n",
       "5       america        america            americ       america\n",
       "6         today          today             today         today\n",
       "7        course          cours             cours        course\n",
       "8        debate          debat               deb        debate\n",
       "9         eight          eight             eight         eight\n",
       "10       people          peopl             peopl        people\n",
       "11          die            die               die           die\n",
       "12          gun            gun               gun           gun\n",
       "13     violence        violenc              viol      violence\n",
       "14      leading           lead              lead       leading\n",
       "15        cause           caus              caus         cause\n",
       "16        death          death               dea         death\n",
       "17        young          young             young         young\n",
       "18        black          black             black         black\n",
       "19          men            men               men           men\n",
       "20      america        america            americ       america\n",
       "21          gun            gun               gun           gun\n",
       "22     violence        violenc              viol      violence\n",
       "23          top            top               top           top\n",
       "24          six            six               six           six\n",
       "25      reasons         reason            reason        reason\n",
       "26      totaled          total               tot       totaled\n",
       "27      serious         seriou              sery       serious\n",
       "28       matter         matter               mat        matter\n",
       "29   personally         person            person    personally\n",
       "30       hugged            hug               hug        hugged\n",
       "31      mothers         mother              moth        mother\n",
       "32     homicide        homicid           homicid      homicide\n",
       "33      victims         victim            victim        victim\n",
       "34         care           care               car          care\n",
       "35         tell           tell               tel          tell\n",
       "36       looked           look              look        looked\n",
       "37      autopsy        autopsi           autopsy       autopsy\n",
       "38  photographs     photograph        photograph    photograph\n",
       "39         care           care               car          care\n",
       "40         tell           tell               tel          tell\n",
       "41     attended         attend            attend      attended\n",
       "42       police          polic               pol        police\n",
       "43      officer          offic               off       officer\n",
       "44     funerals          funer               fun       funeral\n",
       "45         care           care               car          care\n",
       "46         tell           tell               tel          tell\n",
       "47           im             im                im            im\n",
       "48         done           done               don          done\n",
       "49         need           need               nee          need"
      ]
     },
     "execution_count": 49,
     "metadata": {},
     "output_type": "execute_result"
    }
   ],
   "source": [
    "Porter_Lancaster_Lemmatization.head(50)"
   ]
  },
  {
   "cell_type": "markdown",
   "metadata": {},
   "source": [
    "After observing the side by side comparision between the analysis results through stemming (Porter and Lancaster) and Lemmatization we see that it is better to go with Lemmatization and additionally as seen that Lemmatization makes the computation longer but we don't have a lot of observations we can go with it. So we decide to move with Lemmitization."
   ]
  },
  {
   "cell_type": "markdown",
   "metadata": {},
   "source": [
    "#### Finally Choosing Lemmatization"
   ]
  },
  {
   "cell_type": "code",
   "execution_count": 50,
   "metadata": {},
   "outputs": [],
   "source": [
    "from nltk.stem import WordNetLemmatizer\n",
    "wordnet_lemmatizer = WordNetLemmatizer()\n",
    "training_data_new['Final'] = training_data_new['new_column'].apply(lambda x: ([wordnet_lemmatizer.lemmatize(k) for k in x]))\n"
   ]
  },
  {
   "cell_type": "markdown",
   "metadata": {},
   "source": [
    "#### Creating a new column under the name of Final"
   ]
  },
  {
   "cell_type": "markdown",
   "metadata": {},
   "source": [
    "Removing the list and converting it to strings"
   ]
  },
  {
   "cell_type": "code",
   "execution_count": 51,
   "metadata": {},
   "outputs": [],
   "source": [
    "training_data_new['Final'] = training_data_new['Final'].apply(lambda x: (\" \".join(x)))"
   ]
  },
  {
   "cell_type": "code",
   "execution_count": 52,
   "metadata": {},
   "outputs": [
    {
     "data": {
      "text/html": [
       "<div>\n",
       "<style scoped>\n",
       "    .dataframe tbody tr th:only-of-type {\n",
       "        vertical-align: middle;\n",
       "    }\n",
       "\n",
       "    .dataframe tbody tr th {\n",
       "        vertical-align: top;\n",
       "    }\n",
       "\n",
       "    .dataframe thead th {\n",
       "        text-align: right;\n",
       "    }\n",
       "</style>\n",
       "<table border=\"1\" class=\"dataframe\">\n",
       "  <thead>\n",
       "    <tr style=\"text-align: right;\">\n",
       "      <th></th>\n",
       "      <th>Comments</th>\n",
       "      <th>Names</th>\n",
       "      <th>Check</th>\n",
       "      <th>new_column</th>\n",
       "      <th>Final</th>\n",
       "    </tr>\n",
       "  </thead>\n",
       "  <tbody>\n",
       "    <tr>\n",
       "      <td>0</td>\n",
       "      <td>kamala harris: five million assault weapons ar...</td>\n",
       "      <td>Harris</td>\n",
       "      <td>True</td>\n",
       "      <td>[five, million, assault, weapons, streets, ame...</td>\n",
       "      <td>five million assault weapon street america tod...</td>\n",
       "    </tr>\n",
       "    <tr>\n",
       "      <td>1</td>\n",
       "      <td>kamala harris: so what i am saying is that it ...</td>\n",
       "      <td>Harris</td>\n",
       "      <td>True</td>\n",
       "      <td>[saying, seems, would, able, join, saying, rul...</td>\n",
       "      <td>saying seems would able join saying rule apply...</td>\n",
       "    </tr>\n",
       "    <tr>\n",
       "      <td>2</td>\n",
       "      <td>kamala harris: who has spent full time… who ha...</td>\n",
       "      <td>Harris</td>\n",
       "      <td>True</td>\n",
       "      <td>[spent, full, time, spent, full, time, critici...</td>\n",
       "      <td>spent full time spent full time criticizing pe...</td>\n",
       "    </tr>\n",
       "    <tr>\n",
       "      <td>3</td>\n",
       "      <td>elizabeth warren: so let’s be clear, whenever ...</td>\n",
       "      <td>Warren</td>\n",
       "      <td>True</td>\n",
       "      <td>[lets, clear, whenever, someone, hears, term, ...</td>\n",
       "      <td>let clear whenever someone hears term medicare...</td>\n",
       "    </tr>\n",
       "    <tr>\n",
       "      <td>4</td>\n",
       "      <td>elizabeth warren: this morning. i announced th...</td>\n",
       "      <td>Warren</td>\n",
       "      <td>True</td>\n",
       "      <td>[morning, announced, morning, im, going, take,...</td>\n",
       "      <td>morning announced morning im going take money ...</td>\n",
       "    </tr>\n",
       "    <tr>\n",
       "      <td>...</td>\n",
       "      <td>...</td>\n",
       "      <td>...</td>\n",
       "      <td>...</td>\n",
       "      <td>...</td>\n",
       "      <td>...</td>\n",
       "    </tr>\n",
       "    <tr>\n",
       "      <td>523</td>\n",
       "      <td>amy klobuchar: first of all, i’ve made it very...</td>\n",
       "      <td>Klobuchar</td>\n",
       "      <td>True</td>\n",
       "      <td>[first, ive, made, clear, think, pete, qualifi...</td>\n",
       "      <td>first ive made clear think pete qualified stag...</td>\n",
       "    </tr>\n",
       "    <tr>\n",
       "      <td>524</td>\n",
       "      <td>elizabeth warren: yes. i think it should be. a...</td>\n",
       "      <td>Warren</td>\n",
       "      <td>True</td>\n",
       "      <td>[yes, think, three, brothers, served, military...</td>\n",
       "      <td>yes think three brother served military one ca...</td>\n",
       "    </tr>\n",
       "    <tr>\n",
       "      <td>525</td>\n",
       "      <td>elizabeth warren: so i think the way we achiev...</td>\n",
       "      <td>Warren</td>\n",
       "      <td>True</td>\n",
       "      <td>[think, way, achieve, goals, bring, country, t...</td>\n",
       "      <td>think way achieve goal bring country together ...</td>\n",
       "    </tr>\n",
       "    <tr>\n",
       "      <td>526</td>\n",
       "      <td>kamala harris: i think that it’s unfortunate t...</td>\n",
       "      <td>Harris</td>\n",
       "      <td>True</td>\n",
       "      <td>[think, unfortunate, someone, stage, attemptin...</td>\n",
       "      <td>think unfortunate someone stage attempting dem...</td>\n",
       "    </tr>\n",
       "    <tr>\n",
       "      <td>527</td>\n",
       "      <td>kamala harris: there are states that have pass...</td>\n",
       "      <td>Harris</td>\n",
       "      <td>True</td>\n",
       "      <td>[states, passed, laws, virtually, prevent, wom...</td>\n",
       "      <td>state passed law virtually prevent woman acces...</td>\n",
       "    </tr>\n",
       "  </tbody>\n",
       "</table>\n",
       "<p>528 rows × 5 columns</p>\n",
       "</div>"
      ],
      "text/plain": [
       "                                              Comments      Names Check  \\\n",
       "0    kamala harris: five million assault weapons ar...     Harris  True   \n",
       "1    kamala harris: so what i am saying is that it ...     Harris  True   \n",
       "2    kamala harris: who has spent full time… who ha...     Harris  True   \n",
       "3    elizabeth warren: so let’s be clear, whenever ...     Warren  True   \n",
       "4    elizabeth warren: this morning. i announced th...     Warren  True   \n",
       "..                                                 ...        ...   ...   \n",
       "523  amy klobuchar: first of all, i’ve made it very...  Klobuchar  True   \n",
       "524  elizabeth warren: yes. i think it should be. a...     Warren  True   \n",
       "525  elizabeth warren: so i think the way we achiev...     Warren  True   \n",
       "526  kamala harris: i think that it’s unfortunate t...     Harris  True   \n",
       "527  kamala harris: there are states that have pass...     Harris  True   \n",
       "\n",
       "                                            new_column  \\\n",
       "0    [five, million, assault, weapons, streets, ame...   \n",
       "1    [saying, seems, would, able, join, saying, rul...   \n",
       "2    [spent, full, time, spent, full, time, critici...   \n",
       "3    [lets, clear, whenever, someone, hears, term, ...   \n",
       "4    [morning, announced, morning, im, going, take,...   \n",
       "..                                                 ...   \n",
       "523  [first, ive, made, clear, think, pete, qualifi...   \n",
       "524  [yes, think, three, brothers, served, military...   \n",
       "525  [think, way, achieve, goals, bring, country, t...   \n",
       "526  [think, unfortunate, someone, stage, attemptin...   \n",
       "527  [states, passed, laws, virtually, prevent, wom...   \n",
       "\n",
       "                                                 Final  \n",
       "0    five million assault weapon street america tod...  \n",
       "1    saying seems would able join saying rule apply...  \n",
       "2    spent full time spent full time criticizing pe...  \n",
       "3    let clear whenever someone hears term medicare...  \n",
       "4    morning announced morning im going take money ...  \n",
       "..                                                 ...  \n",
       "523  first ive made clear think pete qualified stag...  \n",
       "524  yes think three brother served military one ca...  \n",
       "525  think way achieve goal bring country together ...  \n",
       "526  think unfortunate someone stage attempting dem...  \n",
       "527  state passed law virtually prevent woman acces...  \n",
       "\n",
       "[528 rows x 5 columns]"
      ]
     },
     "execution_count": 52,
     "metadata": {},
     "output_type": "execute_result"
    }
   ],
   "source": [
    "training_data_new"
   ]
  },
  {
   "cell_type": "code",
   "execution_count": 53,
   "metadata": {},
   "outputs": [],
   "source": [
    "vectorizer = CountVectorizer()\n",
    "X = vectorizer.fit_transform(training_data_new.Final.values)"
   ]
  },
  {
   "cell_type": "markdown",
   "metadata": {},
   "source": [
    "#### Converting sparse matrix into a Pandas Dataframe"
   ]
  },
  {
   "cell_type": "code",
   "execution_count": 55,
   "metadata": {},
   "outputs": [],
   "source": [
    "training_matrix_df = pd.DataFrame.sparse.from_spmatrix(X)"
   ]
  },
  {
   "cell_type": "code",
   "execution_count": 56,
   "metadata": {},
   "outputs": [
    {
     "data": {
      "text/html": [
       "<div>\n",
       "<style scoped>\n",
       "    .dataframe tbody tr th:only-of-type {\n",
       "        vertical-align: middle;\n",
       "    }\n",
       "\n",
       "    .dataframe tbody tr th {\n",
       "        vertical-align: top;\n",
       "    }\n",
       "\n",
       "    .dataframe thead th {\n",
       "        text-align: right;\n",
       "    }\n",
       "</style>\n",
       "<table border=\"1\" class=\"dataframe\">\n",
       "  <thead>\n",
       "    <tr style=\"text-align: right;\">\n",
       "      <th></th>\n",
       "      <th>0</th>\n",
       "      <th>1</th>\n",
       "      <th>2</th>\n",
       "      <th>3</th>\n",
       "      <th>4</th>\n",
       "      <th>5</th>\n",
       "      <th>6</th>\n",
       "      <th>7</th>\n",
       "      <th>8</th>\n",
       "      <th>9</th>\n",
       "      <th>...</th>\n",
       "      <th>4477</th>\n",
       "      <th>4478</th>\n",
       "      <th>4479</th>\n",
       "      <th>4480</th>\n",
       "      <th>4481</th>\n",
       "      <th>4482</th>\n",
       "      <th>4483</th>\n",
       "      <th>4484</th>\n",
       "      <th>4485</th>\n",
       "      <th>4486</th>\n",
       "    </tr>\n",
       "  </thead>\n",
       "  <tbody>\n",
       "    <tr>\n",
       "      <td>0</td>\n",
       "      <td>0</td>\n",
       "      <td>0</td>\n",
       "      <td>0</td>\n",
       "      <td>1</td>\n",
       "      <td>0</td>\n",
       "      <td>0</td>\n",
       "      <td>0</td>\n",
       "      <td>0</td>\n",
       "      <td>0</td>\n",
       "      <td>0</td>\n",
       "      <td>...</td>\n",
       "      <td>0</td>\n",
       "      <td>0</td>\n",
       "      <td>1</td>\n",
       "      <td>0</td>\n",
       "      <td>0</td>\n",
       "      <td>0</td>\n",
       "      <td>0</td>\n",
       "      <td>0</td>\n",
       "      <td>0</td>\n",
       "      <td>0</td>\n",
       "    </tr>\n",
       "    <tr>\n",
       "      <td>1</td>\n",
       "      <td>0</td>\n",
       "      <td>0</td>\n",
       "      <td>0</td>\n",
       "      <td>0</td>\n",
       "      <td>0</td>\n",
       "      <td>0</td>\n",
       "      <td>0</td>\n",
       "      <td>0</td>\n",
       "      <td>0</td>\n",
       "      <td>0</td>\n",
       "      <td>...</td>\n",
       "      <td>0</td>\n",
       "      <td>0</td>\n",
       "      <td>0</td>\n",
       "      <td>0</td>\n",
       "      <td>0</td>\n",
       "      <td>0</td>\n",
       "      <td>0</td>\n",
       "      <td>0</td>\n",
       "      <td>0</td>\n",
       "      <td>0</td>\n",
       "    </tr>\n",
       "    <tr>\n",
       "      <td>2</td>\n",
       "      <td>0</td>\n",
       "      <td>0</td>\n",
       "      <td>0</td>\n",
       "      <td>0</td>\n",
       "      <td>0</td>\n",
       "      <td>0</td>\n",
       "      <td>0</td>\n",
       "      <td>0</td>\n",
       "      <td>0</td>\n",
       "      <td>0</td>\n",
       "      <td>...</td>\n",
       "      <td>0</td>\n",
       "      <td>0</td>\n",
       "      <td>0</td>\n",
       "      <td>0</td>\n",
       "      <td>0</td>\n",
       "      <td>0</td>\n",
       "      <td>0</td>\n",
       "      <td>0</td>\n",
       "      <td>0</td>\n",
       "      <td>0</td>\n",
       "    </tr>\n",
       "    <tr>\n",
       "      <td>3</td>\n",
       "      <td>0</td>\n",
       "      <td>0</td>\n",
       "      <td>0</td>\n",
       "      <td>0</td>\n",
       "      <td>0</td>\n",
       "      <td>0</td>\n",
       "      <td>0</td>\n",
       "      <td>0</td>\n",
       "      <td>0</td>\n",
       "      <td>0</td>\n",
       "      <td>...</td>\n",
       "      <td>0</td>\n",
       "      <td>0</td>\n",
       "      <td>0</td>\n",
       "      <td>0</td>\n",
       "      <td>0</td>\n",
       "      <td>0</td>\n",
       "      <td>0</td>\n",
       "      <td>0</td>\n",
       "      <td>0</td>\n",
       "      <td>0</td>\n",
       "    </tr>\n",
       "    <tr>\n",
       "      <td>4</td>\n",
       "      <td>0</td>\n",
       "      <td>0</td>\n",
       "      <td>0</td>\n",
       "      <td>0</td>\n",
       "      <td>0</td>\n",
       "      <td>0</td>\n",
       "      <td>0</td>\n",
       "      <td>0</td>\n",
       "      <td>0</td>\n",
       "      <td>0</td>\n",
       "      <td>...</td>\n",
       "      <td>0</td>\n",
       "      <td>0</td>\n",
       "      <td>0</td>\n",
       "      <td>0</td>\n",
       "      <td>0</td>\n",
       "      <td>0</td>\n",
       "      <td>0</td>\n",
       "      <td>0</td>\n",
       "      <td>0</td>\n",
       "      <td>0</td>\n",
       "    </tr>\n",
       "    <tr>\n",
       "      <td>...</td>\n",
       "      <td>...</td>\n",
       "      <td>...</td>\n",
       "      <td>...</td>\n",
       "      <td>...</td>\n",
       "      <td>...</td>\n",
       "      <td>...</td>\n",
       "      <td>...</td>\n",
       "      <td>...</td>\n",
       "      <td>...</td>\n",
       "      <td>...</td>\n",
       "      <td>...</td>\n",
       "      <td>...</td>\n",
       "      <td>...</td>\n",
       "      <td>...</td>\n",
       "      <td>...</td>\n",
       "      <td>...</td>\n",
       "      <td>...</td>\n",
       "      <td>...</td>\n",
       "      <td>...</td>\n",
       "      <td>...</td>\n",
       "      <td>...</td>\n",
       "    </tr>\n",
       "    <tr>\n",
       "      <td>523</td>\n",
       "      <td>0</td>\n",
       "      <td>0</td>\n",
       "      <td>0</td>\n",
       "      <td>0</td>\n",
       "      <td>0</td>\n",
       "      <td>0</td>\n",
       "      <td>0</td>\n",
       "      <td>0</td>\n",
       "      <td>0</td>\n",
       "      <td>0</td>\n",
       "      <td>...</td>\n",
       "      <td>0</td>\n",
       "      <td>0</td>\n",
       "      <td>0</td>\n",
       "      <td>0</td>\n",
       "      <td>0</td>\n",
       "      <td>0</td>\n",
       "      <td>0</td>\n",
       "      <td>0</td>\n",
       "      <td>0</td>\n",
       "      <td>0</td>\n",
       "    </tr>\n",
       "    <tr>\n",
       "      <td>524</td>\n",
       "      <td>0</td>\n",
       "      <td>0</td>\n",
       "      <td>0</td>\n",
       "      <td>0</td>\n",
       "      <td>0</td>\n",
       "      <td>1</td>\n",
       "      <td>0</td>\n",
       "      <td>0</td>\n",
       "      <td>0</td>\n",
       "      <td>0</td>\n",
       "      <td>...</td>\n",
       "      <td>0</td>\n",
       "      <td>0</td>\n",
       "      <td>0</td>\n",
       "      <td>0</td>\n",
       "      <td>0</td>\n",
       "      <td>0</td>\n",
       "      <td>0</td>\n",
       "      <td>0</td>\n",
       "      <td>0</td>\n",
       "      <td>0</td>\n",
       "    </tr>\n",
       "    <tr>\n",
       "      <td>525</td>\n",
       "      <td>0</td>\n",
       "      <td>0</td>\n",
       "      <td>0</td>\n",
       "      <td>0</td>\n",
       "      <td>0</td>\n",
       "      <td>0</td>\n",
       "      <td>0</td>\n",
       "      <td>0</td>\n",
       "      <td>0</td>\n",
       "      <td>0</td>\n",
       "      <td>...</td>\n",
       "      <td>0</td>\n",
       "      <td>0</td>\n",
       "      <td>0</td>\n",
       "      <td>0</td>\n",
       "      <td>0</td>\n",
       "      <td>2</td>\n",
       "      <td>0</td>\n",
       "      <td>0</td>\n",
       "      <td>0</td>\n",
       "      <td>0</td>\n",
       "    </tr>\n",
       "    <tr>\n",
       "      <td>526</td>\n",
       "      <td>0</td>\n",
       "      <td>0</td>\n",
       "      <td>0</td>\n",
       "      <td>0</td>\n",
       "      <td>0</td>\n",
       "      <td>0</td>\n",
       "      <td>0</td>\n",
       "      <td>0</td>\n",
       "      <td>0</td>\n",
       "      <td>0</td>\n",
       "      <td>...</td>\n",
       "      <td>0</td>\n",
       "      <td>0</td>\n",
       "      <td>0</td>\n",
       "      <td>0</td>\n",
       "      <td>0</td>\n",
       "      <td>0</td>\n",
       "      <td>0</td>\n",
       "      <td>0</td>\n",
       "      <td>0</td>\n",
       "      <td>0</td>\n",
       "    </tr>\n",
       "    <tr>\n",
       "      <td>527</td>\n",
       "      <td>0</td>\n",
       "      <td>0</td>\n",
       "      <td>0</td>\n",
       "      <td>0</td>\n",
       "      <td>0</td>\n",
       "      <td>0</td>\n",
       "      <td>0</td>\n",
       "      <td>0</td>\n",
       "      <td>0</td>\n",
       "      <td>0</td>\n",
       "      <td>...</td>\n",
       "      <td>0</td>\n",
       "      <td>0</td>\n",
       "      <td>0</td>\n",
       "      <td>0</td>\n",
       "      <td>0</td>\n",
       "      <td>0</td>\n",
       "      <td>0</td>\n",
       "      <td>0</td>\n",
       "      <td>0</td>\n",
       "      <td>0</td>\n",
       "    </tr>\n",
       "  </tbody>\n",
       "</table>\n",
       "<p>528 rows × 4487 columns</p>\n",
       "</div>"
      ],
      "text/plain": [
       "     0     1     2     3     4     5     6     7     8     9     ...  4477  \\\n",
       "0       0     0     0     1     0     0     0     0     0     0  ...     0   \n",
       "1       0     0     0     0     0     0     0     0     0     0  ...     0   \n",
       "2       0     0     0     0     0     0     0     0     0     0  ...     0   \n",
       "3       0     0     0     0     0     0     0     0     0     0  ...     0   \n",
       "4       0     0     0     0     0     0     0     0     0     0  ...     0   \n",
       "..    ...   ...   ...   ...   ...   ...   ...   ...   ...   ...  ...   ...   \n",
       "523     0     0     0     0     0     0     0     0     0     0  ...     0   \n",
       "524     0     0     0     0     0     1     0     0     0     0  ...     0   \n",
       "525     0     0     0     0     0     0     0     0     0     0  ...     0   \n",
       "526     0     0     0     0     0     0     0     0     0     0  ...     0   \n",
       "527     0     0     0     0     0     0     0     0     0     0  ...     0   \n",
       "\n",
       "     4478  4479  4480  4481  4482  4483  4484  4485  4486  \n",
       "0       0     1     0     0     0     0     0     0     0  \n",
       "1       0     0     0     0     0     0     0     0     0  \n",
       "2       0     0     0     0     0     0     0     0     0  \n",
       "3       0     0     0     0     0     0     0     0     0  \n",
       "4       0     0     0     0     0     0     0     0     0  \n",
       "..    ...   ...   ...   ...   ...   ...   ...   ...   ...  \n",
       "523     0     0     0     0     0     0     0     0     0  \n",
       "524     0     0     0     0     0     0     0     0     0  \n",
       "525     0     0     0     0     2     0     0     0     0  \n",
       "526     0     0     0     0     0     0     0     0     0  \n",
       "527     0     0     0     0     0     0     0     0     0  \n",
       "\n",
       "[528 rows x 4487 columns]"
      ]
     },
     "execution_count": 56,
     "metadata": {},
     "output_type": "execute_result"
    }
   ],
   "source": [
    "training_matrix_df"
   ]
  },
  {
   "cell_type": "markdown",
   "metadata": {},
   "source": [
    "#### Renaming the columns "
   ]
  },
  {
   "cell_type": "code",
   "execution_count": 57,
   "metadata": {},
   "outputs": [],
   "source": [
    "training_matrix_df.columns = vectorizer.get_feature_names()"
   ]
  },
  {
   "cell_type": "code",
   "execution_count": 58,
   "metadata": {},
   "outputs": [
    {
     "data": {
      "text/plain": [
       "'99'"
      ]
     },
     "execution_count": 58,
     "metadata": {},
     "output_type": "execute_result"
    }
   ],
   "source": [
    "training_matrix_df.columns[141] # By trial and error it is calculated that the the first 142 columns which have numerical\n",
    "#column names need to be removed. "
   ]
  },
  {
   "cell_type": "markdown",
   "metadata": {},
   "source": [
    "#### Dropping the unwanted columns"
   ]
  },
  {
   "cell_type": "code",
   "execution_count": 59,
   "metadata": {},
   "outputs": [],
   "source": [
    "training_matrix_df.drop(training_matrix_df.iloc[:, 0:142], inplace = True, axis = 1)"
   ]
  },
  {
   "cell_type": "code",
   "execution_count": 60,
   "metadata": {},
   "outputs": [
    {
     "data": {
      "text/plain": [
       "Index(['abandoned', 'abandoning', 'abc', 'aberration', 'ability', 'able',\n",
       "       'abortion', 'abraham', 'abrams', 'abroad',\n",
       "       ...\n",
       "       'youd', 'youll', 'young', 'younger', 'youre', 'youve', 'zealand',\n",
       "       'zelensky', 'zero', 'zuckerberg'],\n",
       "      dtype='object', length=4345)"
      ]
     },
     "execution_count": 60,
     "metadata": {},
     "output_type": "execute_result"
    }
   ],
   "source": [
    "training_matrix_df.columns"
   ]
  },
  {
   "cell_type": "code",
   "execution_count": 61,
   "metadata": {},
   "outputs": [],
   "source": [
    "sum_col = []\n",
    "for col in training_matrix_df.columns:\n",
    "    p = sum(training_matrix_df[col])\n",
    "    sum_col.append(p)"
   ]
  },
  {
   "cell_type": "code",
   "execution_count": 62,
   "metadata": {},
   "outputs": [],
   "source": [
    "sum_col.sort(reverse = True) ### We choose 150 as our higher frequency "
   ]
  },
  {
   "cell_type": "markdown",
   "metadata": {},
   "source": [
    "We have 4345 unique tokens. "
   ]
  },
  {
   "cell_type": "code",
   "execution_count": 63,
   "metadata": {},
   "outputs": [],
   "source": [
    "Count_Df = pd.DataFrame(\n",
    "    {'Unique_Words': training_matrix_df.columns,\n",
    "     'Count':sum_col\n",
    "    })"
   ]
  },
  {
   "cell_type": "code",
   "execution_count": 64,
   "metadata": {},
   "outputs": [
    {
     "data": {
      "text/html": [
       "<div>\n",
       "<style scoped>\n",
       "    .dataframe tbody tr th:only-of-type {\n",
       "        vertical-align: middle;\n",
       "    }\n",
       "\n",
       "    .dataframe tbody tr th {\n",
       "        vertical-align: top;\n",
       "    }\n",
       "\n",
       "    .dataframe thead th {\n",
       "        text-align: right;\n",
       "    }\n",
       "</style>\n",
       "<table border=\"1\" class=\"dataframe\">\n",
       "  <thead>\n",
       "    <tr style=\"text-align: right;\">\n",
       "      <th></th>\n",
       "      <th>Unique_Words</th>\n",
       "      <th>Count</th>\n",
       "    </tr>\n",
       "  </thead>\n",
       "  <tbody>\n",
       "    <tr>\n",
       "      <td>0</td>\n",
       "      <td>abandoned</td>\n",
       "      <td>488</td>\n",
       "    </tr>\n",
       "    <tr>\n",
       "      <td>1</td>\n",
       "      <td>abandoning</td>\n",
       "      <td>278</td>\n",
       "    </tr>\n",
       "    <tr>\n",
       "      <td>2</td>\n",
       "      <td>abc</td>\n",
       "      <td>263</td>\n",
       "    </tr>\n",
       "    <tr>\n",
       "      <td>3</td>\n",
       "      <td>aberration</td>\n",
       "      <td>251</td>\n",
       "    </tr>\n",
       "    <tr>\n",
       "      <td>4</td>\n",
       "      <td>ability</td>\n",
       "      <td>227</td>\n",
       "    </tr>\n",
       "    <tr>\n",
       "      <td>5</td>\n",
       "      <td>able</td>\n",
       "      <td>217</td>\n",
       "    </tr>\n",
       "    <tr>\n",
       "      <td>6</td>\n",
       "      <td>abortion</td>\n",
       "      <td>211</td>\n",
       "    </tr>\n",
       "    <tr>\n",
       "      <td>7</td>\n",
       "      <td>abraham</td>\n",
       "      <td>203</td>\n",
       "    </tr>\n",
       "    <tr>\n",
       "      <td>8</td>\n",
       "      <td>abrams</td>\n",
       "      <td>201</td>\n",
       "    </tr>\n",
       "    <tr>\n",
       "      <td>9</td>\n",
       "      <td>abroad</td>\n",
       "      <td>195</td>\n",
       "    </tr>\n",
       "  </tbody>\n",
       "</table>\n",
       "</div>"
      ],
      "text/plain": [
       "  Unique_Words  Count\n",
       "0    abandoned    488\n",
       "1   abandoning    278\n",
       "2          abc    263\n",
       "3   aberration    251\n",
       "4      ability    227\n",
       "5         able    217\n",
       "6     abortion    211\n",
       "7      abraham    203\n",
       "8       abrams    201\n",
       "9       abroad    195"
      ]
     },
     "execution_count": 64,
     "metadata": {},
     "output_type": "execute_result"
    }
   ],
   "source": [
    "Count_Df.head(10)"
   ]
  },
  {
   "cell_type": "code",
   "execution_count": 65,
   "metadata": {},
   "outputs": [],
   "source": [
    "freq_upper = 212\n",
    "freq_lower = 0 "
   ]
  },
  {
   "cell_type": "markdown",
   "metadata": {},
   "source": [
    "We are choosing these word counts as if we choose 1 for lower, we would need to drop a lot of words and so we choose 0 and for upper end we observe above 212 there are words which are important but are present in very high numbers which again would contribute much to the analysis. "
   ]
  },
  {
   "cell_type": "code",
   "execution_count": 66,
   "metadata": {},
   "outputs": [
    {
     "data": {
      "text/html": [
       "<div>\n",
       "<style scoped>\n",
       "    .dataframe tbody tr th:only-of-type {\n",
       "        vertical-align: middle;\n",
       "    }\n",
       "\n",
       "    .dataframe tbody tr th {\n",
       "        vertical-align: top;\n",
       "    }\n",
       "\n",
       "    .dataframe thead th {\n",
       "        text-align: right;\n",
       "    }\n",
       "</style>\n",
       "<table border=\"1\" class=\"dataframe\">\n",
       "  <thead>\n",
       "    <tr style=\"text-align: right;\">\n",
       "      <th></th>\n",
       "      <th>Unique_Words</th>\n",
       "      <th>Count</th>\n",
       "    </tr>\n",
       "  </thead>\n",
       "  <tbody>\n",
       "    <tr>\n",
       "      <td>0</td>\n",
       "      <td>abandoned</td>\n",
       "      <td>488</td>\n",
       "    </tr>\n",
       "    <tr>\n",
       "      <td>1</td>\n",
       "      <td>abandoning</td>\n",
       "      <td>278</td>\n",
       "    </tr>\n",
       "    <tr>\n",
       "      <td>2</td>\n",
       "      <td>abc</td>\n",
       "      <td>263</td>\n",
       "    </tr>\n",
       "    <tr>\n",
       "      <td>3</td>\n",
       "      <td>aberration</td>\n",
       "      <td>251</td>\n",
       "    </tr>\n",
       "    <tr>\n",
       "      <td>4</td>\n",
       "      <td>ability</td>\n",
       "      <td>227</td>\n",
       "    </tr>\n",
       "    <tr>\n",
       "      <td>5</td>\n",
       "      <td>able</td>\n",
       "      <td>217</td>\n",
       "    </tr>\n",
       "    <tr>\n",
       "      <td>6</td>\n",
       "      <td>abortion</td>\n",
       "      <td>211</td>\n",
       "    </tr>\n",
       "    <tr>\n",
       "      <td>7</td>\n",
       "      <td>abraham</td>\n",
       "      <td>203</td>\n",
       "    </tr>\n",
       "    <tr>\n",
       "      <td>8</td>\n",
       "      <td>abrams</td>\n",
       "      <td>201</td>\n",
       "    </tr>\n",
       "    <tr>\n",
       "      <td>9</td>\n",
       "      <td>abroad</td>\n",
       "      <td>195</td>\n",
       "    </tr>\n",
       "  </tbody>\n",
       "</table>\n",
       "</div>"
      ],
      "text/plain": [
       "  Unique_Words  Count\n",
       "0    abandoned    488\n",
       "1   abandoning    278\n",
       "2          abc    263\n",
       "3   aberration    251\n",
       "4      ability    227\n",
       "5         able    217\n",
       "6     abortion    211\n",
       "7      abraham    203\n",
       "8       abrams    201\n",
       "9       abroad    195"
      ]
     },
     "execution_count": 66,
     "metadata": {},
     "output_type": "execute_result"
    }
   ],
   "source": [
    "Count_Df.head(10)"
   ]
  },
  {
   "cell_type": "code",
   "execution_count": 67,
   "metadata": {},
   "outputs": [],
   "source": [
    "Count_Df = Count_Df[(Count_Df['Count'] < freq_upper) & (Count_Df['Count'] > freq_lower) ]"
   ]
  },
  {
   "cell_type": "markdown",
   "metadata": {},
   "source": [
    "We can see that we have removed words which did not meet our predefined Frequency Criterion. "
   ]
  },
  {
   "cell_type": "code",
   "execution_count": 68,
   "metadata": {},
   "outputs": [],
   "source": [
    "training_matrix_df = training_matrix_df.loc[:,Count_Df.Unique_Words]"
   ]
  },
  {
   "cell_type": "code",
   "execution_count": 69,
   "metadata": {},
   "outputs": [
    {
     "data": {
      "text/html": [
       "<div>\n",
       "<style scoped>\n",
       "    .dataframe tbody tr th:only-of-type {\n",
       "        vertical-align: middle;\n",
       "    }\n",
       "\n",
       "    .dataframe tbody tr th {\n",
       "        vertical-align: top;\n",
       "    }\n",
       "\n",
       "    .dataframe thead th {\n",
       "        text-align: right;\n",
       "    }\n",
       "</style>\n",
       "<table border=\"1\" class=\"dataframe\">\n",
       "  <thead>\n",
       "    <tr style=\"text-align: right;\">\n",
       "      <th></th>\n",
       "      <th>abortion</th>\n",
       "      <th>abraham</th>\n",
       "      <th>abrams</th>\n",
       "      <th>abroad</th>\n",
       "      <th>absolute</th>\n",
       "      <th>absolutely</th>\n",
       "      <th>absurd</th>\n",
       "      <th>abuse</th>\n",
       "      <th>abused</th>\n",
       "      <th>abuser</th>\n",
       "      <th>...</th>\n",
       "      <th>youd</th>\n",
       "      <th>youll</th>\n",
       "      <th>young</th>\n",
       "      <th>younger</th>\n",
       "      <th>youre</th>\n",
       "      <th>youve</th>\n",
       "      <th>zealand</th>\n",
       "      <th>zelensky</th>\n",
       "      <th>zero</th>\n",
       "      <th>zuckerberg</th>\n",
       "    </tr>\n",
       "  </thead>\n",
       "  <tbody>\n",
       "    <tr>\n",
       "      <td>0</td>\n",
       "      <td>0</td>\n",
       "      <td>0</td>\n",
       "      <td>0</td>\n",
       "      <td>0</td>\n",
       "      <td>0</td>\n",
       "      <td>0</td>\n",
       "      <td>0</td>\n",
       "      <td>0</td>\n",
       "      <td>0</td>\n",
       "      <td>0</td>\n",
       "      <td>...</td>\n",
       "      <td>0</td>\n",
       "      <td>0</td>\n",
       "      <td>1</td>\n",
       "      <td>0</td>\n",
       "      <td>0</td>\n",
       "      <td>0</td>\n",
       "      <td>0</td>\n",
       "      <td>0</td>\n",
       "      <td>0</td>\n",
       "      <td>0</td>\n",
       "    </tr>\n",
       "    <tr>\n",
       "      <td>1</td>\n",
       "      <td>0</td>\n",
       "      <td>0</td>\n",
       "      <td>0</td>\n",
       "      <td>0</td>\n",
       "      <td>0</td>\n",
       "      <td>0</td>\n",
       "      <td>0</td>\n",
       "      <td>0</td>\n",
       "      <td>0</td>\n",
       "      <td>0</td>\n",
       "      <td>...</td>\n",
       "      <td>0</td>\n",
       "      <td>0</td>\n",
       "      <td>0</td>\n",
       "      <td>0</td>\n",
       "      <td>0</td>\n",
       "      <td>0</td>\n",
       "      <td>0</td>\n",
       "      <td>0</td>\n",
       "      <td>0</td>\n",
       "      <td>0</td>\n",
       "    </tr>\n",
       "    <tr>\n",
       "      <td>2</td>\n",
       "      <td>0</td>\n",
       "      <td>0</td>\n",
       "      <td>0</td>\n",
       "      <td>0</td>\n",
       "      <td>0</td>\n",
       "      <td>0</td>\n",
       "      <td>0</td>\n",
       "      <td>0</td>\n",
       "      <td>0</td>\n",
       "      <td>0</td>\n",
       "      <td>...</td>\n",
       "      <td>0</td>\n",
       "      <td>0</td>\n",
       "      <td>0</td>\n",
       "      <td>0</td>\n",
       "      <td>0</td>\n",
       "      <td>0</td>\n",
       "      <td>0</td>\n",
       "      <td>0</td>\n",
       "      <td>0</td>\n",
       "      <td>0</td>\n",
       "    </tr>\n",
       "    <tr>\n",
       "      <td>3</td>\n",
       "      <td>0</td>\n",
       "      <td>0</td>\n",
       "      <td>0</td>\n",
       "      <td>0</td>\n",
       "      <td>0</td>\n",
       "      <td>0</td>\n",
       "      <td>0</td>\n",
       "      <td>0</td>\n",
       "      <td>0</td>\n",
       "      <td>0</td>\n",
       "      <td>...</td>\n",
       "      <td>0</td>\n",
       "      <td>0</td>\n",
       "      <td>0</td>\n",
       "      <td>0</td>\n",
       "      <td>0</td>\n",
       "      <td>0</td>\n",
       "      <td>0</td>\n",
       "      <td>0</td>\n",
       "      <td>0</td>\n",
       "      <td>0</td>\n",
       "    </tr>\n",
       "    <tr>\n",
       "      <td>4</td>\n",
       "      <td>0</td>\n",
       "      <td>0</td>\n",
       "      <td>0</td>\n",
       "      <td>0</td>\n",
       "      <td>0</td>\n",
       "      <td>0</td>\n",
       "      <td>0</td>\n",
       "      <td>0</td>\n",
       "      <td>0</td>\n",
       "      <td>0</td>\n",
       "      <td>...</td>\n",
       "      <td>0</td>\n",
       "      <td>0</td>\n",
       "      <td>0</td>\n",
       "      <td>0</td>\n",
       "      <td>0</td>\n",
       "      <td>0</td>\n",
       "      <td>0</td>\n",
       "      <td>0</td>\n",
       "      <td>0</td>\n",
       "      <td>0</td>\n",
       "    </tr>\n",
       "    <tr>\n",
       "      <td>...</td>\n",
       "      <td>...</td>\n",
       "      <td>...</td>\n",
       "      <td>...</td>\n",
       "      <td>...</td>\n",
       "      <td>...</td>\n",
       "      <td>...</td>\n",
       "      <td>...</td>\n",
       "      <td>...</td>\n",
       "      <td>...</td>\n",
       "      <td>...</td>\n",
       "      <td>...</td>\n",
       "      <td>...</td>\n",
       "      <td>...</td>\n",
       "      <td>...</td>\n",
       "      <td>...</td>\n",
       "      <td>...</td>\n",
       "      <td>...</td>\n",
       "      <td>...</td>\n",
       "      <td>...</td>\n",
       "      <td>...</td>\n",
       "      <td>...</td>\n",
       "    </tr>\n",
       "    <tr>\n",
       "      <td>523</td>\n",
       "      <td>0</td>\n",
       "      <td>0</td>\n",
       "      <td>0</td>\n",
       "      <td>0</td>\n",
       "      <td>0</td>\n",
       "      <td>0</td>\n",
       "      <td>0</td>\n",
       "      <td>0</td>\n",
       "      <td>0</td>\n",
       "      <td>0</td>\n",
       "      <td>...</td>\n",
       "      <td>0</td>\n",
       "      <td>0</td>\n",
       "      <td>0</td>\n",
       "      <td>0</td>\n",
       "      <td>0</td>\n",
       "      <td>0</td>\n",
       "      <td>0</td>\n",
       "      <td>0</td>\n",
       "      <td>0</td>\n",
       "      <td>0</td>\n",
       "    </tr>\n",
       "    <tr>\n",
       "      <td>524</td>\n",
       "      <td>0</td>\n",
       "      <td>0</td>\n",
       "      <td>0</td>\n",
       "      <td>0</td>\n",
       "      <td>0</td>\n",
       "      <td>0</td>\n",
       "      <td>0</td>\n",
       "      <td>0</td>\n",
       "      <td>0</td>\n",
       "      <td>0</td>\n",
       "      <td>...</td>\n",
       "      <td>0</td>\n",
       "      <td>0</td>\n",
       "      <td>0</td>\n",
       "      <td>0</td>\n",
       "      <td>0</td>\n",
       "      <td>0</td>\n",
       "      <td>0</td>\n",
       "      <td>0</td>\n",
       "      <td>0</td>\n",
       "      <td>0</td>\n",
       "    </tr>\n",
       "    <tr>\n",
       "      <td>525</td>\n",
       "      <td>0</td>\n",
       "      <td>0</td>\n",
       "      <td>0</td>\n",
       "      <td>0</td>\n",
       "      <td>0</td>\n",
       "      <td>0</td>\n",
       "      <td>0</td>\n",
       "      <td>0</td>\n",
       "      <td>0</td>\n",
       "      <td>0</td>\n",
       "      <td>...</td>\n",
       "      <td>0</td>\n",
       "      <td>0</td>\n",
       "      <td>0</td>\n",
       "      <td>0</td>\n",
       "      <td>0</td>\n",
       "      <td>2</td>\n",
       "      <td>0</td>\n",
       "      <td>0</td>\n",
       "      <td>0</td>\n",
       "      <td>0</td>\n",
       "    </tr>\n",
       "    <tr>\n",
       "      <td>526</td>\n",
       "      <td>0</td>\n",
       "      <td>0</td>\n",
       "      <td>0</td>\n",
       "      <td>0</td>\n",
       "      <td>0</td>\n",
       "      <td>0</td>\n",
       "      <td>0</td>\n",
       "      <td>0</td>\n",
       "      <td>0</td>\n",
       "      <td>0</td>\n",
       "      <td>...</td>\n",
       "      <td>0</td>\n",
       "      <td>0</td>\n",
       "      <td>0</td>\n",
       "      <td>0</td>\n",
       "      <td>0</td>\n",
       "      <td>0</td>\n",
       "      <td>0</td>\n",
       "      <td>0</td>\n",
       "      <td>0</td>\n",
       "      <td>0</td>\n",
       "    </tr>\n",
       "    <tr>\n",
       "      <td>527</td>\n",
       "      <td>0</td>\n",
       "      <td>0</td>\n",
       "      <td>0</td>\n",
       "      <td>0</td>\n",
       "      <td>0</td>\n",
       "      <td>0</td>\n",
       "      <td>0</td>\n",
       "      <td>0</td>\n",
       "      <td>0</td>\n",
       "      <td>0</td>\n",
       "      <td>...</td>\n",
       "      <td>0</td>\n",
       "      <td>0</td>\n",
       "      <td>0</td>\n",
       "      <td>0</td>\n",
       "      <td>0</td>\n",
       "      <td>0</td>\n",
       "      <td>0</td>\n",
       "      <td>0</td>\n",
       "      <td>0</td>\n",
       "      <td>0</td>\n",
       "    </tr>\n",
       "  </tbody>\n",
       "</table>\n",
       "<p>528 rows × 4339 columns</p>\n",
       "</div>"
      ],
      "text/plain": [
       "     abortion  abraham  abrams  abroad  absolute  absolutely  absurd  abuse  \\\n",
       "0           0        0       0       0         0           0       0      0   \n",
       "1           0        0       0       0         0           0       0      0   \n",
       "2           0        0       0       0         0           0       0      0   \n",
       "3           0        0       0       0         0           0       0      0   \n",
       "4           0        0       0       0         0           0       0      0   \n",
       "..        ...      ...     ...     ...       ...         ...     ...    ...   \n",
       "523         0        0       0       0         0           0       0      0   \n",
       "524         0        0       0       0         0           0       0      0   \n",
       "525         0        0       0       0         0           0       0      0   \n",
       "526         0        0       0       0         0           0       0      0   \n",
       "527         0        0       0       0         0           0       0      0   \n",
       "\n",
       "     abused  abuser  ...  youd  youll  young  younger  youre  youve  zealand  \\\n",
       "0         0       0  ...     0      0      1        0      0      0        0   \n",
       "1         0       0  ...     0      0      0        0      0      0        0   \n",
       "2         0       0  ...     0      0      0        0      0      0        0   \n",
       "3         0       0  ...     0      0      0        0      0      0        0   \n",
       "4         0       0  ...     0      0      0        0      0      0        0   \n",
       "..      ...     ...  ...   ...    ...    ...      ...    ...    ...      ...   \n",
       "523       0       0  ...     0      0      0        0      0      0        0   \n",
       "524       0       0  ...     0      0      0        0      0      0        0   \n",
       "525       0       0  ...     0      0      0        0      0      2        0   \n",
       "526       0       0  ...     0      0      0        0      0      0        0   \n",
       "527       0       0  ...     0      0      0        0      0      0        0   \n",
       "\n",
       "     zelensky  zero  zuckerberg  \n",
       "0           0     0           0  \n",
       "1           0     0           0  \n",
       "2           0     0           0  \n",
       "3           0     0           0  \n",
       "4           0     0           0  \n",
       "..        ...   ...         ...  \n",
       "523         0     0           0  \n",
       "524         0     0           0  \n",
       "525         0     0           0  \n",
       "526         0     0           0  \n",
       "527         0     0           0  \n",
       "\n",
       "[528 rows x 4339 columns]"
      ]
     },
     "execution_count": 69,
     "metadata": {},
     "output_type": "execute_result"
    }
   ],
   "source": [
    "training_matrix_df"
   ]
  },
  {
   "cell_type": "markdown",
   "metadata": {},
   "source": [
    "We have 4339 unique tokens in our analysis. "
   ]
  },
  {
   "cell_type": "markdown",
   "metadata": {},
   "source": [
    "#### Problem 6 "
   ]
  },
  {
   "cell_type": "markdown",
   "metadata": {},
   "source": [
    "Process the test data in a manner identical to the training data. Note that you will need to\n",
    "have the same dimensions for your training and test data. One way in which this can be done\n",
    "is using sklearn’s CountVectorizer is to fit on the training data and transform the test data.\n",
    "Show that the number of features for your training and test data are identical."
   ]
  },
  {
   "cell_type": "code",
   "execution_count": 70,
   "metadata": {},
   "outputs": [
    {
     "data": {
      "text/html": [
       "<div>\n",
       "<style scoped>\n",
       "    .dataframe tbody tr th:only-of-type {\n",
       "        vertical-align: middle;\n",
       "    }\n",
       "\n",
       "    .dataframe tbody tr th {\n",
       "        vertical-align: top;\n",
       "    }\n",
       "\n",
       "    .dataframe thead th {\n",
       "        text-align: right;\n",
       "    }\n",
       "</style>\n",
       "<table border=\"1\" class=\"dataframe\">\n",
       "  <thead>\n",
       "    <tr style=\"text-align: right;\">\n",
       "      <th></th>\n",
       "      <th>Comments</th>\n",
       "    </tr>\n",
       "  </thead>\n",
       "  <tbody>\n",
       "    <tr>\n",
       "      <td>0</td>\n",
       "      <td>I agree. Let me… She referenced me. I agreed w...</td>\n",
       "    </tr>\n",
       "    <tr>\n",
       "      <td>1</td>\n",
       "      <td>Well, a few months after I got elected, the la...</td>\n",
       "    </tr>\n",
       "    <tr>\n",
       "      <td>2</td>\n",
       "      <td>Thank you. Probably Rand Paul. He and I, actua...</td>\n",
       "    </tr>\n",
       "    <tr>\n",
       "      <td>3</td>\n",
       "      <td>So in my view, if fraud is involved, then that...</td>\n",
       "    </tr>\n",
       "    <tr>\n",
       "      <td>4</td>\n",
       "      <td>So, first of all, Washington experience is not...</td>\n",
       "    </tr>\n",
       "    <tr>\n",
       "      <td>...</td>\n",
       "      <td>...</td>\n",
       "    </tr>\n",
       "    <tr>\n",
       "      <td>106</td>\n",
       "      <td>Look, on this issue, my friends, there is no c...</td>\n",
       "    </tr>\n",
       "    <tr>\n",
       "      <td>107</td>\n",
       "      <td>And you know what, we came back four years lat...</td>\n",
       "    </tr>\n",
       "    <tr>\n",
       "      <td>108</td>\n",
       "      <td>Think about the nuclear agreement with Russia ...</td>\n",
       "    </tr>\n",
       "    <tr>\n",
       "      <td>109</td>\n",
       "      <td>You want to know how we get this done? We get ...</td>\n",
       "    </tr>\n",
       "    <tr>\n",
       "      <td>110</td>\n",
       "      <td>Well, what Kamala Harris is doing is, unfortun...</td>\n",
       "    </tr>\n",
       "  </tbody>\n",
       "</table>\n",
       "<p>111 rows × 1 columns</p>\n",
       "</div>"
      ],
      "text/plain": [
       "                                              Comments\n",
       "0    I agree. Let me… She referenced me. I agreed w...\n",
       "1    Well, a few months after I got elected, the la...\n",
       "2    Thank you. Probably Rand Paul. He and I, actua...\n",
       "3    So in my view, if fraud is involved, then that...\n",
       "4    So, first of all, Washington experience is not...\n",
       "..                                                 ...\n",
       "106  Look, on this issue, my friends, there is no c...\n",
       "107  And you know what, we came back four years lat...\n",
       "108  Think about the nuclear agreement with Russia ...\n",
       "109  You want to know how we get this done? We get ...\n",
       "110  Well, what Kamala Harris is doing is, unfortun...\n",
       "\n",
       "[111 rows x 1 columns]"
      ]
     },
     "execution_count": 70,
     "metadata": {},
     "output_type": "execute_result"
    }
   ],
   "source": [
    "testing_data"
   ]
  },
  {
   "cell_type": "code",
   "execution_count": 71,
   "metadata": {},
   "outputs": [],
   "source": [
    "testing_data_new = testing_data.copy() #Saving data to make sure we don't face any problem in future analysis. "
   ]
  },
  {
   "cell_type": "code",
   "execution_count": 72,
   "metadata": {},
   "outputs": [
    {
     "data": {
      "text/html": [
       "<div>\n",
       "<style scoped>\n",
       "    .dataframe tbody tr th:only-of-type {\n",
       "        vertical-align: middle;\n",
       "    }\n",
       "\n",
       "    .dataframe tbody tr th {\n",
       "        vertical-align: top;\n",
       "    }\n",
       "\n",
       "    .dataframe thead th {\n",
       "        text-align: right;\n",
       "    }\n",
       "</style>\n",
       "<table border=\"1\" class=\"dataframe\">\n",
       "  <thead>\n",
       "    <tr style=\"text-align: right;\">\n",
       "      <th></th>\n",
       "      <th>Comments</th>\n",
       "    </tr>\n",
       "  </thead>\n",
       "  <tbody>\n",
       "    <tr>\n",
       "      <td>0</td>\n",
       "      <td>I agree. Let me… She referenced me. I agreed w...</td>\n",
       "    </tr>\n",
       "    <tr>\n",
       "      <td>1</td>\n",
       "      <td>Well, a few months after I got elected, the la...</td>\n",
       "    </tr>\n",
       "    <tr>\n",
       "      <td>2</td>\n",
       "      <td>Thank you. Probably Rand Paul. He and I, actua...</td>\n",
       "    </tr>\n",
       "    <tr>\n",
       "      <td>3</td>\n",
       "      <td>So in my view, if fraud is involved, then that...</td>\n",
       "    </tr>\n",
       "    <tr>\n",
       "      <td>4</td>\n",
       "      <td>So, first of all, Washington experience is not...</td>\n",
       "    </tr>\n",
       "    <tr>\n",
       "      <td>...</td>\n",
       "      <td>...</td>\n",
       "    </tr>\n",
       "    <tr>\n",
       "      <td>106</td>\n",
       "      <td>Look, on this issue, my friends, there is no c...</td>\n",
       "    </tr>\n",
       "    <tr>\n",
       "      <td>107</td>\n",
       "      <td>And you know what, we came back four years lat...</td>\n",
       "    </tr>\n",
       "    <tr>\n",
       "      <td>108</td>\n",
       "      <td>Think about the nuclear agreement with Russia ...</td>\n",
       "    </tr>\n",
       "    <tr>\n",
       "      <td>109</td>\n",
       "      <td>You want to know how we get this done? We get ...</td>\n",
       "    </tr>\n",
       "    <tr>\n",
       "      <td>110</td>\n",
       "      <td>Well, what Kamala Harris is doing is, unfortun...</td>\n",
       "    </tr>\n",
       "  </tbody>\n",
       "</table>\n",
       "<p>111 rows × 1 columns</p>\n",
       "</div>"
      ],
      "text/plain": [
       "                                              Comments\n",
       "0    I agree. Let me… She referenced me. I agreed w...\n",
       "1    Well, a few months after I got elected, the la...\n",
       "2    Thank you. Probably Rand Paul. He and I, actua...\n",
       "3    So in my view, if fraud is involved, then that...\n",
       "4    So, first of all, Washington experience is not...\n",
       "..                                                 ...\n",
       "106  Look, on this issue, my friends, there is no c...\n",
       "107  And you know what, we came back four years lat...\n",
       "108  Think about the nuclear agreement with Russia ...\n",
       "109  You want to know how we get this done? We get ...\n",
       "110  Well, what Kamala Harris is doing is, unfortun...\n",
       "\n",
       "[111 rows x 1 columns]"
      ]
     },
     "execution_count": 72,
     "metadata": {},
     "output_type": "execute_result"
    }
   ],
   "source": [
    "testing_data_new"
   ]
  },
  {
   "cell_type": "markdown",
   "metadata": {},
   "source": [
    "#### Converting the Comments in Lower Case"
   ]
  },
  {
   "cell_type": "code",
   "execution_count": 73,
   "metadata": {},
   "outputs": [],
   "source": [
    "testing_data_new['Comments'] = testing_data_new['Comments'].str.lower()"
   ]
  },
  {
   "cell_type": "markdown",
   "metadata": {},
   "source": [
    "#### Removing punctuation from the Comments"
   ]
  },
  {
   "cell_type": "code",
   "execution_count": 74,
   "metadata": {},
   "outputs": [],
   "source": [
    "testing_data_new[\"new_column\"] = testing_data_new['Comments'].str.replace('[^\\w\\s]','')"
   ]
  },
  {
   "cell_type": "markdown",
   "metadata": {},
   "source": [
    "#### Splitting the Comments in the testing data"
   ]
  },
  {
   "cell_type": "code",
   "execution_count": 75,
   "metadata": {},
   "outputs": [],
   "source": [
    "testing_data_new[\"new_column\"] = testing_data_new[\"new_column\"].str.split()"
   ]
  },
  {
   "cell_type": "markdown",
   "metadata": {},
   "source": [
    "#### Removing Stop words from the testing data"
   ]
  },
  {
   "cell_type": "code",
   "execution_count": 76,
   "metadata": {},
   "outputs": [],
   "source": [
    "testing_data_new['new_column'] = testing_data_new['new_column'].apply(lambda x: [item for item in x if item not in stop])"
   ]
  },
  {
   "cell_type": "code",
   "execution_count": 77,
   "metadata": {},
   "outputs": [
    {
     "data": {
      "text/html": [
       "<div>\n",
       "<style scoped>\n",
       "    .dataframe tbody tr th:only-of-type {\n",
       "        vertical-align: middle;\n",
       "    }\n",
       "\n",
       "    .dataframe tbody tr th {\n",
       "        vertical-align: top;\n",
       "    }\n",
       "\n",
       "    .dataframe thead th {\n",
       "        text-align: right;\n",
       "    }\n",
       "</style>\n",
       "<table border=\"1\" class=\"dataframe\">\n",
       "  <thead>\n",
       "    <tr style=\"text-align: right;\">\n",
       "      <th></th>\n",
       "      <th>Comments</th>\n",
       "      <th>new_column</th>\n",
       "    </tr>\n",
       "  </thead>\n",
       "  <tbody>\n",
       "    <tr>\n",
       "      <td>0</td>\n",
       "      <td>i agree. let me… she referenced me. i agreed w...</td>\n",
       "      <td>[agree, let, referenced, agreed, great, job, w...</td>\n",
       "    </tr>\n",
       "    <tr>\n",
       "      <td>1</td>\n",
       "      <td>well, a few months after i got elected, the la...</td>\n",
       "      <td>[well, months, got, elected, law, firm, got, c...</td>\n",
       "    </tr>\n",
       "    <tr>\n",
       "      <td>2</td>\n",
       "      <td>thank you. probably rand paul. he and i, actua...</td>\n",
       "      <td>[thank, probably, rand, paul, actually, invite...</td>\n",
       "    </tr>\n",
       "    <tr>\n",
       "      <td>3</td>\n",
       "      <td>so in my view, if fraud is involved, then that...</td>\n",
       "      <td>[view, fraud, involved, thats, suitable, crimi...</td>\n",
       "    </tr>\n",
       "    <tr>\n",
       "      <td>4</td>\n",
       "      <td>so, first of all, washington experience is not...</td>\n",
       "      <td>[first, washington, experience, experience, ma...</td>\n",
       "    </tr>\n",
       "    <tr>\n",
       "      <td>...</td>\n",
       "      <td>...</td>\n",
       "      <td>...</td>\n",
       "    </tr>\n",
       "    <tr>\n",
       "      <td>106</td>\n",
       "      <td>look, on this issue, my friends, there is no c...</td>\n",
       "      <td>[look, issue, friends, choice, got, super, agg...</td>\n",
       "    </tr>\n",
       "    <tr>\n",
       "      <td>107</td>\n",
       "      <td>and you know what, we came back four years lat...</td>\n",
       "      <td>[know, came, back, four, years, later, largest...</td>\n",
       "    </tr>\n",
       "    <tr>\n",
       "      <td>108</td>\n",
       "      <td>think about the nuclear agreement with russia ...</td>\n",
       "      <td>[think, nuclear, agreement, russia, precipitou...</td>\n",
       "    </tr>\n",
       "    <tr>\n",
       "      <td>109</td>\n",
       "      <td>you want to know how we get this done? we get ...</td>\n",
       "      <td>[want, know, get, done, get, done, courageous,...</td>\n",
       "    </tr>\n",
       "    <tr>\n",
       "      <td>110</td>\n",
       "      <td>well, what kamala harris is doing is, unfortun...</td>\n",
       "      <td>[well, kamala, harris, unfortunately, continui...</td>\n",
       "    </tr>\n",
       "  </tbody>\n",
       "</table>\n",
       "<p>111 rows × 2 columns</p>\n",
       "</div>"
      ],
      "text/plain": [
       "                                              Comments  \\\n",
       "0    i agree. let me… she referenced me. i agreed w...   \n",
       "1    well, a few months after i got elected, the la...   \n",
       "2    thank you. probably rand paul. he and i, actua...   \n",
       "3    so in my view, if fraud is involved, then that...   \n",
       "4    so, first of all, washington experience is not...   \n",
       "..                                                 ...   \n",
       "106  look, on this issue, my friends, there is no c...   \n",
       "107  and you know what, we came back four years lat...   \n",
       "108  think about the nuclear agreement with russia ...   \n",
       "109  you want to know how we get this done? we get ...   \n",
       "110  well, what kamala harris is doing is, unfortun...   \n",
       "\n",
       "                                            new_column  \n",
       "0    [agree, let, referenced, agreed, great, job, w...  \n",
       "1    [well, months, got, elected, law, firm, got, c...  \n",
       "2    [thank, probably, rand, paul, actually, invite...  \n",
       "3    [view, fraud, involved, thats, suitable, crimi...  \n",
       "4    [first, washington, experience, experience, ma...  \n",
       "..                                                 ...  \n",
       "106  [look, issue, friends, choice, got, super, agg...  \n",
       "107  [know, came, back, four, years, later, largest...  \n",
       "108  [think, nuclear, agreement, russia, precipitou...  \n",
       "109  [want, know, get, done, get, done, courageous,...  \n",
       "110  [well, kamala, harris, unfortunately, continui...  \n",
       "\n",
       "[111 rows x 2 columns]"
      ]
     },
     "execution_count": 77,
     "metadata": {},
     "output_type": "execute_result"
    }
   ],
   "source": [
    "testing_data_new"
   ]
  },
  {
   "cell_type": "markdown",
   "metadata": {},
   "source": [
    "#### Lemmatizing the testing data"
   ]
  },
  {
   "cell_type": "code",
   "execution_count": 78,
   "metadata": {},
   "outputs": [],
   "source": [
    "testing_data_new['Final'] =testing_data_new['new_column'].apply(lambda x: ([wordnet_lemmatizer.lemmatize(k) for k in x]))"
   ]
  },
  {
   "cell_type": "markdown",
   "metadata": {},
   "source": [
    "#### Converting Lists into string in Final Column of testinig data"
   ]
  },
  {
   "cell_type": "code",
   "execution_count": 79,
   "metadata": {},
   "outputs": [],
   "source": [
    "testing_data_new['Final'] = testing_data_new['Final'].apply(lambda x: (\" \".join(x)))"
   ]
  },
  {
   "cell_type": "code",
   "execution_count": 80,
   "metadata": {},
   "outputs": [],
   "source": [
    "vectorizer = CountVectorizer()\n",
    "Y = vectorizer.fit(training_data_new.Final.values)"
   ]
  },
  {
   "cell_type": "code",
   "execution_count": 81,
   "metadata": {},
   "outputs": [],
   "source": [
    "Y = vectorizer.transform(testing_data_new.Final.values)"
   ]
  },
  {
   "cell_type": "markdown",
   "metadata": {},
   "source": [
    "#### Converting Sparse matrix to Pandas Dataframe"
   ]
  },
  {
   "cell_type": "code",
   "execution_count": 83,
   "metadata": {},
   "outputs": [],
   "source": [
    "testing_matrix_df = pd.DataFrame.sparse.from_spmatrix(Y)"
   ]
  },
  {
   "cell_type": "code",
   "execution_count": 84,
   "metadata": {},
   "outputs": [
    {
     "data": {
      "text/html": [
       "<div>\n",
       "<style scoped>\n",
       "    .dataframe tbody tr th:only-of-type {\n",
       "        vertical-align: middle;\n",
       "    }\n",
       "\n",
       "    .dataframe tbody tr th {\n",
       "        vertical-align: top;\n",
       "    }\n",
       "\n",
       "    .dataframe thead th {\n",
       "        text-align: right;\n",
       "    }\n",
       "</style>\n",
       "<table border=\"1\" class=\"dataframe\">\n",
       "  <thead>\n",
       "    <tr style=\"text-align: right;\">\n",
       "      <th></th>\n",
       "      <th>0</th>\n",
       "      <th>1</th>\n",
       "      <th>2</th>\n",
       "      <th>3</th>\n",
       "      <th>4</th>\n",
       "      <th>5</th>\n",
       "      <th>6</th>\n",
       "      <th>7</th>\n",
       "      <th>8</th>\n",
       "      <th>9</th>\n",
       "      <th>...</th>\n",
       "      <th>4477</th>\n",
       "      <th>4478</th>\n",
       "      <th>4479</th>\n",
       "      <th>4480</th>\n",
       "      <th>4481</th>\n",
       "      <th>4482</th>\n",
       "      <th>4483</th>\n",
       "      <th>4484</th>\n",
       "      <th>4485</th>\n",
       "      <th>4486</th>\n",
       "    </tr>\n",
       "  </thead>\n",
       "  <tbody>\n",
       "    <tr>\n",
       "      <td>0</td>\n",
       "      <td>0</td>\n",
       "      <td>0</td>\n",
       "      <td>0</td>\n",
       "      <td>0</td>\n",
       "      <td>0</td>\n",
       "      <td>0</td>\n",
       "      <td>0</td>\n",
       "      <td>0</td>\n",
       "      <td>0</td>\n",
       "      <td>0</td>\n",
       "      <td>...</td>\n",
       "      <td>0</td>\n",
       "      <td>0</td>\n",
       "      <td>0</td>\n",
       "      <td>0</td>\n",
       "      <td>0</td>\n",
       "      <td>0</td>\n",
       "      <td>0</td>\n",
       "      <td>0</td>\n",
       "      <td>0</td>\n",
       "      <td>0</td>\n",
       "    </tr>\n",
       "    <tr>\n",
       "      <td>1</td>\n",
       "      <td>0</td>\n",
       "      <td>0</td>\n",
       "      <td>0</td>\n",
       "      <td>0</td>\n",
       "      <td>0</td>\n",
       "      <td>0</td>\n",
       "      <td>0</td>\n",
       "      <td>0</td>\n",
       "      <td>0</td>\n",
       "      <td>0</td>\n",
       "      <td>...</td>\n",
       "      <td>0</td>\n",
       "      <td>0</td>\n",
       "      <td>0</td>\n",
       "      <td>0</td>\n",
       "      <td>0</td>\n",
       "      <td>0</td>\n",
       "      <td>0</td>\n",
       "      <td>0</td>\n",
       "      <td>0</td>\n",
       "      <td>0</td>\n",
       "    </tr>\n",
       "    <tr>\n",
       "      <td>2</td>\n",
       "      <td>0</td>\n",
       "      <td>0</td>\n",
       "      <td>0</td>\n",
       "      <td>0</td>\n",
       "      <td>0</td>\n",
       "      <td>0</td>\n",
       "      <td>0</td>\n",
       "      <td>0</td>\n",
       "      <td>0</td>\n",
       "      <td>0</td>\n",
       "      <td>...</td>\n",
       "      <td>0</td>\n",
       "      <td>0</td>\n",
       "      <td>0</td>\n",
       "      <td>0</td>\n",
       "      <td>0</td>\n",
       "      <td>0</td>\n",
       "      <td>0</td>\n",
       "      <td>0</td>\n",
       "      <td>0</td>\n",
       "      <td>0</td>\n",
       "    </tr>\n",
       "    <tr>\n",
       "      <td>3</td>\n",
       "      <td>0</td>\n",
       "      <td>0</td>\n",
       "      <td>0</td>\n",
       "      <td>0</td>\n",
       "      <td>0</td>\n",
       "      <td>0</td>\n",
       "      <td>0</td>\n",
       "      <td>0</td>\n",
       "      <td>0</td>\n",
       "      <td>0</td>\n",
       "      <td>...</td>\n",
       "      <td>0</td>\n",
       "      <td>0</td>\n",
       "      <td>0</td>\n",
       "      <td>0</td>\n",
       "      <td>0</td>\n",
       "      <td>0</td>\n",
       "      <td>0</td>\n",
       "      <td>0</td>\n",
       "      <td>0</td>\n",
       "      <td>0</td>\n",
       "    </tr>\n",
       "    <tr>\n",
       "      <td>4</td>\n",
       "      <td>0</td>\n",
       "      <td>0</td>\n",
       "      <td>0</td>\n",
       "      <td>0</td>\n",
       "      <td>0</td>\n",
       "      <td>0</td>\n",
       "      <td>0</td>\n",
       "      <td>0</td>\n",
       "      <td>0</td>\n",
       "      <td>0</td>\n",
       "      <td>...</td>\n",
       "      <td>0</td>\n",
       "      <td>0</td>\n",
       "      <td>0</td>\n",
       "      <td>0</td>\n",
       "      <td>0</td>\n",
       "      <td>0</td>\n",
       "      <td>0</td>\n",
       "      <td>0</td>\n",
       "      <td>0</td>\n",
       "      <td>0</td>\n",
       "    </tr>\n",
       "    <tr>\n",
       "      <td>...</td>\n",
       "      <td>...</td>\n",
       "      <td>...</td>\n",
       "      <td>...</td>\n",
       "      <td>...</td>\n",
       "      <td>...</td>\n",
       "      <td>...</td>\n",
       "      <td>...</td>\n",
       "      <td>...</td>\n",
       "      <td>...</td>\n",
       "      <td>...</td>\n",
       "      <td>...</td>\n",
       "      <td>...</td>\n",
       "      <td>...</td>\n",
       "      <td>...</td>\n",
       "      <td>...</td>\n",
       "      <td>...</td>\n",
       "      <td>...</td>\n",
       "      <td>...</td>\n",
       "      <td>...</td>\n",
       "      <td>...</td>\n",
       "      <td>...</td>\n",
       "    </tr>\n",
       "    <tr>\n",
       "      <td>106</td>\n",
       "      <td>0</td>\n",
       "      <td>0</td>\n",
       "      <td>0</td>\n",
       "      <td>0</td>\n",
       "      <td>0</td>\n",
       "      <td>0</td>\n",
       "      <td>0</td>\n",
       "      <td>0</td>\n",
       "      <td>0</td>\n",
       "      <td>0</td>\n",
       "      <td>...</td>\n",
       "      <td>0</td>\n",
       "      <td>0</td>\n",
       "      <td>0</td>\n",
       "      <td>0</td>\n",
       "      <td>0</td>\n",
       "      <td>0</td>\n",
       "      <td>0</td>\n",
       "      <td>0</td>\n",
       "      <td>0</td>\n",
       "      <td>0</td>\n",
       "    </tr>\n",
       "    <tr>\n",
       "      <td>107</td>\n",
       "      <td>0</td>\n",
       "      <td>0</td>\n",
       "      <td>0</td>\n",
       "      <td>0</td>\n",
       "      <td>0</td>\n",
       "      <td>0</td>\n",
       "      <td>0</td>\n",
       "      <td>0</td>\n",
       "      <td>0</td>\n",
       "      <td>0</td>\n",
       "      <td>...</td>\n",
       "      <td>0</td>\n",
       "      <td>0</td>\n",
       "      <td>0</td>\n",
       "      <td>0</td>\n",
       "      <td>0</td>\n",
       "      <td>0</td>\n",
       "      <td>0</td>\n",
       "      <td>0</td>\n",
       "      <td>0</td>\n",
       "      <td>0</td>\n",
       "    </tr>\n",
       "    <tr>\n",
       "      <td>108</td>\n",
       "      <td>0</td>\n",
       "      <td>0</td>\n",
       "      <td>0</td>\n",
       "      <td>0</td>\n",
       "      <td>0</td>\n",
       "      <td>0</td>\n",
       "      <td>0</td>\n",
       "      <td>0</td>\n",
       "      <td>0</td>\n",
       "      <td>0</td>\n",
       "      <td>...</td>\n",
       "      <td>0</td>\n",
       "      <td>0</td>\n",
       "      <td>0</td>\n",
       "      <td>0</td>\n",
       "      <td>0</td>\n",
       "      <td>0</td>\n",
       "      <td>0</td>\n",
       "      <td>0</td>\n",
       "      <td>0</td>\n",
       "      <td>0</td>\n",
       "    </tr>\n",
       "    <tr>\n",
       "      <td>109</td>\n",
       "      <td>0</td>\n",
       "      <td>0</td>\n",
       "      <td>0</td>\n",
       "      <td>0</td>\n",
       "      <td>0</td>\n",
       "      <td>0</td>\n",
       "      <td>0</td>\n",
       "      <td>0</td>\n",
       "      <td>0</td>\n",
       "      <td>0</td>\n",
       "      <td>...</td>\n",
       "      <td>0</td>\n",
       "      <td>0</td>\n",
       "      <td>0</td>\n",
       "      <td>0</td>\n",
       "      <td>0</td>\n",
       "      <td>0</td>\n",
       "      <td>0</td>\n",
       "      <td>0</td>\n",
       "      <td>0</td>\n",
       "      <td>0</td>\n",
       "    </tr>\n",
       "    <tr>\n",
       "      <td>110</td>\n",
       "      <td>0</td>\n",
       "      <td>0</td>\n",
       "      <td>0</td>\n",
       "      <td>0</td>\n",
       "      <td>0</td>\n",
       "      <td>0</td>\n",
       "      <td>0</td>\n",
       "      <td>0</td>\n",
       "      <td>0</td>\n",
       "      <td>0</td>\n",
       "      <td>...</td>\n",
       "      <td>0</td>\n",
       "      <td>0</td>\n",
       "      <td>0</td>\n",
       "      <td>0</td>\n",
       "      <td>0</td>\n",
       "      <td>0</td>\n",
       "      <td>0</td>\n",
       "      <td>0</td>\n",
       "      <td>0</td>\n",
       "      <td>0</td>\n",
       "    </tr>\n",
       "  </tbody>\n",
       "</table>\n",
       "<p>111 rows × 4487 columns</p>\n",
       "</div>"
      ],
      "text/plain": [
       "     0     1     2     3     4     5     6     7     8     9     ...  4477  \\\n",
       "0       0     0     0     0     0     0     0     0     0     0  ...     0   \n",
       "1       0     0     0     0     0     0     0     0     0     0  ...     0   \n",
       "2       0     0     0     0     0     0     0     0     0     0  ...     0   \n",
       "3       0     0     0     0     0     0     0     0     0     0  ...     0   \n",
       "4       0     0     0     0     0     0     0     0     0     0  ...     0   \n",
       "..    ...   ...   ...   ...   ...   ...   ...   ...   ...   ...  ...   ...   \n",
       "106     0     0     0     0     0     0     0     0     0     0  ...     0   \n",
       "107     0     0     0     0     0     0     0     0     0     0  ...     0   \n",
       "108     0     0     0     0     0     0     0     0     0     0  ...     0   \n",
       "109     0     0     0     0     0     0     0     0     0     0  ...     0   \n",
       "110     0     0     0     0     0     0     0     0     0     0  ...     0   \n",
       "\n",
       "     4478  4479  4480  4481  4482  4483  4484  4485  4486  \n",
       "0       0     0     0     0     0     0     0     0     0  \n",
       "1       0     0     0     0     0     0     0     0     0  \n",
       "2       0     0     0     0     0     0     0     0     0  \n",
       "3       0     0     0     0     0     0     0     0     0  \n",
       "4       0     0     0     0     0     0     0     0     0  \n",
       "..    ...   ...   ...   ...   ...   ...   ...   ...   ...  \n",
       "106     0     0     0     0     0     0     0     0     0  \n",
       "107     0     0     0     0     0     0     0     0     0  \n",
       "108     0     0     0     0     0     0     0     0     0  \n",
       "109     0     0     0     0     0     0     0     0     0  \n",
       "110     0     0     0     0     0     0     0     0     0  \n",
       "\n",
       "[111 rows x 4487 columns]"
      ]
     },
     "execution_count": 84,
     "metadata": {},
     "output_type": "execute_result"
    }
   ],
   "source": [
    "testing_matrix_df "
   ]
  },
  {
   "cell_type": "code",
   "execution_count": 85,
   "metadata": {},
   "outputs": [],
   "source": [
    "testing_matrix_df.columns = vectorizer.get_feature_names()"
   ]
  },
  {
   "cell_type": "code",
   "execution_count": 86,
   "metadata": {},
   "outputs": [],
   "source": [
    "sum_col_test = []\n",
    "for col in testing_matrix_df.columns:\n",
    "    p = sum(testing_matrix_df[col])\n",
    "    sum_col_test.append(p)\n",
    "\n",
    "# sum_col_test.sort(reverse = True)\n",
    "\n",
    "Count_Df_test = pd.DataFrame(\n",
    "    {'Unique_Words': testing_matrix_df.columns,\n",
    "     'Count':sum_col_test\n",
    "    })"
   ]
  },
  {
   "cell_type": "code",
   "execution_count": 87,
   "metadata": {},
   "outputs": [
    {
     "data": {
      "text/html": [
       "<div>\n",
       "<style scoped>\n",
       "    .dataframe tbody tr th:only-of-type {\n",
       "        vertical-align: middle;\n",
       "    }\n",
       "\n",
       "    .dataframe tbody tr th {\n",
       "        vertical-align: top;\n",
       "    }\n",
       "\n",
       "    .dataframe thead th {\n",
       "        text-align: right;\n",
       "    }\n",
       "</style>\n",
       "<table border=\"1\" class=\"dataframe\">\n",
       "  <thead>\n",
       "    <tr style=\"text-align: right;\">\n",
       "      <th></th>\n",
       "      <th>Unique_Words</th>\n",
       "      <th>Count</th>\n",
       "    </tr>\n",
       "  </thead>\n",
       "  <tbody>\n",
       "    <tr>\n",
       "      <td>0</td>\n",
       "      <td>002</td>\n",
       "      <td>0</td>\n",
       "    </tr>\n",
       "    <tr>\n",
       "      <td>1</td>\n",
       "      <td>005</td>\n",
       "      <td>0</td>\n",
       "    </tr>\n",
       "    <tr>\n",
       "      <td>2</td>\n",
       "      <td>10</td>\n",
       "      <td>2</td>\n",
       "    </tr>\n",
       "    <tr>\n",
       "      <td>3</td>\n",
       "      <td>100</td>\n",
       "      <td>3</td>\n",
       "    </tr>\n",
       "    <tr>\n",
       "      <td>4</td>\n",
       "      <td>1000</td>\n",
       "      <td>2</td>\n",
       "    </tr>\n",
       "    <tr>\n",
       "      <td>...</td>\n",
       "      <td>...</td>\n",
       "      <td>...</td>\n",
       "    </tr>\n",
       "    <tr>\n",
       "      <td>4482</td>\n",
       "      <td>youve</td>\n",
       "      <td>9</td>\n",
       "    </tr>\n",
       "    <tr>\n",
       "      <td>4483</td>\n",
       "      <td>zealand</td>\n",
       "      <td>0</td>\n",
       "    </tr>\n",
       "    <tr>\n",
       "      <td>4484</td>\n",
       "      <td>zelensky</td>\n",
       "      <td>0</td>\n",
       "    </tr>\n",
       "    <tr>\n",
       "      <td>4485</td>\n",
       "      <td>zero</td>\n",
       "      <td>2</td>\n",
       "    </tr>\n",
       "    <tr>\n",
       "      <td>4486</td>\n",
       "      <td>zuckerberg</td>\n",
       "      <td>0</td>\n",
       "    </tr>\n",
       "  </tbody>\n",
       "</table>\n",
       "<p>4487 rows × 2 columns</p>\n",
       "</div>"
      ],
      "text/plain": [
       "     Unique_Words  Count\n",
       "0             002      0\n",
       "1             005      0\n",
       "2              10      2\n",
       "3             100      3\n",
       "4            1000      2\n",
       "...           ...    ...\n",
       "4482        youve      9\n",
       "4483      zealand      0\n",
       "4484     zelensky      0\n",
       "4485         zero      2\n",
       "4486   zuckerberg      0\n",
       "\n",
       "[4487 rows x 2 columns]"
      ]
     },
     "execution_count": 87,
     "metadata": {},
     "output_type": "execute_result"
    }
   ],
   "source": [
    "Count_Df_test"
   ]
  },
  {
   "cell_type": "markdown",
   "metadata": {},
   "source": [
    "#### Dropping the Unwanted Columns / words or words with characters"
   ]
  },
  {
   "cell_type": "code",
   "execution_count": 88,
   "metadata": {},
   "outputs": [],
   "source": [
    "testing_matrix_df.drop(testing_matrix_df.iloc[:, 0:142], inplace = True, axis = 1)"
   ]
  },
  {
   "cell_type": "code",
   "execution_count": 89,
   "metadata": {},
   "outputs": [
    {
     "data": {
      "text/html": [
       "<div>\n",
       "<style scoped>\n",
       "    .dataframe tbody tr th:only-of-type {\n",
       "        vertical-align: middle;\n",
       "    }\n",
       "\n",
       "    .dataframe tbody tr th {\n",
       "        vertical-align: top;\n",
       "    }\n",
       "\n",
       "    .dataframe thead th {\n",
       "        text-align: right;\n",
       "    }\n",
       "</style>\n",
       "<table border=\"1\" class=\"dataframe\">\n",
       "  <thead>\n",
       "    <tr style=\"text-align: right;\">\n",
       "      <th></th>\n",
       "      <th>abandoned</th>\n",
       "      <th>abandoning</th>\n",
       "      <th>abc</th>\n",
       "      <th>aberration</th>\n",
       "      <th>ability</th>\n",
       "      <th>able</th>\n",
       "      <th>abortion</th>\n",
       "      <th>abraham</th>\n",
       "      <th>abrams</th>\n",
       "      <th>abroad</th>\n",
       "      <th>...</th>\n",
       "      <th>youd</th>\n",
       "      <th>youll</th>\n",
       "      <th>young</th>\n",
       "      <th>younger</th>\n",
       "      <th>youre</th>\n",
       "      <th>youve</th>\n",
       "      <th>zealand</th>\n",
       "      <th>zelensky</th>\n",
       "      <th>zero</th>\n",
       "      <th>zuckerberg</th>\n",
       "    </tr>\n",
       "  </thead>\n",
       "  <tbody>\n",
       "    <tr>\n",
       "      <td>0</td>\n",
       "      <td>0</td>\n",
       "      <td>0</td>\n",
       "      <td>0</td>\n",
       "      <td>0</td>\n",
       "      <td>0</td>\n",
       "      <td>0</td>\n",
       "      <td>0</td>\n",
       "      <td>0</td>\n",
       "      <td>0</td>\n",
       "      <td>0</td>\n",
       "      <td>...</td>\n",
       "      <td>0</td>\n",
       "      <td>0</td>\n",
       "      <td>0</td>\n",
       "      <td>0</td>\n",
       "      <td>0</td>\n",
       "      <td>0</td>\n",
       "      <td>0</td>\n",
       "      <td>0</td>\n",
       "      <td>0</td>\n",
       "      <td>0</td>\n",
       "    </tr>\n",
       "    <tr>\n",
       "      <td>1</td>\n",
       "      <td>0</td>\n",
       "      <td>0</td>\n",
       "      <td>0</td>\n",
       "      <td>0</td>\n",
       "      <td>0</td>\n",
       "      <td>0</td>\n",
       "      <td>0</td>\n",
       "      <td>0</td>\n",
       "      <td>0</td>\n",
       "      <td>0</td>\n",
       "      <td>...</td>\n",
       "      <td>0</td>\n",
       "      <td>0</td>\n",
       "      <td>0</td>\n",
       "      <td>0</td>\n",
       "      <td>0</td>\n",
       "      <td>0</td>\n",
       "      <td>0</td>\n",
       "      <td>0</td>\n",
       "      <td>0</td>\n",
       "      <td>0</td>\n",
       "    </tr>\n",
       "    <tr>\n",
       "      <td>2</td>\n",
       "      <td>0</td>\n",
       "      <td>0</td>\n",
       "      <td>0</td>\n",
       "      <td>0</td>\n",
       "      <td>1</td>\n",
       "      <td>0</td>\n",
       "      <td>0</td>\n",
       "      <td>0</td>\n",
       "      <td>0</td>\n",
       "      <td>0</td>\n",
       "      <td>...</td>\n",
       "      <td>0</td>\n",
       "      <td>0</td>\n",
       "      <td>0</td>\n",
       "      <td>0</td>\n",
       "      <td>0</td>\n",
       "      <td>0</td>\n",
       "      <td>0</td>\n",
       "      <td>0</td>\n",
       "      <td>0</td>\n",
       "      <td>0</td>\n",
       "    </tr>\n",
       "    <tr>\n",
       "      <td>3</td>\n",
       "      <td>0</td>\n",
       "      <td>0</td>\n",
       "      <td>0</td>\n",
       "      <td>0</td>\n",
       "      <td>0</td>\n",
       "      <td>0</td>\n",
       "      <td>0</td>\n",
       "      <td>0</td>\n",
       "      <td>0</td>\n",
       "      <td>0</td>\n",
       "      <td>...</td>\n",
       "      <td>0</td>\n",
       "      <td>0</td>\n",
       "      <td>0</td>\n",
       "      <td>0</td>\n",
       "      <td>0</td>\n",
       "      <td>0</td>\n",
       "      <td>0</td>\n",
       "      <td>0</td>\n",
       "      <td>0</td>\n",
       "      <td>0</td>\n",
       "    </tr>\n",
       "    <tr>\n",
       "      <td>4</td>\n",
       "      <td>0</td>\n",
       "      <td>0</td>\n",
       "      <td>0</td>\n",
       "      <td>0</td>\n",
       "      <td>0</td>\n",
       "      <td>0</td>\n",
       "      <td>0</td>\n",
       "      <td>0</td>\n",
       "      <td>0</td>\n",
       "      <td>0</td>\n",
       "      <td>...</td>\n",
       "      <td>0</td>\n",
       "      <td>0</td>\n",
       "      <td>0</td>\n",
       "      <td>0</td>\n",
       "      <td>0</td>\n",
       "      <td>0</td>\n",
       "      <td>0</td>\n",
       "      <td>0</td>\n",
       "      <td>0</td>\n",
       "      <td>0</td>\n",
       "    </tr>\n",
       "    <tr>\n",
       "      <td>...</td>\n",
       "      <td>...</td>\n",
       "      <td>...</td>\n",
       "      <td>...</td>\n",
       "      <td>...</td>\n",
       "      <td>...</td>\n",
       "      <td>...</td>\n",
       "      <td>...</td>\n",
       "      <td>...</td>\n",
       "      <td>...</td>\n",
       "      <td>...</td>\n",
       "      <td>...</td>\n",
       "      <td>...</td>\n",
       "      <td>...</td>\n",
       "      <td>...</td>\n",
       "      <td>...</td>\n",
       "      <td>...</td>\n",
       "      <td>...</td>\n",
       "      <td>...</td>\n",
       "      <td>...</td>\n",
       "      <td>...</td>\n",
       "      <td>...</td>\n",
       "    </tr>\n",
       "    <tr>\n",
       "      <td>106</td>\n",
       "      <td>0</td>\n",
       "      <td>0</td>\n",
       "      <td>0</td>\n",
       "      <td>0</td>\n",
       "      <td>0</td>\n",
       "      <td>0</td>\n",
       "      <td>0</td>\n",
       "      <td>0</td>\n",
       "      <td>0</td>\n",
       "      <td>0</td>\n",
       "      <td>...</td>\n",
       "      <td>0</td>\n",
       "      <td>0</td>\n",
       "      <td>0</td>\n",
       "      <td>0</td>\n",
       "      <td>0</td>\n",
       "      <td>0</td>\n",
       "      <td>0</td>\n",
       "      <td>0</td>\n",
       "      <td>0</td>\n",
       "      <td>0</td>\n",
       "    </tr>\n",
       "    <tr>\n",
       "      <td>107</td>\n",
       "      <td>0</td>\n",
       "      <td>0</td>\n",
       "      <td>0</td>\n",
       "      <td>0</td>\n",
       "      <td>0</td>\n",
       "      <td>0</td>\n",
       "      <td>0</td>\n",
       "      <td>0</td>\n",
       "      <td>0</td>\n",
       "      <td>0</td>\n",
       "      <td>...</td>\n",
       "      <td>0</td>\n",
       "      <td>0</td>\n",
       "      <td>0</td>\n",
       "      <td>0</td>\n",
       "      <td>0</td>\n",
       "      <td>0</td>\n",
       "      <td>0</td>\n",
       "      <td>0</td>\n",
       "      <td>0</td>\n",
       "      <td>0</td>\n",
       "    </tr>\n",
       "    <tr>\n",
       "      <td>108</td>\n",
       "      <td>0</td>\n",
       "      <td>0</td>\n",
       "      <td>0</td>\n",
       "      <td>0</td>\n",
       "      <td>0</td>\n",
       "      <td>0</td>\n",
       "      <td>0</td>\n",
       "      <td>0</td>\n",
       "      <td>0</td>\n",
       "      <td>0</td>\n",
       "      <td>...</td>\n",
       "      <td>0</td>\n",
       "      <td>0</td>\n",
       "      <td>0</td>\n",
       "      <td>0</td>\n",
       "      <td>0</td>\n",
       "      <td>0</td>\n",
       "      <td>0</td>\n",
       "      <td>0</td>\n",
       "      <td>0</td>\n",
       "      <td>0</td>\n",
       "    </tr>\n",
       "    <tr>\n",
       "      <td>109</td>\n",
       "      <td>0</td>\n",
       "      <td>0</td>\n",
       "      <td>0</td>\n",
       "      <td>0</td>\n",
       "      <td>0</td>\n",
       "      <td>0</td>\n",
       "      <td>0</td>\n",
       "      <td>0</td>\n",
       "      <td>0</td>\n",
       "      <td>0</td>\n",
       "      <td>...</td>\n",
       "      <td>0</td>\n",
       "      <td>0</td>\n",
       "      <td>0</td>\n",
       "      <td>0</td>\n",
       "      <td>0</td>\n",
       "      <td>0</td>\n",
       "      <td>0</td>\n",
       "      <td>0</td>\n",
       "      <td>0</td>\n",
       "      <td>0</td>\n",
       "    </tr>\n",
       "    <tr>\n",
       "      <td>110</td>\n",
       "      <td>0</td>\n",
       "      <td>0</td>\n",
       "      <td>0</td>\n",
       "      <td>0</td>\n",
       "      <td>0</td>\n",
       "      <td>0</td>\n",
       "      <td>0</td>\n",
       "      <td>0</td>\n",
       "      <td>0</td>\n",
       "      <td>0</td>\n",
       "      <td>...</td>\n",
       "      <td>0</td>\n",
       "      <td>0</td>\n",
       "      <td>0</td>\n",
       "      <td>0</td>\n",
       "      <td>0</td>\n",
       "      <td>0</td>\n",
       "      <td>0</td>\n",
       "      <td>0</td>\n",
       "      <td>0</td>\n",
       "      <td>0</td>\n",
       "    </tr>\n",
       "  </tbody>\n",
       "</table>\n",
       "<p>111 rows × 4345 columns</p>\n",
       "</div>"
      ],
      "text/plain": [
       "     abandoned  abandoning  abc  aberration  ability  able  abortion  abraham  \\\n",
       "0            0           0    0           0        0     0         0        0   \n",
       "1            0           0    0           0        0     0         0        0   \n",
       "2            0           0    0           0        1     0         0        0   \n",
       "3            0           0    0           0        0     0         0        0   \n",
       "4            0           0    0           0        0     0         0        0   \n",
       "..         ...         ...  ...         ...      ...   ...       ...      ...   \n",
       "106          0           0    0           0        0     0         0        0   \n",
       "107          0           0    0           0        0     0         0        0   \n",
       "108          0           0    0           0        0     0         0        0   \n",
       "109          0           0    0           0        0     0         0        0   \n",
       "110          0           0    0           0        0     0         0        0   \n",
       "\n",
       "     abrams  abroad  ...  youd  youll  young  younger  youre  youve  zealand  \\\n",
       "0         0       0  ...     0      0      0        0      0      0        0   \n",
       "1         0       0  ...     0      0      0        0      0      0        0   \n",
       "2         0       0  ...     0      0      0        0      0      0        0   \n",
       "3         0       0  ...     0      0      0        0      0      0        0   \n",
       "4         0       0  ...     0      0      0        0      0      0        0   \n",
       "..      ...     ...  ...   ...    ...    ...      ...    ...    ...      ...   \n",
       "106       0       0  ...     0      0      0        0      0      0        0   \n",
       "107       0       0  ...     0      0      0        0      0      0        0   \n",
       "108       0       0  ...     0      0      0        0      0      0        0   \n",
       "109       0       0  ...     0      0      0        0      0      0        0   \n",
       "110       0       0  ...     0      0      0        0      0      0        0   \n",
       "\n",
       "     zelensky  zero  zuckerberg  \n",
       "0           0     0           0  \n",
       "1           0     0           0  \n",
       "2           0     0           0  \n",
       "3           0     0           0  \n",
       "4           0     0           0  \n",
       "..        ...   ...         ...  \n",
       "106         0     0           0  \n",
       "107         0     0           0  \n",
       "108         0     0           0  \n",
       "109         0     0           0  \n",
       "110         0     0           0  \n",
       "\n",
       "[111 rows x 4345 columns]"
      ]
     },
     "execution_count": 89,
     "metadata": {},
     "output_type": "execute_result"
    }
   ],
   "source": [
    "testing_matrix_df #Our final testing matrix that we will use in analysis. "
   ]
  },
  {
   "cell_type": "code",
   "execution_count": 91,
   "metadata": {},
   "outputs": [],
   "source": [
    "testing_matrix_df = testing_matrix_df.loc[:,Count_Df.Unique_Words]"
   ]
  },
  {
   "cell_type": "markdown",
   "metadata": {},
   "source": [
    "In the above code we removed all such tokens which did not meet our frequency criterion"
   ]
  },
  {
   "cell_type": "markdown",
   "metadata": {},
   "source": [
    "#### Problem - 7"
   ]
  },
  {
   "cell_type": "markdown",
   "metadata": {},
   "source": [
    "The primary objective of this problem set is to build classifiers to predict who said what.\n",
    "Having the right features are essential for this (and any) prediction task. In addition to the\n",
    "features you were tasked with generating in Part 1, design/build additional features of your\n",
    "choosing. Please note that this process can be iterative in a cycle of designing/adding features\n",
    "and evaluating model performance - this is completely reasonable and you can come back\n",
    "to this question after completing the remainder of Part 2. Describe the features that you\n",
    "ultimately used in your final models and articulate your reasoning for including the features\n",
    "that you did. Also describe any feature manipulation/scaling you did and your reasoning for\n",
    "doing so. Ensure your test set has identical features as your training set. Some potential ideas\n",
    "for additional features include bi-/trigrams, topic model weights, TF-IDF weights, sentiments,\n",
    "hand-engineered word co-occurrences (not adding any/all of these is completely fine as well)."
   ]
  },
  {
   "cell_type": "markdown",
   "metadata": {},
   "source": [
    "We are going with TF-IDF analysis as count vectorizer gives a vector with the number of times each word appears in the document whereas TF-IDF in essence gives a metric which shows the importance of a words in a particular document by balancing out the term frequency (how often the word appears in the document) with its inverse document frequency (how often the term appears across all documents in the data set).\n",
    "Reference - https://www.quora.com/Why-TF-IDF-transformation-works-better-than-Count-Vectorizer-in-Machine-Learning"
   ]
  },
  {
   "cell_type": "code",
   "execution_count": 92,
   "metadata": {},
   "outputs": [],
   "source": [
    "tf_vectorizer = TfidfVectorizer(min_df = 0.01)"
   ]
  },
  {
   "cell_type": "code",
   "execution_count": 93,
   "metadata": {},
   "outputs": [],
   "source": [
    "tfidf = tf_vectorizer.fit_transform(training_data_new.Final.values)"
   ]
  },
  {
   "cell_type": "code",
   "execution_count": 95,
   "metadata": {},
   "outputs": [],
   "source": [
    "tf_training_matrix_df = pd.DataFrame.sparse.from_spmatrix(tfidf)"
   ]
  },
  {
   "cell_type": "code",
   "execution_count": 96,
   "metadata": {},
   "outputs": [],
   "source": [
    "tf_training_matrix_df.columns = tf_vectorizer.get_feature_names()"
   ]
  },
  {
   "cell_type": "code",
   "execution_count": 97,
   "metadata": {},
   "outputs": [
    {
     "data": {
      "text/html": [
       "<div>\n",
       "<style scoped>\n",
       "    .dataframe tbody tr th:only-of-type {\n",
       "        vertical-align: middle;\n",
       "    }\n",
       "\n",
       "    .dataframe tbody tr th {\n",
       "        vertical-align: top;\n",
       "    }\n",
       "\n",
       "    .dataframe thead th {\n",
       "        text-align: right;\n",
       "    }\n",
       "</style>\n",
       "<table border=\"1\" class=\"dataframe\">\n",
       "  <thead>\n",
       "    <tr style=\"text-align: right;\">\n",
       "      <th></th>\n",
       "      <th>10</th>\n",
       "      <th>100</th>\n",
       "      <th>12</th>\n",
       "      <th>15</th>\n",
       "      <th>18</th>\n",
       "      <th>20</th>\n",
       "      <th>2020</th>\n",
       "      <th>21st</th>\n",
       "      <th>30</th>\n",
       "      <th>40</th>\n",
       "      <th>...</th>\n",
       "      <th>wrote</th>\n",
       "      <th>yeah</th>\n",
       "      <th>year</th>\n",
       "      <th>yes</th>\n",
       "      <th>yesterday</th>\n",
       "      <th>yet</th>\n",
       "      <th>york</th>\n",
       "      <th>young</th>\n",
       "      <th>youre</th>\n",
       "      <th>youve</th>\n",
       "    </tr>\n",
       "  </thead>\n",
       "  <tbody>\n",
       "    <tr>\n",
       "      <td>0</td>\n",
       "      <td>0.0</td>\n",
       "      <td>0.109919</td>\n",
       "      <td>0.0</td>\n",
       "      <td>0.0</td>\n",
       "      <td>0.0</td>\n",
       "      <td>0.0</td>\n",
       "      <td>0.0</td>\n",
       "      <td>0.0</td>\n",
       "      <td>0.0</td>\n",
       "      <td>0.0</td>\n",
       "      <td>...</td>\n",
       "      <td>0.0</td>\n",
       "      <td>0.0</td>\n",
       "      <td>0.065454</td>\n",
       "      <td>0.000000</td>\n",
       "      <td>0.0</td>\n",
       "      <td>0.0</td>\n",
       "      <td>0.0</td>\n",
       "      <td>0.106904</td>\n",
       "      <td>0.0</td>\n",
       "      <td>0.000000</td>\n",
       "    </tr>\n",
       "    <tr>\n",
       "      <td>1</td>\n",
       "      <td>0.0</td>\n",
       "      <td>0.000000</td>\n",
       "      <td>0.0</td>\n",
       "      <td>0.0</td>\n",
       "      <td>0.0</td>\n",
       "      <td>0.0</td>\n",
       "      <td>0.0</td>\n",
       "      <td>0.0</td>\n",
       "      <td>0.0</td>\n",
       "      <td>0.0</td>\n",
       "      <td>...</td>\n",
       "      <td>0.0</td>\n",
       "      <td>0.0</td>\n",
       "      <td>0.000000</td>\n",
       "      <td>0.000000</td>\n",
       "      <td>0.0</td>\n",
       "      <td>0.0</td>\n",
       "      <td>0.0</td>\n",
       "      <td>0.000000</td>\n",
       "      <td>0.0</td>\n",
       "      <td>0.000000</td>\n",
       "    </tr>\n",
       "    <tr>\n",
       "      <td>2</td>\n",
       "      <td>0.0</td>\n",
       "      <td>0.000000</td>\n",
       "      <td>0.0</td>\n",
       "      <td>0.0</td>\n",
       "      <td>0.0</td>\n",
       "      <td>0.0</td>\n",
       "      <td>0.0</td>\n",
       "      <td>0.0</td>\n",
       "      <td>0.0</td>\n",
       "      <td>0.0</td>\n",
       "      <td>...</td>\n",
       "      <td>0.0</td>\n",
       "      <td>0.0</td>\n",
       "      <td>0.000000</td>\n",
       "      <td>0.000000</td>\n",
       "      <td>0.0</td>\n",
       "      <td>0.0</td>\n",
       "      <td>0.0</td>\n",
       "      <td>0.000000</td>\n",
       "      <td>0.0</td>\n",
       "      <td>0.000000</td>\n",
       "    </tr>\n",
       "    <tr>\n",
       "      <td>3</td>\n",
       "      <td>0.0</td>\n",
       "      <td>0.000000</td>\n",
       "      <td>0.0</td>\n",
       "      <td>0.0</td>\n",
       "      <td>0.0</td>\n",
       "      <td>0.0</td>\n",
       "      <td>0.0</td>\n",
       "      <td>0.0</td>\n",
       "      <td>0.0</td>\n",
       "      <td>0.0</td>\n",
       "      <td>...</td>\n",
       "      <td>0.0</td>\n",
       "      <td>0.0</td>\n",
       "      <td>0.000000</td>\n",
       "      <td>0.000000</td>\n",
       "      <td>0.0</td>\n",
       "      <td>0.0</td>\n",
       "      <td>0.0</td>\n",
       "      <td>0.000000</td>\n",
       "      <td>0.0</td>\n",
       "      <td>0.000000</td>\n",
       "    </tr>\n",
       "    <tr>\n",
       "      <td>4</td>\n",
       "      <td>0.0</td>\n",
       "      <td>0.000000</td>\n",
       "      <td>0.0</td>\n",
       "      <td>0.0</td>\n",
       "      <td>0.0</td>\n",
       "      <td>0.0</td>\n",
       "      <td>0.0</td>\n",
       "      <td>0.0</td>\n",
       "      <td>0.0</td>\n",
       "      <td>0.0</td>\n",
       "      <td>...</td>\n",
       "      <td>0.0</td>\n",
       "      <td>0.0</td>\n",
       "      <td>0.000000</td>\n",
       "      <td>0.000000</td>\n",
       "      <td>0.0</td>\n",
       "      <td>0.0</td>\n",
       "      <td>0.0</td>\n",
       "      <td>0.000000</td>\n",
       "      <td>0.0</td>\n",
       "      <td>0.000000</td>\n",
       "    </tr>\n",
       "    <tr>\n",
       "      <td>...</td>\n",
       "      <td>...</td>\n",
       "      <td>...</td>\n",
       "      <td>...</td>\n",
       "      <td>...</td>\n",
       "      <td>...</td>\n",
       "      <td>...</td>\n",
       "      <td>...</td>\n",
       "      <td>...</td>\n",
       "      <td>...</td>\n",
       "      <td>...</td>\n",
       "      <td>...</td>\n",
       "      <td>...</td>\n",
       "      <td>...</td>\n",
       "      <td>...</td>\n",
       "      <td>...</td>\n",
       "      <td>...</td>\n",
       "      <td>...</td>\n",
       "      <td>...</td>\n",
       "      <td>...</td>\n",
       "      <td>...</td>\n",
       "      <td>...</td>\n",
       "    </tr>\n",
       "    <tr>\n",
       "      <td>523</td>\n",
       "      <td>0.0</td>\n",
       "      <td>0.000000</td>\n",
       "      <td>0.0</td>\n",
       "      <td>0.0</td>\n",
       "      <td>0.0</td>\n",
       "      <td>0.0</td>\n",
       "      <td>0.0</td>\n",
       "      <td>0.0</td>\n",
       "      <td>0.0</td>\n",
       "      <td>0.0</td>\n",
       "      <td>...</td>\n",
       "      <td>0.0</td>\n",
       "      <td>0.0</td>\n",
       "      <td>0.000000</td>\n",
       "      <td>0.000000</td>\n",
       "      <td>0.0</td>\n",
       "      <td>0.0</td>\n",
       "      <td>0.0</td>\n",
       "      <td>0.000000</td>\n",
       "      <td>0.0</td>\n",
       "      <td>0.000000</td>\n",
       "    </tr>\n",
       "    <tr>\n",
       "      <td>524</td>\n",
       "      <td>0.0</td>\n",
       "      <td>0.000000</td>\n",
       "      <td>0.0</td>\n",
       "      <td>0.0</td>\n",
       "      <td>0.0</td>\n",
       "      <td>0.0</td>\n",
       "      <td>0.0</td>\n",
       "      <td>0.0</td>\n",
       "      <td>0.0</td>\n",
       "      <td>0.0</td>\n",
       "      <td>...</td>\n",
       "      <td>0.0</td>\n",
       "      <td>0.0</td>\n",
       "      <td>0.060213</td>\n",
       "      <td>0.081717</td>\n",
       "      <td>0.0</td>\n",
       "      <td>0.0</td>\n",
       "      <td>0.0</td>\n",
       "      <td>0.000000</td>\n",
       "      <td>0.0</td>\n",
       "      <td>0.000000</td>\n",
       "    </tr>\n",
       "    <tr>\n",
       "      <td>525</td>\n",
       "      <td>0.0</td>\n",
       "      <td>0.000000</td>\n",
       "      <td>0.0</td>\n",
       "      <td>0.0</td>\n",
       "      <td>0.0</td>\n",
       "      <td>0.0</td>\n",
       "      <td>0.0</td>\n",
       "      <td>0.0</td>\n",
       "      <td>0.0</td>\n",
       "      <td>0.0</td>\n",
       "      <td>...</td>\n",
       "      <td>0.0</td>\n",
       "      <td>0.0</td>\n",
       "      <td>0.000000</td>\n",
       "      <td>0.000000</td>\n",
       "      <td>0.0</td>\n",
       "      <td>0.0</td>\n",
       "      <td>0.0</td>\n",
       "      <td>0.000000</td>\n",
       "      <td>0.0</td>\n",
       "      <td>0.242948</td>\n",
       "    </tr>\n",
       "    <tr>\n",
       "      <td>526</td>\n",
       "      <td>0.0</td>\n",
       "      <td>0.000000</td>\n",
       "      <td>0.0</td>\n",
       "      <td>0.0</td>\n",
       "      <td>0.0</td>\n",
       "      <td>0.0</td>\n",
       "      <td>0.0</td>\n",
       "      <td>0.0</td>\n",
       "      <td>0.0</td>\n",
       "      <td>0.0</td>\n",
       "      <td>...</td>\n",
       "      <td>0.0</td>\n",
       "      <td>0.0</td>\n",
       "      <td>0.175756</td>\n",
       "      <td>0.000000</td>\n",
       "      <td>0.0</td>\n",
       "      <td>0.0</td>\n",
       "      <td>0.0</td>\n",
       "      <td>0.000000</td>\n",
       "      <td>0.0</td>\n",
       "      <td>0.000000</td>\n",
       "    </tr>\n",
       "    <tr>\n",
       "      <td>527</td>\n",
       "      <td>0.0</td>\n",
       "      <td>0.000000</td>\n",
       "      <td>0.0</td>\n",
       "      <td>0.0</td>\n",
       "      <td>0.0</td>\n",
       "      <td>0.0</td>\n",
       "      <td>0.0</td>\n",
       "      <td>0.0</td>\n",
       "      <td>0.0</td>\n",
       "      <td>0.0</td>\n",
       "      <td>...</td>\n",
       "      <td>0.0</td>\n",
       "      <td>0.0</td>\n",
       "      <td>0.000000</td>\n",
       "      <td>0.000000</td>\n",
       "      <td>0.0</td>\n",
       "      <td>0.0</td>\n",
       "      <td>0.0</td>\n",
       "      <td>0.000000</td>\n",
       "      <td>0.0</td>\n",
       "      <td>0.000000</td>\n",
       "    </tr>\n",
       "  </tbody>\n",
       "</table>\n",
       "<p>528 rows × 918 columns</p>\n",
       "</div>"
      ],
      "text/plain": [
       "      10       100   12   15   18   20  2020  21st   30   40  ...  wrote  \\\n",
       "0    0.0  0.109919  0.0  0.0  0.0  0.0   0.0   0.0  0.0  0.0  ...    0.0   \n",
       "1    0.0  0.000000  0.0  0.0  0.0  0.0   0.0   0.0  0.0  0.0  ...    0.0   \n",
       "2    0.0  0.000000  0.0  0.0  0.0  0.0   0.0   0.0  0.0  0.0  ...    0.0   \n",
       "3    0.0  0.000000  0.0  0.0  0.0  0.0   0.0   0.0  0.0  0.0  ...    0.0   \n",
       "4    0.0  0.000000  0.0  0.0  0.0  0.0   0.0   0.0  0.0  0.0  ...    0.0   \n",
       "..   ...       ...  ...  ...  ...  ...   ...   ...  ...  ...  ...    ...   \n",
       "523  0.0  0.000000  0.0  0.0  0.0  0.0   0.0   0.0  0.0  0.0  ...    0.0   \n",
       "524  0.0  0.000000  0.0  0.0  0.0  0.0   0.0   0.0  0.0  0.0  ...    0.0   \n",
       "525  0.0  0.000000  0.0  0.0  0.0  0.0   0.0   0.0  0.0  0.0  ...    0.0   \n",
       "526  0.0  0.000000  0.0  0.0  0.0  0.0   0.0   0.0  0.0  0.0  ...    0.0   \n",
       "527  0.0  0.000000  0.0  0.0  0.0  0.0   0.0   0.0  0.0  0.0  ...    0.0   \n",
       "\n",
       "     yeah      year       yes  yesterday  yet  york     young  youre     youve  \n",
       "0     0.0  0.065454  0.000000        0.0  0.0   0.0  0.106904    0.0  0.000000  \n",
       "1     0.0  0.000000  0.000000        0.0  0.0   0.0  0.000000    0.0  0.000000  \n",
       "2     0.0  0.000000  0.000000        0.0  0.0   0.0  0.000000    0.0  0.000000  \n",
       "3     0.0  0.000000  0.000000        0.0  0.0   0.0  0.000000    0.0  0.000000  \n",
       "4     0.0  0.000000  0.000000        0.0  0.0   0.0  0.000000    0.0  0.000000  \n",
       "..    ...       ...       ...        ...  ...   ...       ...    ...       ...  \n",
       "523   0.0  0.000000  0.000000        0.0  0.0   0.0  0.000000    0.0  0.000000  \n",
       "524   0.0  0.060213  0.081717        0.0  0.0   0.0  0.000000    0.0  0.000000  \n",
       "525   0.0  0.000000  0.000000        0.0  0.0   0.0  0.000000    0.0  0.242948  \n",
       "526   0.0  0.175756  0.000000        0.0  0.0   0.0  0.000000    0.0  0.000000  \n",
       "527   0.0  0.000000  0.000000        0.0  0.0   0.0  0.000000    0.0  0.000000  \n",
       "\n",
       "[528 rows x 918 columns]"
      ]
     },
     "execution_count": 97,
     "metadata": {},
     "output_type": "execute_result"
    }
   ],
   "source": [
    "tf_training_matrix_df #Creating our sparse matrix as created in a similar way above. "
   ]
  },
  {
   "cell_type": "markdown",
   "metadata": {},
   "source": [
    "#### Removing unwanted tokens which have numerical values or specialcharacters along with texts"
   ]
  },
  {
   "cell_type": "code",
   "execution_count": 98,
   "metadata": {},
   "outputs": [],
   "source": [
    "tf_training_matrix_df.drop(tf_training_matrix_df.iloc[:, 0:15], inplace = True, axis = 1)"
   ]
  },
  {
   "cell_type": "code",
   "execution_count": 99,
   "metadata": {},
   "outputs": [
    {
     "data": {
      "text/html": [
       "<div>\n",
       "<style scoped>\n",
       "    .dataframe tbody tr th:only-of-type {\n",
       "        vertical-align: middle;\n",
       "    }\n",
       "\n",
       "    .dataframe tbody tr th {\n",
       "        vertical-align: top;\n",
       "    }\n",
       "\n",
       "    .dataframe thead th {\n",
       "        text-align: right;\n",
       "    }\n",
       "</style>\n",
       "<table border=\"1\" class=\"dataframe\">\n",
       "  <thead>\n",
       "    <tr style=\"text-align: right;\">\n",
       "      <th></th>\n",
       "      <th>ability</th>\n",
       "      <th>able</th>\n",
       "      <th>absolutely</th>\n",
       "      <th>access</th>\n",
       "      <th>accountability</th>\n",
       "      <th>accountable</th>\n",
       "      <th>across</th>\n",
       "      <th>act</th>\n",
       "      <th>action</th>\n",
       "      <th>actually</th>\n",
       "      <th>...</th>\n",
       "      <th>wrote</th>\n",
       "      <th>yeah</th>\n",
       "      <th>year</th>\n",
       "      <th>yes</th>\n",
       "      <th>yesterday</th>\n",
       "      <th>yet</th>\n",
       "      <th>york</th>\n",
       "      <th>young</th>\n",
       "      <th>youre</th>\n",
       "      <th>youve</th>\n",
       "    </tr>\n",
       "  </thead>\n",
       "  <tbody>\n",
       "    <tr>\n",
       "      <td>0</td>\n",
       "      <td>0.000000</td>\n",
       "      <td>0.000000</td>\n",
       "      <td>0.0</td>\n",
       "      <td>0.000000</td>\n",
       "      <td>0.0</td>\n",
       "      <td>0.0</td>\n",
       "      <td>0.0</td>\n",
       "      <td>0.292841</td>\n",
       "      <td>0.23059</td>\n",
       "      <td>0.000000</td>\n",
       "      <td>...</td>\n",
       "      <td>0.0</td>\n",
       "      <td>0.0</td>\n",
       "      <td>0.065454</td>\n",
       "      <td>0.000000</td>\n",
       "      <td>0.0</td>\n",
       "      <td>0.0</td>\n",
       "      <td>0.0</td>\n",
       "      <td>0.106904</td>\n",
       "      <td>0.0</td>\n",
       "      <td>0.000000</td>\n",
       "    </tr>\n",
       "    <tr>\n",
       "      <td>1</td>\n",
       "      <td>0.000000</td>\n",
       "      <td>0.334548</td>\n",
       "      <td>0.0</td>\n",
       "      <td>0.000000</td>\n",
       "      <td>0.0</td>\n",
       "      <td>0.0</td>\n",
       "      <td>0.0</td>\n",
       "      <td>0.000000</td>\n",
       "      <td>0.00000</td>\n",
       "      <td>0.000000</td>\n",
       "      <td>...</td>\n",
       "      <td>0.0</td>\n",
       "      <td>0.0</td>\n",
       "      <td>0.000000</td>\n",
       "      <td>0.000000</td>\n",
       "      <td>0.0</td>\n",
       "      <td>0.0</td>\n",
       "      <td>0.0</td>\n",
       "      <td>0.000000</td>\n",
       "      <td>0.0</td>\n",
       "      <td>0.000000</td>\n",
       "    </tr>\n",
       "    <tr>\n",
       "      <td>2</td>\n",
       "      <td>0.397654</td>\n",
       "      <td>0.000000</td>\n",
       "      <td>0.0</td>\n",
       "      <td>0.000000</td>\n",
       "      <td>0.0</td>\n",
       "      <td>0.0</td>\n",
       "      <td>0.0</td>\n",
       "      <td>0.000000</td>\n",
       "      <td>0.00000</td>\n",
       "      <td>0.000000</td>\n",
       "      <td>...</td>\n",
       "      <td>0.0</td>\n",
       "      <td>0.0</td>\n",
       "      <td>0.000000</td>\n",
       "      <td>0.000000</td>\n",
       "      <td>0.0</td>\n",
       "      <td>0.0</td>\n",
       "      <td>0.0</td>\n",
       "      <td>0.000000</td>\n",
       "      <td>0.0</td>\n",
       "      <td>0.000000</td>\n",
       "    </tr>\n",
       "    <tr>\n",
       "      <td>3</td>\n",
       "      <td>0.000000</td>\n",
       "      <td>0.000000</td>\n",
       "      <td>0.0</td>\n",
       "      <td>0.000000</td>\n",
       "      <td>0.0</td>\n",
       "      <td>0.0</td>\n",
       "      <td>0.0</td>\n",
       "      <td>0.000000</td>\n",
       "      <td>0.00000</td>\n",
       "      <td>0.000000</td>\n",
       "      <td>...</td>\n",
       "      <td>0.0</td>\n",
       "      <td>0.0</td>\n",
       "      <td>0.000000</td>\n",
       "      <td>0.000000</td>\n",
       "      <td>0.0</td>\n",
       "      <td>0.0</td>\n",
       "      <td>0.0</td>\n",
       "      <td>0.000000</td>\n",
       "      <td>0.0</td>\n",
       "      <td>0.000000</td>\n",
       "    </tr>\n",
       "    <tr>\n",
       "      <td>4</td>\n",
       "      <td>0.000000</td>\n",
       "      <td>0.000000</td>\n",
       "      <td>0.0</td>\n",
       "      <td>0.000000</td>\n",
       "      <td>0.0</td>\n",
       "      <td>0.0</td>\n",
       "      <td>0.0</td>\n",
       "      <td>0.000000</td>\n",
       "      <td>0.00000</td>\n",
       "      <td>0.102635</td>\n",
       "      <td>...</td>\n",
       "      <td>0.0</td>\n",
       "      <td>0.0</td>\n",
       "      <td>0.000000</td>\n",
       "      <td>0.000000</td>\n",
       "      <td>0.0</td>\n",
       "      <td>0.0</td>\n",
       "      <td>0.0</td>\n",
       "      <td>0.000000</td>\n",
       "      <td>0.0</td>\n",
       "      <td>0.000000</td>\n",
       "    </tr>\n",
       "    <tr>\n",
       "      <td>...</td>\n",
       "      <td>...</td>\n",
       "      <td>...</td>\n",
       "      <td>...</td>\n",
       "      <td>...</td>\n",
       "      <td>...</td>\n",
       "      <td>...</td>\n",
       "      <td>...</td>\n",
       "      <td>...</td>\n",
       "      <td>...</td>\n",
       "      <td>...</td>\n",
       "      <td>...</td>\n",
       "      <td>...</td>\n",
       "      <td>...</td>\n",
       "      <td>...</td>\n",
       "      <td>...</td>\n",
       "      <td>...</td>\n",
       "      <td>...</td>\n",
       "      <td>...</td>\n",
       "      <td>...</td>\n",
       "      <td>...</td>\n",
       "      <td>...</td>\n",
       "    </tr>\n",
       "    <tr>\n",
       "      <td>523</td>\n",
       "      <td>0.000000</td>\n",
       "      <td>0.000000</td>\n",
       "      <td>0.0</td>\n",
       "      <td>0.000000</td>\n",
       "      <td>0.0</td>\n",
       "      <td>0.0</td>\n",
       "      <td>0.0</td>\n",
       "      <td>0.000000</td>\n",
       "      <td>0.00000</td>\n",
       "      <td>0.000000</td>\n",
       "      <td>...</td>\n",
       "      <td>0.0</td>\n",
       "      <td>0.0</td>\n",
       "      <td>0.000000</td>\n",
       "      <td>0.000000</td>\n",
       "      <td>0.0</td>\n",
       "      <td>0.0</td>\n",
       "      <td>0.0</td>\n",
       "      <td>0.000000</td>\n",
       "      <td>0.0</td>\n",
       "      <td>0.000000</td>\n",
       "    </tr>\n",
       "    <tr>\n",
       "      <td>524</td>\n",
       "      <td>0.000000</td>\n",
       "      <td>0.164683</td>\n",
       "      <td>0.0</td>\n",
       "      <td>0.000000</td>\n",
       "      <td>0.0</td>\n",
       "      <td>0.0</td>\n",
       "      <td>0.0</td>\n",
       "      <td>0.000000</td>\n",
       "      <td>0.00000</td>\n",
       "      <td>0.000000</td>\n",
       "      <td>...</td>\n",
       "      <td>0.0</td>\n",
       "      <td>0.0</td>\n",
       "      <td>0.060213</td>\n",
       "      <td>0.081717</td>\n",
       "      <td>0.0</td>\n",
       "      <td>0.0</td>\n",
       "      <td>0.0</td>\n",
       "      <td>0.000000</td>\n",
       "      <td>0.0</td>\n",
       "      <td>0.000000</td>\n",
       "    </tr>\n",
       "    <tr>\n",
       "      <td>525</td>\n",
       "      <td>0.000000</td>\n",
       "      <td>0.000000</td>\n",
       "      <td>0.0</td>\n",
       "      <td>0.000000</td>\n",
       "      <td>0.0</td>\n",
       "      <td>0.0</td>\n",
       "      <td>0.0</td>\n",
       "      <td>0.000000</td>\n",
       "      <td>0.00000</td>\n",
       "      <td>0.000000</td>\n",
       "      <td>...</td>\n",
       "      <td>0.0</td>\n",
       "      <td>0.0</td>\n",
       "      <td>0.000000</td>\n",
       "      <td>0.000000</td>\n",
       "      <td>0.0</td>\n",
       "      <td>0.0</td>\n",
       "      <td>0.0</td>\n",
       "      <td>0.000000</td>\n",
       "      <td>0.0</td>\n",
       "      <td>0.242948</td>\n",
       "    </tr>\n",
       "    <tr>\n",
       "      <td>526</td>\n",
       "      <td>0.000000</td>\n",
       "      <td>0.000000</td>\n",
       "      <td>0.0</td>\n",
       "      <td>0.000000</td>\n",
       "      <td>0.0</td>\n",
       "      <td>0.0</td>\n",
       "      <td>0.0</td>\n",
       "      <td>0.000000</td>\n",
       "      <td>0.00000</td>\n",
       "      <td>0.000000</td>\n",
       "      <td>...</td>\n",
       "      <td>0.0</td>\n",
       "      <td>0.0</td>\n",
       "      <td>0.175756</td>\n",
       "      <td>0.000000</td>\n",
       "      <td>0.0</td>\n",
       "      <td>0.0</td>\n",
       "      <td>0.0</td>\n",
       "      <td>0.000000</td>\n",
       "      <td>0.0</td>\n",
       "      <td>0.000000</td>\n",
       "    </tr>\n",
       "    <tr>\n",
       "      <td>527</td>\n",
       "      <td>0.000000</td>\n",
       "      <td>0.000000</td>\n",
       "      <td>0.0</td>\n",
       "      <td>0.134716</td>\n",
       "      <td>0.0</td>\n",
       "      <td>0.0</td>\n",
       "      <td>0.0</td>\n",
       "      <td>0.000000</td>\n",
       "      <td>0.00000</td>\n",
       "      <td>0.000000</td>\n",
       "      <td>...</td>\n",
       "      <td>0.0</td>\n",
       "      <td>0.0</td>\n",
       "      <td>0.000000</td>\n",
       "      <td>0.000000</td>\n",
       "      <td>0.0</td>\n",
       "      <td>0.0</td>\n",
       "      <td>0.0</td>\n",
       "      <td>0.000000</td>\n",
       "      <td>0.0</td>\n",
       "      <td>0.000000</td>\n",
       "    </tr>\n",
       "  </tbody>\n",
       "</table>\n",
       "<p>528 rows × 903 columns</p>\n",
       "</div>"
      ],
      "text/plain": [
       "      ability      able  absolutely    access  accountability  accountable  \\\n",
       "0    0.000000  0.000000         0.0  0.000000             0.0          0.0   \n",
       "1    0.000000  0.334548         0.0  0.000000             0.0          0.0   \n",
       "2    0.397654  0.000000         0.0  0.000000             0.0          0.0   \n",
       "3    0.000000  0.000000         0.0  0.000000             0.0          0.0   \n",
       "4    0.000000  0.000000         0.0  0.000000             0.0          0.0   \n",
       "..        ...       ...         ...       ...             ...          ...   \n",
       "523  0.000000  0.000000         0.0  0.000000             0.0          0.0   \n",
       "524  0.000000  0.164683         0.0  0.000000             0.0          0.0   \n",
       "525  0.000000  0.000000         0.0  0.000000             0.0          0.0   \n",
       "526  0.000000  0.000000         0.0  0.000000             0.0          0.0   \n",
       "527  0.000000  0.000000         0.0  0.134716             0.0          0.0   \n",
       "\n",
       "     across       act   action  actually  ...  wrote  yeah      year  \\\n",
       "0       0.0  0.292841  0.23059  0.000000  ...    0.0   0.0  0.065454   \n",
       "1       0.0  0.000000  0.00000  0.000000  ...    0.0   0.0  0.000000   \n",
       "2       0.0  0.000000  0.00000  0.000000  ...    0.0   0.0  0.000000   \n",
       "3       0.0  0.000000  0.00000  0.000000  ...    0.0   0.0  0.000000   \n",
       "4       0.0  0.000000  0.00000  0.102635  ...    0.0   0.0  0.000000   \n",
       "..      ...       ...      ...       ...  ...    ...   ...       ...   \n",
       "523     0.0  0.000000  0.00000  0.000000  ...    0.0   0.0  0.000000   \n",
       "524     0.0  0.000000  0.00000  0.000000  ...    0.0   0.0  0.060213   \n",
       "525     0.0  0.000000  0.00000  0.000000  ...    0.0   0.0  0.000000   \n",
       "526     0.0  0.000000  0.00000  0.000000  ...    0.0   0.0  0.175756   \n",
       "527     0.0  0.000000  0.00000  0.000000  ...    0.0   0.0  0.000000   \n",
       "\n",
       "          yes  yesterday  yet  york     young  youre     youve  \n",
       "0    0.000000        0.0  0.0   0.0  0.106904    0.0  0.000000  \n",
       "1    0.000000        0.0  0.0   0.0  0.000000    0.0  0.000000  \n",
       "2    0.000000        0.0  0.0   0.0  0.000000    0.0  0.000000  \n",
       "3    0.000000        0.0  0.0   0.0  0.000000    0.0  0.000000  \n",
       "4    0.000000        0.0  0.0   0.0  0.000000    0.0  0.000000  \n",
       "..        ...        ...  ...   ...       ...    ...       ...  \n",
       "523  0.000000        0.0  0.0   0.0  0.000000    0.0  0.000000  \n",
       "524  0.081717        0.0  0.0   0.0  0.000000    0.0  0.000000  \n",
       "525  0.000000        0.0  0.0   0.0  0.000000    0.0  0.242948  \n",
       "526  0.000000        0.0  0.0   0.0  0.000000    0.0  0.000000  \n",
       "527  0.000000        0.0  0.0   0.0  0.000000    0.0  0.000000  \n",
       "\n",
       "[528 rows x 903 columns]"
      ]
     },
     "execution_count": 99,
     "metadata": {},
     "output_type": "execute_result"
    }
   ],
   "source": [
    "tf_training_matrix_df"
   ]
  },
  {
   "cell_type": "markdown",
   "metadata": {},
   "source": [
    "#### Preparing Tf-IDF testing data"
   ]
  },
  {
   "cell_type": "code",
   "execution_count": 100,
   "metadata": {},
   "outputs": [],
   "source": [
    "Z = tf_vectorizer.fit(training_data_new.Final.values)\n",
    "\n",
    "Z = tf_vectorizer.transform(testing_data_new.Final.values)"
   ]
  },
  {
   "cell_type": "code",
   "execution_count": 101,
   "metadata": {},
   "outputs": [],
   "source": [
    "tf_testing_matrix_df = pd.DataFrame.sparse.from_spmatrix(Z)"
   ]
  },
  {
   "cell_type": "code",
   "execution_count": 102,
   "metadata": {},
   "outputs": [
    {
     "data": {
      "text/html": [
       "<div>\n",
       "<style scoped>\n",
       "    .dataframe tbody tr th:only-of-type {\n",
       "        vertical-align: middle;\n",
       "    }\n",
       "\n",
       "    .dataframe tbody tr th {\n",
       "        vertical-align: top;\n",
       "    }\n",
       "\n",
       "    .dataframe thead th {\n",
       "        text-align: right;\n",
       "    }\n",
       "</style>\n",
       "<table border=\"1\" class=\"dataframe\">\n",
       "  <thead>\n",
       "    <tr style=\"text-align: right;\">\n",
       "      <th></th>\n",
       "      <th>0</th>\n",
       "      <th>1</th>\n",
       "      <th>2</th>\n",
       "      <th>3</th>\n",
       "      <th>4</th>\n",
       "      <th>5</th>\n",
       "      <th>6</th>\n",
       "      <th>7</th>\n",
       "      <th>8</th>\n",
       "      <th>9</th>\n",
       "      <th>...</th>\n",
       "      <th>908</th>\n",
       "      <th>909</th>\n",
       "      <th>910</th>\n",
       "      <th>911</th>\n",
       "      <th>912</th>\n",
       "      <th>913</th>\n",
       "      <th>914</th>\n",
       "      <th>915</th>\n",
       "      <th>916</th>\n",
       "      <th>917</th>\n",
       "    </tr>\n",
       "  </thead>\n",
       "  <tbody>\n",
       "    <tr>\n",
       "      <td>0</td>\n",
       "      <td>0.0</td>\n",
       "      <td>0.0</td>\n",
       "      <td>0.0</td>\n",
       "      <td>0.0</td>\n",
       "      <td>0.0</td>\n",
       "      <td>0.0</td>\n",
       "      <td>0.0</td>\n",
       "      <td>0.0</td>\n",
       "      <td>0.0</td>\n",
       "      <td>0.0</td>\n",
       "      <td>...</td>\n",
       "      <td>0.0</td>\n",
       "      <td>0.0</td>\n",
       "      <td>0.000000</td>\n",
       "      <td>0.0</td>\n",
       "      <td>0.0</td>\n",
       "      <td>0.0</td>\n",
       "      <td>0.0</td>\n",
       "      <td>0.0</td>\n",
       "      <td>0.0</td>\n",
       "      <td>0.0</td>\n",
       "    </tr>\n",
       "    <tr>\n",
       "      <td>1</td>\n",
       "      <td>0.0</td>\n",
       "      <td>0.0</td>\n",
       "      <td>0.0</td>\n",
       "      <td>0.0</td>\n",
       "      <td>0.0</td>\n",
       "      <td>0.0</td>\n",
       "      <td>0.0</td>\n",
       "      <td>0.0</td>\n",
       "      <td>0.0</td>\n",
       "      <td>0.0</td>\n",
       "      <td>...</td>\n",
       "      <td>0.0</td>\n",
       "      <td>0.0</td>\n",
       "      <td>0.000000</td>\n",
       "      <td>0.0</td>\n",
       "      <td>0.0</td>\n",
       "      <td>0.0</td>\n",
       "      <td>0.0</td>\n",
       "      <td>0.0</td>\n",
       "      <td>0.0</td>\n",
       "      <td>0.0</td>\n",
       "    </tr>\n",
       "    <tr>\n",
       "      <td>2</td>\n",
       "      <td>0.0</td>\n",
       "      <td>0.0</td>\n",
       "      <td>0.0</td>\n",
       "      <td>0.0</td>\n",
       "      <td>0.0</td>\n",
       "      <td>0.0</td>\n",
       "      <td>0.0</td>\n",
       "      <td>0.0</td>\n",
       "      <td>0.0</td>\n",
       "      <td>0.0</td>\n",
       "      <td>...</td>\n",
       "      <td>0.0</td>\n",
       "      <td>0.0</td>\n",
       "      <td>0.000000</td>\n",
       "      <td>0.0</td>\n",
       "      <td>0.0</td>\n",
       "      <td>0.0</td>\n",
       "      <td>0.0</td>\n",
       "      <td>0.0</td>\n",
       "      <td>0.0</td>\n",
       "      <td>0.0</td>\n",
       "    </tr>\n",
       "    <tr>\n",
       "      <td>3</td>\n",
       "      <td>0.0</td>\n",
       "      <td>0.0</td>\n",
       "      <td>0.0</td>\n",
       "      <td>0.0</td>\n",
       "      <td>0.0</td>\n",
       "      <td>0.0</td>\n",
       "      <td>0.0</td>\n",
       "      <td>0.0</td>\n",
       "      <td>0.0</td>\n",
       "      <td>0.0</td>\n",
       "      <td>...</td>\n",
       "      <td>0.0</td>\n",
       "      <td>0.0</td>\n",
       "      <td>0.000000</td>\n",
       "      <td>0.0</td>\n",
       "      <td>0.0</td>\n",
       "      <td>0.0</td>\n",
       "      <td>0.0</td>\n",
       "      <td>0.0</td>\n",
       "      <td>0.0</td>\n",
       "      <td>0.0</td>\n",
       "    </tr>\n",
       "    <tr>\n",
       "      <td>4</td>\n",
       "      <td>0.0</td>\n",
       "      <td>0.0</td>\n",
       "      <td>0.0</td>\n",
       "      <td>0.0</td>\n",
       "      <td>0.0</td>\n",
       "      <td>0.0</td>\n",
       "      <td>0.0</td>\n",
       "      <td>0.0</td>\n",
       "      <td>0.0</td>\n",
       "      <td>0.0</td>\n",
       "      <td>...</td>\n",
       "      <td>0.0</td>\n",
       "      <td>0.0</td>\n",
       "      <td>0.075223</td>\n",
       "      <td>0.0</td>\n",
       "      <td>0.0</td>\n",
       "      <td>0.0</td>\n",
       "      <td>0.0</td>\n",
       "      <td>0.0</td>\n",
       "      <td>0.0</td>\n",
       "      <td>0.0</td>\n",
       "    </tr>\n",
       "    <tr>\n",
       "      <td>...</td>\n",
       "      <td>...</td>\n",
       "      <td>...</td>\n",
       "      <td>...</td>\n",
       "      <td>...</td>\n",
       "      <td>...</td>\n",
       "      <td>...</td>\n",
       "      <td>...</td>\n",
       "      <td>...</td>\n",
       "      <td>...</td>\n",
       "      <td>...</td>\n",
       "      <td>...</td>\n",
       "      <td>...</td>\n",
       "      <td>...</td>\n",
       "      <td>...</td>\n",
       "      <td>...</td>\n",
       "      <td>...</td>\n",
       "      <td>...</td>\n",
       "      <td>...</td>\n",
       "      <td>...</td>\n",
       "      <td>...</td>\n",
       "      <td>...</td>\n",
       "    </tr>\n",
       "    <tr>\n",
       "      <td>106</td>\n",
       "      <td>0.0</td>\n",
       "      <td>0.0</td>\n",
       "      <td>0.0</td>\n",
       "      <td>0.0</td>\n",
       "      <td>0.0</td>\n",
       "      <td>0.0</td>\n",
       "      <td>0.0</td>\n",
       "      <td>0.0</td>\n",
       "      <td>0.0</td>\n",
       "      <td>0.0</td>\n",
       "      <td>...</td>\n",
       "      <td>0.0</td>\n",
       "      <td>0.0</td>\n",
       "      <td>0.000000</td>\n",
       "      <td>0.0</td>\n",
       "      <td>0.0</td>\n",
       "      <td>0.0</td>\n",
       "      <td>0.0</td>\n",
       "      <td>0.0</td>\n",
       "      <td>0.0</td>\n",
       "      <td>0.0</td>\n",
       "    </tr>\n",
       "    <tr>\n",
       "      <td>107</td>\n",
       "      <td>0.0</td>\n",
       "      <td>0.0</td>\n",
       "      <td>0.0</td>\n",
       "      <td>0.0</td>\n",
       "      <td>0.0</td>\n",
       "      <td>0.0</td>\n",
       "      <td>0.0</td>\n",
       "      <td>0.0</td>\n",
       "      <td>0.0</td>\n",
       "      <td>0.0</td>\n",
       "      <td>...</td>\n",
       "      <td>0.0</td>\n",
       "      <td>0.0</td>\n",
       "      <td>0.078243</td>\n",
       "      <td>0.0</td>\n",
       "      <td>0.0</td>\n",
       "      <td>0.0</td>\n",
       "      <td>0.0</td>\n",
       "      <td>0.0</td>\n",
       "      <td>0.0</td>\n",
       "      <td>0.0</td>\n",
       "    </tr>\n",
       "    <tr>\n",
       "      <td>108</td>\n",
       "      <td>0.0</td>\n",
       "      <td>0.0</td>\n",
       "      <td>0.0</td>\n",
       "      <td>0.0</td>\n",
       "      <td>0.0</td>\n",
       "      <td>0.0</td>\n",
       "      <td>0.0</td>\n",
       "      <td>0.0</td>\n",
       "      <td>0.0</td>\n",
       "      <td>0.0</td>\n",
       "      <td>...</td>\n",
       "      <td>0.0</td>\n",
       "      <td>0.0</td>\n",
       "      <td>0.000000</td>\n",
       "      <td>0.0</td>\n",
       "      <td>0.0</td>\n",
       "      <td>0.0</td>\n",
       "      <td>0.0</td>\n",
       "      <td>0.0</td>\n",
       "      <td>0.0</td>\n",
       "      <td>0.0</td>\n",
       "    </tr>\n",
       "    <tr>\n",
       "      <td>109</td>\n",
       "      <td>0.0</td>\n",
       "      <td>0.0</td>\n",
       "      <td>0.0</td>\n",
       "      <td>0.0</td>\n",
       "      <td>0.0</td>\n",
       "      <td>0.0</td>\n",
       "      <td>0.0</td>\n",
       "      <td>0.0</td>\n",
       "      <td>0.0</td>\n",
       "      <td>0.0</td>\n",
       "      <td>...</td>\n",
       "      <td>0.0</td>\n",
       "      <td>0.0</td>\n",
       "      <td>0.000000</td>\n",
       "      <td>0.0</td>\n",
       "      <td>0.0</td>\n",
       "      <td>0.0</td>\n",
       "      <td>0.0</td>\n",
       "      <td>0.0</td>\n",
       "      <td>0.0</td>\n",
       "      <td>0.0</td>\n",
       "    </tr>\n",
       "    <tr>\n",
       "      <td>110</td>\n",
       "      <td>0.0</td>\n",
       "      <td>0.0</td>\n",
       "      <td>0.0</td>\n",
       "      <td>0.0</td>\n",
       "      <td>0.0</td>\n",
       "      <td>0.0</td>\n",
       "      <td>0.0</td>\n",
       "      <td>0.0</td>\n",
       "      <td>0.0</td>\n",
       "      <td>0.0</td>\n",
       "      <td>...</td>\n",
       "      <td>0.0</td>\n",
       "      <td>0.0</td>\n",
       "      <td>0.000000</td>\n",
       "      <td>0.0</td>\n",
       "      <td>0.0</td>\n",
       "      <td>0.0</td>\n",
       "      <td>0.0</td>\n",
       "      <td>0.0</td>\n",
       "      <td>0.0</td>\n",
       "      <td>0.0</td>\n",
       "    </tr>\n",
       "  </tbody>\n",
       "</table>\n",
       "<p>111 rows × 918 columns</p>\n",
       "</div>"
      ],
      "text/plain": [
       "     0    1    2    3    4    5    6    7    8    9    ...  908  909  \\\n",
       "0    0.0  0.0  0.0  0.0  0.0  0.0  0.0  0.0  0.0  0.0  ...  0.0  0.0   \n",
       "1    0.0  0.0  0.0  0.0  0.0  0.0  0.0  0.0  0.0  0.0  ...  0.0  0.0   \n",
       "2    0.0  0.0  0.0  0.0  0.0  0.0  0.0  0.0  0.0  0.0  ...  0.0  0.0   \n",
       "3    0.0  0.0  0.0  0.0  0.0  0.0  0.0  0.0  0.0  0.0  ...  0.0  0.0   \n",
       "4    0.0  0.0  0.0  0.0  0.0  0.0  0.0  0.0  0.0  0.0  ...  0.0  0.0   \n",
       "..   ...  ...  ...  ...  ...  ...  ...  ...  ...  ...  ...  ...  ...   \n",
       "106  0.0  0.0  0.0  0.0  0.0  0.0  0.0  0.0  0.0  0.0  ...  0.0  0.0   \n",
       "107  0.0  0.0  0.0  0.0  0.0  0.0  0.0  0.0  0.0  0.0  ...  0.0  0.0   \n",
       "108  0.0  0.0  0.0  0.0  0.0  0.0  0.0  0.0  0.0  0.0  ...  0.0  0.0   \n",
       "109  0.0  0.0  0.0  0.0  0.0  0.0  0.0  0.0  0.0  0.0  ...  0.0  0.0   \n",
       "110  0.0  0.0  0.0  0.0  0.0  0.0  0.0  0.0  0.0  0.0  ...  0.0  0.0   \n",
       "\n",
       "          910  911  912  913  914  915  916  917  \n",
       "0    0.000000  0.0  0.0  0.0  0.0  0.0  0.0  0.0  \n",
       "1    0.000000  0.0  0.0  0.0  0.0  0.0  0.0  0.0  \n",
       "2    0.000000  0.0  0.0  0.0  0.0  0.0  0.0  0.0  \n",
       "3    0.000000  0.0  0.0  0.0  0.0  0.0  0.0  0.0  \n",
       "4    0.075223  0.0  0.0  0.0  0.0  0.0  0.0  0.0  \n",
       "..        ...  ...  ...  ...  ...  ...  ...  ...  \n",
       "106  0.000000  0.0  0.0  0.0  0.0  0.0  0.0  0.0  \n",
       "107  0.078243  0.0  0.0  0.0  0.0  0.0  0.0  0.0  \n",
       "108  0.000000  0.0  0.0  0.0  0.0  0.0  0.0  0.0  \n",
       "109  0.000000  0.0  0.0  0.0  0.0  0.0  0.0  0.0  \n",
       "110  0.000000  0.0  0.0  0.0  0.0  0.0  0.0  0.0  \n",
       "\n",
       "[111 rows x 918 columns]"
      ]
     },
     "execution_count": 102,
     "metadata": {},
     "output_type": "execute_result"
    }
   ],
   "source": [
    "tf_testing_matrix_df"
   ]
  },
  {
   "cell_type": "code",
   "execution_count": 103,
   "metadata": {},
   "outputs": [],
   "source": [
    "tf_testing_matrix_df.columns = tf_vectorizer.get_feature_names()"
   ]
  },
  {
   "cell_type": "code",
   "execution_count": 104,
   "metadata": {},
   "outputs": [],
   "source": [
    "tf_testing_matrix_df.drop(tf_testing_matrix_df.iloc[:, 0:15], inplace = True, axis = 1)"
   ]
  },
  {
   "cell_type": "code",
   "execution_count": 105,
   "metadata": {},
   "outputs": [
    {
     "data": {
      "text/html": [
       "<div>\n",
       "<style scoped>\n",
       "    .dataframe tbody tr th:only-of-type {\n",
       "        vertical-align: middle;\n",
       "    }\n",
       "\n",
       "    .dataframe tbody tr th {\n",
       "        vertical-align: top;\n",
       "    }\n",
       "\n",
       "    .dataframe thead th {\n",
       "        text-align: right;\n",
       "    }\n",
       "</style>\n",
       "<table border=\"1\" class=\"dataframe\">\n",
       "  <thead>\n",
       "    <tr style=\"text-align: right;\">\n",
       "      <th></th>\n",
       "      <th>ability</th>\n",
       "      <th>able</th>\n",
       "      <th>absolutely</th>\n",
       "      <th>access</th>\n",
       "      <th>accountability</th>\n",
       "      <th>accountable</th>\n",
       "      <th>across</th>\n",
       "      <th>act</th>\n",
       "      <th>action</th>\n",
       "      <th>actually</th>\n",
       "      <th>...</th>\n",
       "      <th>wrote</th>\n",
       "      <th>yeah</th>\n",
       "      <th>year</th>\n",
       "      <th>yes</th>\n",
       "      <th>yesterday</th>\n",
       "      <th>yet</th>\n",
       "      <th>york</th>\n",
       "      <th>young</th>\n",
       "      <th>youre</th>\n",
       "      <th>youve</th>\n",
       "    </tr>\n",
       "  </thead>\n",
       "  <tbody>\n",
       "    <tr>\n",
       "      <td>0</td>\n",
       "      <td>0.000000</td>\n",
       "      <td>0.0</td>\n",
       "      <td>0.0</td>\n",
       "      <td>0.0</td>\n",
       "      <td>0.0</td>\n",
       "      <td>0.0</td>\n",
       "      <td>0.0</td>\n",
       "      <td>0.0</td>\n",
       "      <td>0.0</td>\n",
       "      <td>0.000000</td>\n",
       "      <td>...</td>\n",
       "      <td>0.0</td>\n",
       "      <td>0.0</td>\n",
       "      <td>0.000000</td>\n",
       "      <td>0.0</td>\n",
       "      <td>0.0</td>\n",
       "      <td>0.0</td>\n",
       "      <td>0.0</td>\n",
       "      <td>0.0</td>\n",
       "      <td>0.0</td>\n",
       "      <td>0.0</td>\n",
       "    </tr>\n",
       "    <tr>\n",
       "      <td>1</td>\n",
       "      <td>0.000000</td>\n",
       "      <td>0.0</td>\n",
       "      <td>0.0</td>\n",
       "      <td>0.0</td>\n",
       "      <td>0.0</td>\n",
       "      <td>0.0</td>\n",
       "      <td>0.0</td>\n",
       "      <td>0.0</td>\n",
       "      <td>0.0</td>\n",
       "      <td>0.000000</td>\n",
       "      <td>...</td>\n",
       "      <td>0.0</td>\n",
       "      <td>0.0</td>\n",
       "      <td>0.000000</td>\n",
       "      <td>0.0</td>\n",
       "      <td>0.0</td>\n",
       "      <td>0.0</td>\n",
       "      <td>0.0</td>\n",
       "      <td>0.0</td>\n",
       "      <td>0.0</td>\n",
       "      <td>0.0</td>\n",
       "    </tr>\n",
       "    <tr>\n",
       "      <td>2</td>\n",
       "      <td>0.179855</td>\n",
       "      <td>0.0</td>\n",
       "      <td>0.0</td>\n",
       "      <td>0.0</td>\n",
       "      <td>0.0</td>\n",
       "      <td>0.0</td>\n",
       "      <td>0.0</td>\n",
       "      <td>0.0</td>\n",
       "      <td>0.0</td>\n",
       "      <td>0.120877</td>\n",
       "      <td>...</td>\n",
       "      <td>0.0</td>\n",
       "      <td>0.0</td>\n",
       "      <td>0.000000</td>\n",
       "      <td>0.0</td>\n",
       "      <td>0.0</td>\n",
       "      <td>0.0</td>\n",
       "      <td>0.0</td>\n",
       "      <td>0.0</td>\n",
       "      <td>0.0</td>\n",
       "      <td>0.0</td>\n",
       "    </tr>\n",
       "    <tr>\n",
       "      <td>3</td>\n",
       "      <td>0.000000</td>\n",
       "      <td>0.0</td>\n",
       "      <td>0.0</td>\n",
       "      <td>0.0</td>\n",
       "      <td>0.0</td>\n",
       "      <td>0.0</td>\n",
       "      <td>0.0</td>\n",
       "      <td>0.0</td>\n",
       "      <td>0.0</td>\n",
       "      <td>0.000000</td>\n",
       "      <td>...</td>\n",
       "      <td>0.0</td>\n",
       "      <td>0.0</td>\n",
       "      <td>0.000000</td>\n",
       "      <td>0.0</td>\n",
       "      <td>0.0</td>\n",
       "      <td>0.0</td>\n",
       "      <td>0.0</td>\n",
       "      <td>0.0</td>\n",
       "      <td>0.0</td>\n",
       "      <td>0.0</td>\n",
       "    </tr>\n",
       "    <tr>\n",
       "      <td>4</td>\n",
       "      <td>0.000000</td>\n",
       "      <td>0.0</td>\n",
       "      <td>0.0</td>\n",
       "      <td>0.0</td>\n",
       "      <td>0.0</td>\n",
       "      <td>0.0</td>\n",
       "      <td>0.0</td>\n",
       "      <td>0.0</td>\n",
       "      <td>0.0</td>\n",
       "      <td>0.000000</td>\n",
       "      <td>...</td>\n",
       "      <td>0.0</td>\n",
       "      <td>0.0</td>\n",
       "      <td>0.075223</td>\n",
       "      <td>0.0</td>\n",
       "      <td>0.0</td>\n",
       "      <td>0.0</td>\n",
       "      <td>0.0</td>\n",
       "      <td>0.0</td>\n",
       "      <td>0.0</td>\n",
       "      <td>0.0</td>\n",
       "    </tr>\n",
       "    <tr>\n",
       "      <td>...</td>\n",
       "      <td>...</td>\n",
       "      <td>...</td>\n",
       "      <td>...</td>\n",
       "      <td>...</td>\n",
       "      <td>...</td>\n",
       "      <td>...</td>\n",
       "      <td>...</td>\n",
       "      <td>...</td>\n",
       "      <td>...</td>\n",
       "      <td>...</td>\n",
       "      <td>...</td>\n",
       "      <td>...</td>\n",
       "      <td>...</td>\n",
       "      <td>...</td>\n",
       "      <td>...</td>\n",
       "      <td>...</td>\n",
       "      <td>...</td>\n",
       "      <td>...</td>\n",
       "      <td>...</td>\n",
       "      <td>...</td>\n",
       "      <td>...</td>\n",
       "    </tr>\n",
       "    <tr>\n",
       "      <td>106</td>\n",
       "      <td>0.000000</td>\n",
       "      <td>0.0</td>\n",
       "      <td>0.0</td>\n",
       "      <td>0.0</td>\n",
       "      <td>0.0</td>\n",
       "      <td>0.0</td>\n",
       "      <td>0.0</td>\n",
       "      <td>0.0</td>\n",
       "      <td>0.0</td>\n",
       "      <td>0.000000</td>\n",
       "      <td>...</td>\n",
       "      <td>0.0</td>\n",
       "      <td>0.0</td>\n",
       "      <td>0.000000</td>\n",
       "      <td>0.0</td>\n",
       "      <td>0.0</td>\n",
       "      <td>0.0</td>\n",
       "      <td>0.0</td>\n",
       "      <td>0.0</td>\n",
       "      <td>0.0</td>\n",
       "      <td>0.0</td>\n",
       "    </tr>\n",
       "    <tr>\n",
       "      <td>107</td>\n",
       "      <td>0.000000</td>\n",
       "      <td>0.0</td>\n",
       "      <td>0.0</td>\n",
       "      <td>0.0</td>\n",
       "      <td>0.0</td>\n",
       "      <td>0.0</td>\n",
       "      <td>0.0</td>\n",
       "      <td>0.0</td>\n",
       "      <td>0.0</td>\n",
       "      <td>0.000000</td>\n",
       "      <td>...</td>\n",
       "      <td>0.0</td>\n",
       "      <td>0.0</td>\n",
       "      <td>0.078243</td>\n",
       "      <td>0.0</td>\n",
       "      <td>0.0</td>\n",
       "      <td>0.0</td>\n",
       "      <td>0.0</td>\n",
       "      <td>0.0</td>\n",
       "      <td>0.0</td>\n",
       "      <td>0.0</td>\n",
       "    </tr>\n",
       "    <tr>\n",
       "      <td>108</td>\n",
       "      <td>0.000000</td>\n",
       "      <td>0.0</td>\n",
       "      <td>0.0</td>\n",
       "      <td>0.0</td>\n",
       "      <td>0.0</td>\n",
       "      <td>0.0</td>\n",
       "      <td>0.0</td>\n",
       "      <td>0.0</td>\n",
       "      <td>0.0</td>\n",
       "      <td>0.000000</td>\n",
       "      <td>...</td>\n",
       "      <td>0.0</td>\n",
       "      <td>0.0</td>\n",
       "      <td>0.000000</td>\n",
       "      <td>0.0</td>\n",
       "      <td>0.0</td>\n",
       "      <td>0.0</td>\n",
       "      <td>0.0</td>\n",
       "      <td>0.0</td>\n",
       "      <td>0.0</td>\n",
       "      <td>0.0</td>\n",
       "    </tr>\n",
       "    <tr>\n",
       "      <td>109</td>\n",
       "      <td>0.000000</td>\n",
       "      <td>0.0</td>\n",
       "      <td>0.0</td>\n",
       "      <td>0.0</td>\n",
       "      <td>0.0</td>\n",
       "      <td>0.0</td>\n",
       "      <td>0.0</td>\n",
       "      <td>0.0</td>\n",
       "      <td>0.0</td>\n",
       "      <td>0.000000</td>\n",
       "      <td>...</td>\n",
       "      <td>0.0</td>\n",
       "      <td>0.0</td>\n",
       "      <td>0.000000</td>\n",
       "      <td>0.0</td>\n",
       "      <td>0.0</td>\n",
       "      <td>0.0</td>\n",
       "      <td>0.0</td>\n",
       "      <td>0.0</td>\n",
       "      <td>0.0</td>\n",
       "      <td>0.0</td>\n",
       "    </tr>\n",
       "    <tr>\n",
       "      <td>110</td>\n",
       "      <td>0.000000</td>\n",
       "      <td>0.0</td>\n",
       "      <td>0.0</td>\n",
       "      <td>0.0</td>\n",
       "      <td>0.0</td>\n",
       "      <td>0.0</td>\n",
       "      <td>0.0</td>\n",
       "      <td>0.0</td>\n",
       "      <td>0.0</td>\n",
       "      <td>0.000000</td>\n",
       "      <td>...</td>\n",
       "      <td>0.0</td>\n",
       "      <td>0.0</td>\n",
       "      <td>0.000000</td>\n",
       "      <td>0.0</td>\n",
       "      <td>0.0</td>\n",
       "      <td>0.0</td>\n",
       "      <td>0.0</td>\n",
       "      <td>0.0</td>\n",
       "      <td>0.0</td>\n",
       "      <td>0.0</td>\n",
       "    </tr>\n",
       "  </tbody>\n",
       "</table>\n",
       "<p>111 rows × 903 columns</p>\n",
       "</div>"
      ],
      "text/plain": [
       "      ability  able  absolutely  access  accountability  accountable  across  \\\n",
       "0    0.000000   0.0         0.0     0.0             0.0          0.0     0.0   \n",
       "1    0.000000   0.0         0.0     0.0             0.0          0.0     0.0   \n",
       "2    0.179855   0.0         0.0     0.0             0.0          0.0     0.0   \n",
       "3    0.000000   0.0         0.0     0.0             0.0          0.0     0.0   \n",
       "4    0.000000   0.0         0.0     0.0             0.0          0.0     0.0   \n",
       "..        ...   ...         ...     ...             ...          ...     ...   \n",
       "106  0.000000   0.0         0.0     0.0             0.0          0.0     0.0   \n",
       "107  0.000000   0.0         0.0     0.0             0.0          0.0     0.0   \n",
       "108  0.000000   0.0         0.0     0.0             0.0          0.0     0.0   \n",
       "109  0.000000   0.0         0.0     0.0             0.0          0.0     0.0   \n",
       "110  0.000000   0.0         0.0     0.0             0.0          0.0     0.0   \n",
       "\n",
       "     act  action  actually  ...  wrote  yeah      year  yes  yesterday  yet  \\\n",
       "0    0.0     0.0  0.000000  ...    0.0   0.0  0.000000  0.0        0.0  0.0   \n",
       "1    0.0     0.0  0.000000  ...    0.0   0.0  0.000000  0.0        0.0  0.0   \n",
       "2    0.0     0.0  0.120877  ...    0.0   0.0  0.000000  0.0        0.0  0.0   \n",
       "3    0.0     0.0  0.000000  ...    0.0   0.0  0.000000  0.0        0.0  0.0   \n",
       "4    0.0     0.0  0.000000  ...    0.0   0.0  0.075223  0.0        0.0  0.0   \n",
       "..   ...     ...       ...  ...    ...   ...       ...  ...        ...  ...   \n",
       "106  0.0     0.0  0.000000  ...    0.0   0.0  0.000000  0.0        0.0  0.0   \n",
       "107  0.0     0.0  0.000000  ...    0.0   0.0  0.078243  0.0        0.0  0.0   \n",
       "108  0.0     0.0  0.000000  ...    0.0   0.0  0.000000  0.0        0.0  0.0   \n",
       "109  0.0     0.0  0.000000  ...    0.0   0.0  0.000000  0.0        0.0  0.0   \n",
       "110  0.0     0.0  0.000000  ...    0.0   0.0  0.000000  0.0        0.0  0.0   \n",
       "\n",
       "     york  young  youre  youve  \n",
       "0     0.0    0.0    0.0    0.0  \n",
       "1     0.0    0.0    0.0    0.0  \n",
       "2     0.0    0.0    0.0    0.0  \n",
       "3     0.0    0.0    0.0    0.0  \n",
       "4     0.0    0.0    0.0    0.0  \n",
       "..    ...    ...    ...    ...  \n",
       "106   0.0    0.0    0.0    0.0  \n",
       "107   0.0    0.0    0.0    0.0  \n",
       "108   0.0    0.0    0.0    0.0  \n",
       "109   0.0    0.0    0.0    0.0  \n",
       "110   0.0    0.0    0.0    0.0  \n",
       "\n",
       "[111 rows x 903 columns]"
      ]
     },
     "execution_count": 105,
     "metadata": {},
     "output_type": "execute_result"
    }
   ],
   "source": [
    "tf_testing_matrix_df "
   ]
  },
  {
   "cell_type": "markdown",
   "metadata": {},
   "source": [
    "We can see that we have successfully created our TF-IDF testing matrix dataframe. "
   ]
  },
  {
   "cell_type": "markdown",
   "metadata": {},
   "source": [
    "#### Problem - 8 "
   ]
  },
  {
   "cell_type": "markdown",
   "metadata": {},
   "source": [
    "You will create three different models for this problem set: a regularized logistic regression\n",
    "model, a tree-based model (your choice of any tree-based model), and any other model of\n",
    "your choice (regardless of whether it was discussed in class or not). You do not need to\n",
    "implement anything from scratch and can use out-of-the-box models/pipelines. To start, build\n",
    "a regularized logistic regression model. What was your regularization coefficient and how well\n",
    "does this model perform? Are there any classes where it performs particularly well? Are there\n",
    "any classes where it performs particularly poorly? Use graphs/tables where appropriate and\n",
    "contextualize results."
   ]
  },
  {
   "cell_type": "markdown",
   "metadata": {},
   "source": [
    "#### Modelling For Logistic Regression "
   ]
  },
  {
   "cell_type": "code",
   "execution_count": 106,
   "metadata": {},
   "outputs": [],
   "source": [
    "training_matrix_df['Target'] = training_data_new['Names']"
   ]
  },
  {
   "cell_type": "code",
   "execution_count": 107,
   "metadata": {},
   "outputs": [],
   "source": [
    "from sklearn.model_selection import train_test_split"
   ]
  },
  {
   "cell_type": "code",
   "execution_count": 108,
   "metadata": {},
   "outputs": [],
   "source": [
    "X_train,X_test,y_train,y_test = train_test_split(training_matrix_df.iloc[:,:-1], training_matrix_df['Target'], test_size=0.20, random_state=42)"
   ]
  },
  {
   "cell_type": "code",
   "execution_count": 109,
   "metadata": {},
   "outputs": [
    {
     "data": {
      "text/plain": [
       "(422, 4339)"
      ]
     },
     "execution_count": 109,
     "metadata": {},
     "output_type": "execute_result"
    }
   ],
   "source": [
    "X_train.shape"
   ]
  },
  {
   "cell_type": "code",
   "execution_count": 110,
   "metadata": {},
   "outputs": [
    {
     "data": {
      "text/plain": [
       "(106, 4339)"
      ]
     },
     "execution_count": 110,
     "metadata": {},
     "output_type": "execute_result"
    }
   ],
   "source": [
    "X_test.shape"
   ]
  },
  {
   "cell_type": "code",
   "execution_count": 111,
   "metadata": {},
   "outputs": [
    {
     "data": {
      "text/plain": [
       "(422,)"
      ]
     },
     "execution_count": 111,
     "metadata": {},
     "output_type": "execute_result"
    }
   ],
   "source": [
    "y_train.shape"
   ]
  },
  {
   "cell_type": "code",
   "execution_count": 112,
   "metadata": {},
   "outputs": [
    {
     "data": {
      "text/plain": [
       "(106,)"
      ]
     },
     "execution_count": 112,
     "metadata": {},
     "output_type": "execute_result"
    }
   ],
   "source": [
    "y_test.shape"
   ]
  },
  {
   "cell_type": "code",
   "execution_count": 113,
   "metadata": {},
   "outputs": [
    {
     "name": "stderr",
     "output_type": "stream",
     "text": [
      "/Users/apple/opt/anaconda3/lib/python3.7/site-packages/sklearn/linear_model/logistic.py:432: FutureWarning: Default solver will be changed to 'lbfgs' in 0.22. Specify a solver to silence this warning.\n",
      "  FutureWarning)\n",
      "/Users/apple/opt/anaconda3/lib/python3.7/site-packages/sklearn/linear_model/logistic.py:469: FutureWarning: Default multi_class will be changed to 'auto' in 0.22. Specify the multi_class option to silence this warning.\n",
      "  \"this warning.\", FutureWarning)\n"
     ]
    }
   ],
   "source": [
    "logi_model = LogisticRegression(random_state=20).fit(X_train, y_train)"
   ]
  },
  {
   "cell_type": "code",
   "execution_count": 114,
   "metadata": {},
   "outputs": [],
   "source": [
    "Logi_Predicted = logi_model.predict(X_test)"
   ]
  },
  {
   "cell_type": "code",
   "execution_count": 115,
   "metadata": {},
   "outputs": [
    {
     "data": {
      "text/plain": [
       "array(['Warren', 'Castro', 'Warren', 'Klobuchar', 'Biden', 'Klobuchar',\n",
       "       'Harris', 'Booker', 'Sanders', 'Warren', 'Klobuchar', 'Buttigieg',\n",
       "       'Buttigieg', 'Yang', 'Buttigieg', 'Castro', 'Harris', \"O'Rourke\",\n",
       "       'Klobuchar', 'Sanders', 'Sanders', 'Biden', 'Sanders', 'Klobuchar',\n",
       "       'Klobuchar', 'Warren', 'Biden', 'Warren', 'Warren', 'Biden',\n",
       "       'Buttigieg', 'Booker', 'Buttigieg', 'Warren', 'Harris', 'Biden',\n",
       "       'Biden', 'Booker', 'Klobuchar', 'Biden', 'Warren', 'Warren',\n",
       "       'Warren', 'Yang', 'Warren', 'Booker', 'Sanders', 'Castro',\n",
       "       'Castro', 'Biden', 'Buttigieg', 'Buttigieg', 'Biden', 'Warren',\n",
       "       'Warren', 'Booker', 'Steyer', 'Sanders', 'Buttigieg', \"O'Rourke\",\n",
       "       'Buttigieg', 'Sanders', 'Biden', 'Sanders', 'Klobuchar', 'Castro',\n",
       "       'Yang', 'Steyer', 'Biden', 'Warren', 'Buttigieg', 'Warren',\n",
       "       'Booker', 'Klobuchar', 'Harris', 'Biden', 'Warren', 'Buttigieg',\n",
       "       'Sanders', 'Warren', \"O'Rourke\", 'Buttigieg', 'Buttigieg',\n",
       "       'Steyer', 'Warren', 'Klobuchar', 'Booker', 'Buttigieg', 'Yang',\n",
       "       'Buttigieg', 'Steyer', 'Warren', 'Klobuchar', 'Sanders', 'Biden',\n",
       "       'Harris', \"O'Rourke\", 'Biden', 'Sanders', 'Buttigieg', 'Warren',\n",
       "       'Buttigieg', 'Buttigieg', 'Castro', 'Klobuchar', 'Warren'],\n",
       "      dtype=object)"
      ]
     },
     "execution_count": 115,
     "metadata": {},
     "output_type": "execute_result"
    }
   ],
   "source": [
    "Logi_Predicted"
   ]
  },
  {
   "cell_type": "code",
   "execution_count": 116,
   "metadata": {},
   "outputs": [
    {
     "name": "stdout",
     "output_type": "stream",
     "text": [
      "0.6226415094339622\n"
     ]
    }
   ],
   "source": [
    "# Using score method to get accuracy of model\n",
    "score = logi_model.score(X_test, y_test)\n",
    "print(score)"
   ]
  },
  {
   "cell_type": "markdown",
   "metadata": {},
   "source": [
    "We find the accuracy of our logistic regression model turns out ot be around 61.3 %. "
   ]
  },
  {
   "cell_type": "code",
   "execution_count": 117,
   "metadata": {},
   "outputs": [],
   "source": [
    "import seaborn as sns\n",
    "from sklearn import metrics"
   ]
  },
  {
   "cell_type": "code",
   "execution_count": 118,
   "metadata": {},
   "outputs": [
    {
     "name": "stdout",
     "output_type": "stream",
     "text": [
      "[[ 9  1  1  0  0  0  1  0  0  0  2  0]\n",
      " [ 1  4  1  0  0  0  1  1  1  0  0  0]\n",
      " [ 1  1  8  0  0  0  1  0  0  0  1  0]\n",
      " [ 0  0  1  3  0  0  0  0  0  0  0  0]\n",
      " [ 0  0  0  0  0  0  0  0  0  0  1  0]\n",
      " [ 0  1  3  0  0  5  1  0  0  0  1  0]\n",
      " [ 2  0  2  0  0  0  6  0  1  0  1  0]\n",
      " [ 1  0  1  1  0  0  1  3  0  0  1  0]\n",
      " [ 0  0  1  0  0  0  0  0  7  0  0  0]\n",
      " [ 0  0  0  0  0  0  0  0  0  4  0  0]\n",
      " [ 0  0  0  1  0  0  0  0  2  0 13  0]\n",
      " [ 0  0  0  1  0  0  1  0  0  0  1  4]]\n"
     ]
    }
   ],
   "source": [
    "com_matrix = metrics.confusion_matrix(y_test, Logi_Predicted)\n",
    "print(com_matrix)"
   ]
  },
  {
   "cell_type": "markdown",
   "metadata": {},
   "source": [
    "#### Using Seaborn to make a heatmap "
   ]
  },
  {
   "cell_type": "code",
   "execution_count": 119,
   "metadata": {},
   "outputs": [
    {
     "data": {
      "text/plain": [
       "12"
      ]
     },
     "execution_count": 119,
     "metadata": {},
     "output_type": "execute_result"
    }
   ],
   "source": [
    "len(training_matrix_df.Target.value_counts()) # To find the numeber of unique names in the target names. "
   ]
  },
  {
   "cell_type": "code",
   "execution_count": 120,
   "metadata": {
    "scrolled": true
   },
   "outputs": [
    {
     "data": {
      "image/png": "[encoded data removed]",
      "text/plain": [
       "<Figure size 864x864 with 2 Axes>"
      ]
     },
     "metadata": {
      "needs_background": "light"
     },
     "output_type": "display_data"
    }
   ],
   "source": [
    "training_matrix_df.Target.value_counts() \n",
    "\n",
    "matplot.figure(figsize=(12,12))\n",
    "sns.heatmap(com_matrix, annot=True, fmt=\".3f\", linewidths=.5, square = True, cmap = 'twilight_shifted');\n",
    "matplot.ylabel('Actual label');\n",
    "matplot.xlabel('Predicted label');\n",
    "all_sample_title = 'Accuracy Score: {0}'.format(score)\n",
    "matplot.title(all_sample_title, size = 15);"
   ]
  },
  {
   "cell_type": "markdown",
   "metadata": {},
   "source": [
    "Heat map clearly shows us how many of the labels are correctly calcualted in a more interactive manner. "
   ]
  },
  {
   "cell_type": "code",
   "execution_count": 121,
   "metadata": {},
   "outputs": [],
   "source": [
    "from sklearn.metrics import accuracy_score\n",
    "from sklearn.metrics import precision_score\n",
    "from sklearn.metrics import recall_score\n",
    "from sklearn.metrics import f1_score\n",
    "from sklearn.metrics import classification_report"
   ]
  },
  {
   "cell_type": "code",
   "execution_count": 122,
   "metadata": {},
   "outputs": [
    {
     "name": "stdout",
     "output_type": "stream",
     "text": [
      "Regularization Coefficient for logistic regression predcition is : [[-3.19127135e-02 -3.67374307e-06 -1.45825432e-02 ... -3.09808978e-02\n",
      "  -4.59662532e-02  0.00000000e+00]\n",
      " [-3.34556824e-02 -3.27260682e-03  5.74212346e-02 ... -3.07060132e-02\n",
      "  -2.33541217e-02  0.00000000e+00]\n",
      " [-7.69065647e-02 -3.64014746e-03 -2.49371407e-02 ... -2.37250409e-02\n",
      "  -2.43827246e-02  0.00000000e+00]\n",
      " ...\n",
      " [-9.16937805e-03 -4.06085414e-04 -8.22906950e-03 ... -6.89668143e-03\n",
      "  -1.41304524e-02  0.00000000e+00]\n",
      " [ 5.44954896e-01 -1.46062479e-03 -1.03001861e-03 ... -7.89149442e-03\n",
      "   7.48416949e-02  0.00000000e+00]\n",
      " [-6.19963528e-03 -5.56838432e-03 -3.08766028e-02 ...  6.90047938e-02\n",
      "  -1.20465815e-02  0.00000000e+00]]\n"
     ]
    }
   ],
   "source": [
    "print('Regularization Coefficient for logistic regression predcition is :',logi_model.coef_)"
   ]
  },
  {
   "cell_type": "markdown",
   "metadata": {},
   "source": [
    "The above code provides us the regularization coefficients which are chosen such that they minimize the loss function. The process of regularization usually improves the generalization performance and we can see that for our data the accuracy obtained is around 62 %, so we can say that we have a decent model performance and our model also has an ok F1 score of 0.58 but more domain knowledge is required to further provide a comment. Though F1 score is a good measure than accuracy as it takes into account both precision and recall and very low F1 scores is a clear indication of poor model performance and F1 score is also a good measure when we don't have very even class distribution which is quite the case in our analysis. "
   ]
  },
  {
   "cell_type": "code",
   "execution_count": 123,
   "metadata": {},
   "outputs": [
    {
     "name": "stdout",
     "output_type": "stream",
     "text": [
      "Accuracy for logistic regression predcition is : 0.6226415094339622\n",
      "Recall for logistic regression prediction is : 0.6386784511784512\n",
      "Precision for logistic regression predcition is : 0.5910368566618566\n",
      "F1 Score for logistic regression prediction is : 0.5890006676190886\n"
     ]
    },
    {
     "name": "stderr",
     "output_type": "stream",
     "text": [
      "/Users/apple/opt/anaconda3/lib/python3.7/site-packages/sklearn/metrics/classification.py:1437: UndefinedMetricWarning: Precision is ill-defined and being set to 0.0 in labels with no predicted samples.\n",
      "  'precision', 'predicted', average, warn_for)\n",
      "/Users/apple/opt/anaconda3/lib/python3.7/site-packages/sklearn/metrics/classification.py:1437: UndefinedMetricWarning: F-score is ill-defined and being set to 0.0 in labels with no predicted samples.\n",
      "  'precision', 'predicted', average, warn_for)\n"
     ]
    }
   ],
   "source": [
    "print('Accuracy for logistic regression predcition is :', accuracy_score(y_test, Logi_Predicted))\n",
    "print('Recall for logistic regression prediction is :', precision_score(y_test, Logi_Predicted,average=\"macro\"))\n",
    "print('Precision for logistic regression predcition is :', recall_score(y_test, Logi_Predicted,average=\"macro\"))\n",
    "print('F1 Score for logistic regression prediction is :', f1_score(y_test, Logi_Predicted,average=\"macro\"))"
   ]
  },
  {
   "cell_type": "code",
   "execution_count": 124,
   "metadata": {},
   "outputs": [
    {
     "name": "stdout",
     "output_type": "stream",
     "text": [
      "\n",
      " The following is the Classification Report per unique Target Name: \n",
      " \n",
      "               precision    recall  f1-score   support\n",
      "\n",
      "       Biden       0.64      0.64      0.64        14\n",
      "      Booker       0.57      0.44      0.50         9\n",
      "   Buttigieg       0.44      0.67      0.53        12\n",
      "      Castro       0.50      0.75      0.60         4\n",
      "     Gabbard       0.00      0.00      0.00         1\n",
      "      Harris       1.00      0.45      0.62        11\n",
      "   Klobuchar       0.50      0.50      0.50        12\n",
      "    O'Rourke       0.75      0.38      0.50         8\n",
      "     Sanders       0.64      0.88      0.74         8\n",
      "      Steyer       1.00      1.00      1.00         4\n",
      "      Warren       0.62      0.81      0.70        16\n",
      "        Yang       1.00      0.57      0.73         7\n",
      "\n",
      "    accuracy                           0.62       106\n",
      "   macro avg       0.64      0.59      0.59       106\n",
      "weighted avg       0.66      0.62      0.62       106\n",
      "\n"
     ]
    },
    {
     "name": "stderr",
     "output_type": "stream",
     "text": [
      "/Users/apple/opt/anaconda3/lib/python3.7/site-packages/sklearn/metrics/classification.py:1437: UndefinedMetricWarning: Precision and F-score are ill-defined and being set to 0.0 in labels with no predicted samples.\n",
      "  'precision', 'predicted', average, warn_for)\n"
     ]
    }
   ],
   "source": [
    "print(\"\\n The following is the Classification Report per unique Target Name: \\n \\n\", classification_report(y_test, Logi_Predicted))"
   ]
  },
  {
   "cell_type": "markdown",
   "metadata": {},
   "source": [
    "For this comparision we can use F1 score again, so we can see that for the class Steyer and Sanders our model performed very well and on the other end for class Booker,Klobuchrar and O'Rourke our model performed comparitively low. Overall accuracy for our model is close to 62%"
   ]
  },
  {
   "cell_type": "markdown",
   "metadata": {},
   "source": [
    "#### Problem - 9"
   ]
  },
  {
   "cell_type": "markdown",
   "metadata": {},
   "source": [
    "Next, build a tree-based model. Which model did you use and why? Are there any classes\n",
    "where it performs particularly well? Are there any classes where it performs particularly\n",
    "poorly? Use graphs/tables where appropriate and contextualize results."
   ]
  },
  {
   "cell_type": "markdown",
   "metadata": {},
   "source": [
    "#### Choosing Random Forest as our tree model "
   ]
  },
  {
   "cell_type": "markdown",
   "metadata": {},
   "source": [
    "#### Training Random Forest Classifier"
   ]
  },
  {
   "cell_type": "code",
   "execution_count": 125,
   "metadata": {},
   "outputs": [],
   "source": [
    "from sklearn.ensemble import RandomForestClassifier"
   ]
  },
  {
   "cell_type": "code",
   "execution_count": 126,
   "metadata": {},
   "outputs": [
    {
     "name": "stderr",
     "output_type": "stream",
     "text": [
      "/Users/apple/opt/anaconda3/lib/python3.7/site-packages/sklearn/ensemble/forest.py:245: FutureWarning: The default value of n_estimators will change from 10 in version 0.20 to 100 in 0.22.\n",
      "  \"10 in version 0.20 to 100 in 0.22.\", FutureWarning)\n"
     ]
    }
   ],
   "source": [
    "ranfor_model = RandomForestClassifier(criterion = 'entropy', max_depth=3).fit(X_train,y_train)"
   ]
  },
  {
   "cell_type": "markdown",
   "metadata": {},
   "source": [
    "#### Testing Random Forest Classifier"
   ]
  },
  {
   "cell_type": "code",
   "execution_count": 127,
   "metadata": {},
   "outputs": [],
   "source": [
    "ranfor_predicted = ranfor_model.predict(X_test)"
   ]
  },
  {
   "cell_type": "code",
   "execution_count": 128,
   "metadata": {},
   "outputs": [
    {
     "name": "stdout",
     "output_type": "stream",
     "text": [
      "Accuracy for Random Forest Classifier predcition is : 0.2169811320754717\n",
      "Recall for Random Forest Classifier prediction is : 0.09653729071537291\n",
      "Precision for Random Forest Classifier predcition is : 0.12847222222222224\n",
      "F1 Score for Random Forest Classifier prediction is : 0.08728044685522408\n"
     ]
    },
    {
     "name": "stderr",
     "output_type": "stream",
     "text": [
      "/Users/apple/opt/anaconda3/lib/python3.7/site-packages/sklearn/metrics/classification.py:1437: UndefinedMetricWarning: Precision is ill-defined and being set to 0.0 in labels with no predicted samples.\n",
      "  'precision', 'predicted', average, warn_for)\n",
      "/Users/apple/opt/anaconda3/lib/python3.7/site-packages/sklearn/metrics/classification.py:1437: UndefinedMetricWarning: F-score is ill-defined and being set to 0.0 in labels with no predicted samples.\n",
      "  'precision', 'predicted', average, warn_for)\n"
     ]
    }
   ],
   "source": [
    "print('Accuracy for Random Forest Classifier predcition is :', accuracy_score(y_test, ranfor_predicted))\n",
    "print('Recall for Random Forest Classifier prediction is :', precision_score(y_test, ranfor_predicted,average=\"macro\"))\n",
    "print('Precision for Random Forest Classifier predcition is :', recall_score(y_test, ranfor_predicted,average=\"macro\"))\n",
    "print('F1 Score for Random Forest Classifier prediction is :', f1_score(y_test, ranfor_predicted,average=\"macro\"))"
   ]
  },
  {
   "cell_type": "markdown",
   "metadata": {},
   "source": [
    "From the above analysis we saw that our Random Forest Classifier performed really poorly and the accuracy obtained is just close to 21.6% which is very low as compared to that obtained from the Logistic Regression model(62%). "
   ]
  },
  {
   "cell_type": "markdown",
   "metadata": {},
   "source": [
    "Hence we can give tree based models another try. Lets work with Decesion Tree Classifier with bagging. I have chosen bagging because I had observed in problem set 1 that results (accuracy) had improved with bagging. "
   ]
  },
  {
   "cell_type": "code",
   "execution_count": 253,
   "metadata": {},
   "outputs": [
    {
     "name": "stdout",
     "output_type": "stream",
     "text": [
      "\n",
      " The following is the Classification Report per unique Target Name: \n",
      " \n",
      "               precision    recall  f1-score   support\n",
      "\n",
      "       Biden       0.47      0.50      0.48        14\n",
      "      Booker       0.00      0.00      0.00         9\n",
      "   Buttigieg       0.25      0.08      0.12        12\n",
      "      Castro       0.00      0.00      0.00         4\n",
      "     Gabbard       0.00      0.00      0.00         1\n",
      "      Harris       0.00      0.00      0.00        11\n",
      "   Klobuchar       0.25      0.08      0.12        12\n",
      "    O'Rourke       0.00      0.00      0.00         8\n",
      "     Sanders       0.00      0.00      0.00         8\n",
      "      Steyer       0.00      0.00      0.00         4\n",
      "      Warren       0.19      0.88      0.31        16\n",
      "        Yang       0.00      0.00      0.00         7\n",
      "\n",
      "    accuracy                           0.22       106\n",
      "   macro avg       0.10      0.13      0.09       106\n",
      "weighted avg       0.15      0.22      0.14       106\n",
      "\n"
     ]
    }
   ],
   "source": [
    "print(\"\\n The following is the Classification Report per unique Target Name: \\n \\n\", classification_report(y_test, ranfor_predicted))"
   ]
  },
  {
   "cell_type": "markdown",
   "metadata": {},
   "source": [
    "We observe that comparitively for class Biden only our model has performed well. "
   ]
  },
  {
   "cell_type": "markdown",
   "metadata": {},
   "source": [
    "#### Decesion Tree Classifier  with bagging"
   ]
  },
  {
   "cell_type": "code",
   "execution_count": 129,
   "metadata": {},
   "outputs": [],
   "source": [
    "from sklearn.ensemble import BaggingClassifier\n",
    "from sklearn import tree"
   ]
  },
  {
   "cell_type": "code",
   "execution_count": 130,
   "metadata": {},
   "outputs": [],
   "source": [
    "dTreebg_model = BaggingClassifier(base_estimator = tree.DecisionTreeClassifier(criterion = 'entropy', max_depth=2)).fit(X_train,y_train)"
   ]
  },
  {
   "cell_type": "code",
   "execution_count": 131,
   "metadata": {},
   "outputs": [],
   "source": [
    "dTreebg_predicted = dTreebg_model.predict(X_test)"
   ]
  },
  {
   "cell_type": "code",
   "execution_count": 132,
   "metadata": {},
   "outputs": [
    {
     "name": "stdout",
     "output_type": "stream",
     "text": [
      "Accuracy for Decesion Tree Classifier with bagging predcition is : 0.2169811320754717\n",
      "Recall for Decesion Tree Classifier with bagging prediction is : 0.1668604342517386\n",
      "Precision for Decesion Tree Classifier with bagging predcition is : 0.1393022486772487\n",
      "F1 Score for Decesion Tree Classifier with bagging prediction is : 0.1080519244734931\n"
     ]
    },
    {
     "name": "stderr",
     "output_type": "stream",
     "text": [
      "/Users/apple/opt/anaconda3/lib/python3.7/site-packages/sklearn/metrics/classification.py:1437: UndefinedMetricWarning: Precision is ill-defined and being set to 0.0 in labels with no predicted samples.\n",
      "  'precision', 'predicted', average, warn_for)\n",
      "/Users/apple/opt/anaconda3/lib/python3.7/site-packages/sklearn/metrics/classification.py:1437: UndefinedMetricWarning: F-score is ill-defined and being set to 0.0 in labels with no predicted samples.\n",
      "  'precision', 'predicted', average, warn_for)\n"
     ]
    }
   ],
   "source": [
    "print('Accuracy for Decesion Tree Classifier with bagging predcition is :', accuracy_score(y_test, dTreebg_predicted ))\n",
    "print('Recall for Decesion Tree Classifier with bagging prediction is :', precision_score(y_test, dTreebg_predicted ,average=\"macro\"))\n",
    "print('Precision for Decesion Tree Classifier with bagging predcition is :', recall_score(y_test, dTreebg_predicted ,average=\"macro\"))\n",
    "print('F1 Score for Decesion Tree Classifier with bagging prediction is :', f1_score(y_test, dTreebg_predicted ,average=\"macro\"))"
   ]
  },
  {
   "cell_type": "markdown",
   "metadata": {},
   "source": [
    "We see that we had no luck with this decision tree classifier which is intuitive as random forest is a collection of multiple of these trees so we cannot use tree based classifier here for our analysis. "
   ]
  },
  {
   "cell_type": "code",
   "execution_count": 254,
   "metadata": {},
   "outputs": [
    {
     "name": "stdout",
     "output_type": "stream",
     "text": [
      "\n",
      " The following is the Classification Report per unique Target Name: \n",
      " \n",
      "               precision    recall  f1-score   support\n",
      "\n",
      "       Biden       0.46      0.43      0.44        14\n",
      "      Booker       0.29      0.22      0.25         9\n",
      "   Buttigieg       0.07      0.08      0.07        12\n",
      "      Castro       0.00      0.00      0.00         4\n",
      "     Gabbard       0.00      0.00      0.00         1\n",
      "      Harris       0.00      0.00      0.00        11\n",
      "   Klobuchar       0.00      0.00      0.00        12\n",
      "    O'Rourke       1.00      0.12      0.22         8\n",
      "     Sanders       0.00      0.00      0.00         8\n",
      "      Steyer       0.00      0.00      0.00         4\n",
      "      Warren       0.19      0.81      0.31        16\n",
      "        Yang       0.00      0.00      0.00         7\n",
      "\n",
      "    accuracy                           0.22       106\n",
      "   macro avg       0.17      0.14      0.11       106\n",
      "weighted avg       0.20      0.22      0.15       106\n",
      "\n"
     ]
    }
   ],
   "source": [
    "print(\"\\n The following is the Classification Report per unique Target Name: \\n \\n\", classification_report(y_test, dTreebg_predicted))"
   ]
  },
  {
   "cell_type": "markdown",
   "metadata": {},
   "source": [
    "Again we observe that for the class Biden our model has performed well with respect to the F1 score."
   ]
  },
  {
   "cell_type": "markdown",
   "metadata": {},
   "source": [
    "#### Problem - 10 "
   ]
  },
  {
   "cell_type": "markdown",
   "metadata": {},
   "source": [
    " Next, build any model other than the ones you’ve already built. Which model did you use and\n",
    "why? Did you tune hyperparameters? If so, which ones and how? Are there any classes where\n",
    "it performs particularly well? Are there any classes where it performs particularly poorly? Use\n",
    "graphs/tables where appropriate and contextualize results."
   ]
  },
  {
   "cell_type": "markdown",
   "metadata": {},
   "source": [
    "#### Trying SVM"
   ]
  },
  {
   "cell_type": "code",
   "execution_count": 133,
   "metadata": {},
   "outputs": [],
   "source": [
    "from sklearn import svm"
   ]
  },
  {
   "cell_type": "code",
   "execution_count": 134,
   "metadata": {},
   "outputs": [
    {
     "name": "stderr",
     "output_type": "stream",
     "text": [
      "/Users/apple/opt/anaconda3/lib/python3.7/site-packages/sklearn/svm/base.py:193: FutureWarning: The default value of gamma will change from 'auto' to 'scale' in version 0.22 to account better for unscaled features. Set gamma explicitly to 'auto' or 'scale' to avoid this warning.\n",
      "  \"avoid this warning.\", FutureWarning)\n"
     ]
    }
   ],
   "source": [
    "svm_model = svm.SVC(kernel='poly').fit(X_train,y_train)"
   ]
  },
  {
   "cell_type": "code",
   "execution_count": 135,
   "metadata": {},
   "outputs": [],
   "source": [
    "svm_predicted = svm_model.predict(X_test)"
   ]
  },
  {
   "cell_type": "code",
   "execution_count": 136,
   "metadata": {},
   "outputs": [
    {
     "name": "stdout",
     "output_type": "stream",
     "text": [
      "Accuracy for SVM Classifier with bagging predcition is : 0.1509433962264151\n",
      "Recall for SVM Classifier with bagging prediction is : 0.012578616352201257\n",
      "Precision for SVM Classifier with bagging predcition is : 0.08333333333333333\n",
      "F1 Score for SVM Classifier with bagging prediction is : 0.02185792349726776\n"
     ]
    },
    {
     "name": "stderr",
     "output_type": "stream",
     "text": [
      "/Users/apple/opt/anaconda3/lib/python3.7/site-packages/sklearn/metrics/classification.py:1437: UndefinedMetricWarning: Precision is ill-defined and being set to 0.0 in labels with no predicted samples.\n",
      "  'precision', 'predicted', average, warn_for)\n",
      "/Users/apple/opt/anaconda3/lib/python3.7/site-packages/sklearn/metrics/classification.py:1437: UndefinedMetricWarning: F-score is ill-defined and being set to 0.0 in labels with no predicted samples.\n",
      "  'precision', 'predicted', average, warn_for)\n"
     ]
    }
   ],
   "source": [
    "print('Accuracy for SVM Classifier with bagging predcition is :', accuracy_score(y_test, svm_predicted ))\n",
    "print('Recall for SVM Classifier with bagging prediction is :', precision_score(y_test, svm_predicted ,average=\"macro\"))\n",
    "print('Precision for SVM Classifier with bagging predcition is :', recall_score(y_test, svm_predicted ,average=\"macro\"))\n",
    "print('F1 Score for SVM Classifier with bagging prediction is :', f1_score(y_test, svm_predicted ,average=\"macro\"))"
   ]
  },
  {
   "cell_type": "code",
   "execution_count": 137,
   "metadata": {},
   "outputs": [],
   "source": [
    "#https://www.datacamp.com/community/tutorials/svm-classification-scikit-learn-python"
   ]
  },
  {
   "cell_type": "code",
   "execution_count": 138,
   "metadata": {},
   "outputs": [
    {
     "name": "stdout",
     "output_type": "stream",
     "text": [
      "\n",
      " The following is the Classification Report per unique Target Name: \n",
      " \n",
      "               precision    recall  f1-score   support\n",
      "\n",
      "       Biden       0.00      0.00      0.00        14\n",
      "      Booker       0.00      0.00      0.00         9\n",
      "   Buttigieg       0.00      0.00      0.00        12\n",
      "      Castro       0.00      0.00      0.00         4\n",
      "     Gabbard       0.00      0.00      0.00         1\n",
      "      Harris       0.00      0.00      0.00        11\n",
      "   Klobuchar       0.00      0.00      0.00        12\n",
      "    O'Rourke       0.00      0.00      0.00         8\n",
      "     Sanders       0.00      0.00      0.00         8\n",
      "      Steyer       0.00      0.00      0.00         4\n",
      "      Warren       0.15      1.00      0.26        16\n",
      "        Yang       0.00      0.00      0.00         7\n",
      "\n",
      "    accuracy                           0.15       106\n",
      "   macro avg       0.01      0.08      0.02       106\n",
      "weighted avg       0.02      0.15      0.04       106\n",
      "\n"
     ]
    },
    {
     "name": "stderr",
     "output_type": "stream",
     "text": [
      "/Users/apple/opt/anaconda3/lib/python3.7/site-packages/sklearn/metrics/classification.py:1437: UndefinedMetricWarning: Precision and F-score are ill-defined and being set to 0.0 in labels with no predicted samples.\n",
      "  'precision', 'predicted', average, warn_for)\n"
     ]
    }
   ],
   "source": [
    "print(\"\\n The following is the Classification Report per unique Target Name: \\n \\n\", classification_report(y_test, svm_predicted))"
   ]
  },
  {
   "cell_type": "markdown",
   "metadata": {},
   "source": [
    "We can observe that our model performed way too poorly with polynomial kernel and only got an accuracy close to a 15% and comparitively model performed well for class Warren comparitively."
   ]
  },
  {
   "cell_type": "markdown",
   "metadata": {},
   "source": [
    "#### Hyper Parameter Tuning for SVM classifier"
   ]
  },
  {
   "cell_type": "markdown",
   "metadata": {},
   "source": [
    "We see that since our number of features is really large than our training data so we can use 'linear' kernel here. "
   ]
  },
  {
   "cell_type": "code",
   "execution_count": 139,
   "metadata": {},
   "outputs": [],
   "source": [
    "svm_model_linear = svm.SVC(kernel='linear',gamma = 'auto').fit(X_train,y_train)\n",
    "svm_predicted_linear = svm_model_linear.predict(X_test)"
   ]
  },
  {
   "cell_type": "code",
   "execution_count": 140,
   "metadata": {},
   "outputs": [
    {
     "data": {
      "text/plain": [
       "0.4716981132075472"
      ]
     },
     "execution_count": 140,
     "metadata": {},
     "output_type": "execute_result"
    }
   ],
   "source": [
    "accuracy_score(y_test, svm_predicted_linear)"
   ]
  },
  {
   "cell_type": "markdown",
   "metadata": {},
   "source": [
    "We see that our accuracy is significantly improved, though changing Regularization parameter and gamma value doesn't change the accuracy much hence for hyper parameter tuning we are changing just the kernel here. "
   ]
  },
  {
   "cell_type": "markdown",
   "metadata": {},
   "source": [
    "#### Problem - 11"
   ]
  },
  {
   "cell_type": "markdown",
   "metadata": {},
   "source": [
    "Compare the performance of the three classifiers you built. Which is the strongest? Which\n",
    "is the weakest? Compare their performance across the different classes and use graphs/tables\n",
    "where appropriate."
   ]
  },
  {
   "cell_type": "markdown",
   "metadata": {},
   "source": [
    "We see that strongest model among all the models we have tried yet is Logistic Regression which has an accuracy of around 62%. Then comes SVM model with an accuracy of around 47% and at the end Tree based classifiers performed the worst with an accuracy of just around 16%. "
   ]
  },
  {
   "cell_type": "markdown",
   "metadata": {},
   "source": [
    "As described above we can model our data through TF_IDF method (benefits mentioned above) and observe if there are any improvements in the accuracy of the model."
   ]
  },
  {
   "cell_type": "markdown",
   "metadata": {},
   "source": [
    "Modelling on the tf_idf training data"
   ]
  },
  {
   "cell_type": "code",
   "execution_count": 141,
   "metadata": {},
   "outputs": [],
   "source": [
    "X_train,X_test,y_train,y_test = train_test_split(training_matrix_df.iloc[:,:-1], training_matrix_df['Target'], test_size=0.20, random_state=42)"
   ]
  },
  {
   "cell_type": "code",
   "execution_count": 142,
   "metadata": {},
   "outputs": [],
   "source": [
    "tf_training_matrix_df['Target'] = training_data_new['Names']"
   ]
  },
  {
   "cell_type": "code",
   "execution_count": 143,
   "metadata": {},
   "outputs": [
    {
     "data": {
      "text/html": [
       "<div>\n",
       "<style scoped>\n",
       "    .dataframe tbody tr th:only-of-type {\n",
       "        vertical-align: middle;\n",
       "    }\n",
       "\n",
       "    .dataframe tbody tr th {\n",
       "        vertical-align: top;\n",
       "    }\n",
       "\n",
       "    .dataframe thead th {\n",
       "        text-align: right;\n",
       "    }\n",
       "</style>\n",
       "<table border=\"1\" class=\"dataframe\">\n",
       "  <thead>\n",
       "    <tr style=\"text-align: right;\">\n",
       "      <th></th>\n",
       "      <th>ability</th>\n",
       "      <th>able</th>\n",
       "      <th>absolutely</th>\n",
       "      <th>access</th>\n",
       "      <th>accountability</th>\n",
       "      <th>accountable</th>\n",
       "      <th>across</th>\n",
       "      <th>act</th>\n",
       "      <th>action</th>\n",
       "      <th>actually</th>\n",
       "      <th>...</th>\n",
       "      <th>yeah</th>\n",
       "      <th>year</th>\n",
       "      <th>yes</th>\n",
       "      <th>yesterday</th>\n",
       "      <th>yet</th>\n",
       "      <th>york</th>\n",
       "      <th>young</th>\n",
       "      <th>youre</th>\n",
       "      <th>youve</th>\n",
       "      <th>Target</th>\n",
       "    </tr>\n",
       "  </thead>\n",
       "  <tbody>\n",
       "    <tr>\n",
       "      <td>0</td>\n",
       "      <td>0.000000</td>\n",
       "      <td>0.000000</td>\n",
       "      <td>0.0</td>\n",
       "      <td>0.000000</td>\n",
       "      <td>0.0</td>\n",
       "      <td>0.0</td>\n",
       "      <td>0.0</td>\n",
       "      <td>0.292841</td>\n",
       "      <td>0.23059</td>\n",
       "      <td>0.000000</td>\n",
       "      <td>...</td>\n",
       "      <td>0.0</td>\n",
       "      <td>0.065454</td>\n",
       "      <td>0.000000</td>\n",
       "      <td>0.0</td>\n",
       "      <td>0.0</td>\n",
       "      <td>0.0</td>\n",
       "      <td>0.106904</td>\n",
       "      <td>0.0</td>\n",
       "      <td>0.000000</td>\n",
       "      <td>Harris</td>\n",
       "    </tr>\n",
       "    <tr>\n",
       "      <td>1</td>\n",
       "      <td>0.000000</td>\n",
       "      <td>0.334548</td>\n",
       "      <td>0.0</td>\n",
       "      <td>0.000000</td>\n",
       "      <td>0.0</td>\n",
       "      <td>0.0</td>\n",
       "      <td>0.0</td>\n",
       "      <td>0.000000</td>\n",
       "      <td>0.00000</td>\n",
       "      <td>0.000000</td>\n",
       "      <td>...</td>\n",
       "      <td>0.0</td>\n",
       "      <td>0.000000</td>\n",
       "      <td>0.000000</td>\n",
       "      <td>0.0</td>\n",
       "      <td>0.0</td>\n",
       "      <td>0.0</td>\n",
       "      <td>0.000000</td>\n",
       "      <td>0.0</td>\n",
       "      <td>0.000000</td>\n",
       "      <td>Harris</td>\n",
       "    </tr>\n",
       "    <tr>\n",
       "      <td>2</td>\n",
       "      <td>0.397654</td>\n",
       "      <td>0.000000</td>\n",
       "      <td>0.0</td>\n",
       "      <td>0.000000</td>\n",
       "      <td>0.0</td>\n",
       "      <td>0.0</td>\n",
       "      <td>0.0</td>\n",
       "      <td>0.000000</td>\n",
       "      <td>0.00000</td>\n",
       "      <td>0.000000</td>\n",
       "      <td>...</td>\n",
       "      <td>0.0</td>\n",
       "      <td>0.000000</td>\n",
       "      <td>0.000000</td>\n",
       "      <td>0.0</td>\n",
       "      <td>0.0</td>\n",
       "      <td>0.0</td>\n",
       "      <td>0.000000</td>\n",
       "      <td>0.0</td>\n",
       "      <td>0.000000</td>\n",
       "      <td>Harris</td>\n",
       "    </tr>\n",
       "    <tr>\n",
       "      <td>3</td>\n",
       "      <td>0.000000</td>\n",
       "      <td>0.000000</td>\n",
       "      <td>0.0</td>\n",
       "      <td>0.000000</td>\n",
       "      <td>0.0</td>\n",
       "      <td>0.0</td>\n",
       "      <td>0.0</td>\n",
       "      <td>0.000000</td>\n",
       "      <td>0.00000</td>\n",
       "      <td>0.000000</td>\n",
       "      <td>...</td>\n",
       "      <td>0.0</td>\n",
       "      <td>0.000000</td>\n",
       "      <td>0.000000</td>\n",
       "      <td>0.0</td>\n",
       "      <td>0.0</td>\n",
       "      <td>0.0</td>\n",
       "      <td>0.000000</td>\n",
       "      <td>0.0</td>\n",
       "      <td>0.000000</td>\n",
       "      <td>Warren</td>\n",
       "    </tr>\n",
       "    <tr>\n",
       "      <td>4</td>\n",
       "      <td>0.000000</td>\n",
       "      <td>0.000000</td>\n",
       "      <td>0.0</td>\n",
       "      <td>0.000000</td>\n",
       "      <td>0.0</td>\n",
       "      <td>0.0</td>\n",
       "      <td>0.0</td>\n",
       "      <td>0.000000</td>\n",
       "      <td>0.00000</td>\n",
       "      <td>0.102635</td>\n",
       "      <td>...</td>\n",
       "      <td>0.0</td>\n",
       "      <td>0.000000</td>\n",
       "      <td>0.000000</td>\n",
       "      <td>0.0</td>\n",
       "      <td>0.0</td>\n",
       "      <td>0.0</td>\n",
       "      <td>0.000000</td>\n",
       "      <td>0.0</td>\n",
       "      <td>0.000000</td>\n",
       "      <td>Warren</td>\n",
       "    </tr>\n",
       "    <tr>\n",
       "      <td>...</td>\n",
       "      <td>...</td>\n",
       "      <td>...</td>\n",
       "      <td>...</td>\n",
       "      <td>...</td>\n",
       "      <td>...</td>\n",
       "      <td>...</td>\n",
       "      <td>...</td>\n",
       "      <td>...</td>\n",
       "      <td>...</td>\n",
       "      <td>...</td>\n",
       "      <td>...</td>\n",
       "      <td>...</td>\n",
       "      <td>...</td>\n",
       "      <td>...</td>\n",
       "      <td>...</td>\n",
       "      <td>...</td>\n",
       "      <td>...</td>\n",
       "      <td>...</td>\n",
       "      <td>...</td>\n",
       "      <td>...</td>\n",
       "      <td>...</td>\n",
       "    </tr>\n",
       "    <tr>\n",
       "      <td>523</td>\n",
       "      <td>0.000000</td>\n",
       "      <td>0.000000</td>\n",
       "      <td>0.0</td>\n",
       "      <td>0.000000</td>\n",
       "      <td>0.0</td>\n",
       "      <td>0.0</td>\n",
       "      <td>0.0</td>\n",
       "      <td>0.000000</td>\n",
       "      <td>0.00000</td>\n",
       "      <td>0.000000</td>\n",
       "      <td>...</td>\n",
       "      <td>0.0</td>\n",
       "      <td>0.000000</td>\n",
       "      <td>0.000000</td>\n",
       "      <td>0.0</td>\n",
       "      <td>0.0</td>\n",
       "      <td>0.0</td>\n",
       "      <td>0.000000</td>\n",
       "      <td>0.0</td>\n",
       "      <td>0.000000</td>\n",
       "      <td>Klobuchar</td>\n",
       "    </tr>\n",
       "    <tr>\n",
       "      <td>524</td>\n",
       "      <td>0.000000</td>\n",
       "      <td>0.164683</td>\n",
       "      <td>0.0</td>\n",
       "      <td>0.000000</td>\n",
       "      <td>0.0</td>\n",
       "      <td>0.0</td>\n",
       "      <td>0.0</td>\n",
       "      <td>0.000000</td>\n",
       "      <td>0.00000</td>\n",
       "      <td>0.000000</td>\n",
       "      <td>...</td>\n",
       "      <td>0.0</td>\n",
       "      <td>0.060213</td>\n",
       "      <td>0.081717</td>\n",
       "      <td>0.0</td>\n",
       "      <td>0.0</td>\n",
       "      <td>0.0</td>\n",
       "      <td>0.000000</td>\n",
       "      <td>0.0</td>\n",
       "      <td>0.000000</td>\n",
       "      <td>Warren</td>\n",
       "    </tr>\n",
       "    <tr>\n",
       "      <td>525</td>\n",
       "      <td>0.000000</td>\n",
       "      <td>0.000000</td>\n",
       "      <td>0.0</td>\n",
       "      <td>0.000000</td>\n",
       "      <td>0.0</td>\n",
       "      <td>0.0</td>\n",
       "      <td>0.0</td>\n",
       "      <td>0.000000</td>\n",
       "      <td>0.00000</td>\n",
       "      <td>0.000000</td>\n",
       "      <td>...</td>\n",
       "      <td>0.0</td>\n",
       "      <td>0.000000</td>\n",
       "      <td>0.000000</td>\n",
       "      <td>0.0</td>\n",
       "      <td>0.0</td>\n",
       "      <td>0.0</td>\n",
       "      <td>0.000000</td>\n",
       "      <td>0.0</td>\n",
       "      <td>0.242948</td>\n",
       "      <td>Warren</td>\n",
       "    </tr>\n",
       "    <tr>\n",
       "      <td>526</td>\n",
       "      <td>0.000000</td>\n",
       "      <td>0.000000</td>\n",
       "      <td>0.0</td>\n",
       "      <td>0.000000</td>\n",
       "      <td>0.0</td>\n",
       "      <td>0.0</td>\n",
       "      <td>0.0</td>\n",
       "      <td>0.000000</td>\n",
       "      <td>0.00000</td>\n",
       "      <td>0.000000</td>\n",
       "      <td>...</td>\n",
       "      <td>0.0</td>\n",
       "      <td>0.175756</td>\n",
       "      <td>0.000000</td>\n",
       "      <td>0.0</td>\n",
       "      <td>0.0</td>\n",
       "      <td>0.0</td>\n",
       "      <td>0.000000</td>\n",
       "      <td>0.0</td>\n",
       "      <td>0.000000</td>\n",
       "      <td>Harris</td>\n",
       "    </tr>\n",
       "    <tr>\n",
       "      <td>527</td>\n",
       "      <td>0.000000</td>\n",
       "      <td>0.000000</td>\n",
       "      <td>0.0</td>\n",
       "      <td>0.134716</td>\n",
       "      <td>0.0</td>\n",
       "      <td>0.0</td>\n",
       "      <td>0.0</td>\n",
       "      <td>0.000000</td>\n",
       "      <td>0.00000</td>\n",
       "      <td>0.000000</td>\n",
       "      <td>...</td>\n",
       "      <td>0.0</td>\n",
       "      <td>0.000000</td>\n",
       "      <td>0.000000</td>\n",
       "      <td>0.0</td>\n",
       "      <td>0.0</td>\n",
       "      <td>0.0</td>\n",
       "      <td>0.000000</td>\n",
       "      <td>0.0</td>\n",
       "      <td>0.000000</td>\n",
       "      <td>Harris</td>\n",
       "    </tr>\n",
       "  </tbody>\n",
       "</table>\n",
       "<p>528 rows × 904 columns</p>\n",
       "</div>"
      ],
      "text/plain": [
       "      ability      able  absolutely    access  accountability  accountable  \\\n",
       "0    0.000000  0.000000         0.0  0.000000             0.0          0.0   \n",
       "1    0.000000  0.334548         0.0  0.000000             0.0          0.0   \n",
       "2    0.397654  0.000000         0.0  0.000000             0.0          0.0   \n",
       "3    0.000000  0.000000         0.0  0.000000             0.0          0.0   \n",
       "4    0.000000  0.000000         0.0  0.000000             0.0          0.0   \n",
       "..        ...       ...         ...       ...             ...          ...   \n",
       "523  0.000000  0.000000         0.0  0.000000             0.0          0.0   \n",
       "524  0.000000  0.164683         0.0  0.000000             0.0          0.0   \n",
       "525  0.000000  0.000000         0.0  0.000000             0.0          0.0   \n",
       "526  0.000000  0.000000         0.0  0.000000             0.0          0.0   \n",
       "527  0.000000  0.000000         0.0  0.134716             0.0          0.0   \n",
       "\n",
       "     across       act   action  actually  ...  yeah      year       yes  \\\n",
       "0       0.0  0.292841  0.23059  0.000000  ...   0.0  0.065454  0.000000   \n",
       "1       0.0  0.000000  0.00000  0.000000  ...   0.0  0.000000  0.000000   \n",
       "2       0.0  0.000000  0.00000  0.000000  ...   0.0  0.000000  0.000000   \n",
       "3       0.0  0.000000  0.00000  0.000000  ...   0.0  0.000000  0.000000   \n",
       "4       0.0  0.000000  0.00000  0.102635  ...   0.0  0.000000  0.000000   \n",
       "..      ...       ...      ...       ...  ...   ...       ...       ...   \n",
       "523     0.0  0.000000  0.00000  0.000000  ...   0.0  0.000000  0.000000   \n",
       "524     0.0  0.000000  0.00000  0.000000  ...   0.0  0.060213  0.081717   \n",
       "525     0.0  0.000000  0.00000  0.000000  ...   0.0  0.000000  0.000000   \n",
       "526     0.0  0.000000  0.00000  0.000000  ...   0.0  0.175756  0.000000   \n",
       "527     0.0  0.000000  0.00000  0.000000  ...   0.0  0.000000  0.000000   \n",
       "\n",
       "     yesterday  yet  york     young  youre     youve     Target  \n",
       "0          0.0  0.0   0.0  0.106904    0.0  0.000000     Harris  \n",
       "1          0.0  0.0   0.0  0.000000    0.0  0.000000     Harris  \n",
       "2          0.0  0.0   0.0  0.000000    0.0  0.000000     Harris  \n",
       "3          0.0  0.0   0.0  0.000000    0.0  0.000000     Warren  \n",
       "4          0.0  0.0   0.0  0.000000    0.0  0.000000     Warren  \n",
       "..         ...  ...   ...       ...    ...       ...        ...  \n",
       "523        0.0  0.0   0.0  0.000000    0.0  0.000000  Klobuchar  \n",
       "524        0.0  0.0   0.0  0.000000    0.0  0.000000     Warren  \n",
       "525        0.0  0.0   0.0  0.000000    0.0  0.242948     Warren  \n",
       "526        0.0  0.0   0.0  0.000000    0.0  0.000000     Harris  \n",
       "527        0.0  0.0   0.0  0.000000    0.0  0.000000     Harris  \n",
       "\n",
       "[528 rows x 904 columns]"
      ]
     },
     "execution_count": 143,
     "metadata": {},
     "output_type": "execute_result"
    }
   ],
   "source": [
    "tf_training_matrix_df"
   ]
  },
  {
   "cell_type": "code",
   "execution_count": 144,
   "metadata": {},
   "outputs": [],
   "source": [
    "X_train_tf,X_test_tf,y_train_tf,y_test_tf = train_test_split(tf_training_matrix_df.iloc[:,:-1], tf_training_matrix_df['Target'], test_size=0.20, random_state=42)"
   ]
  },
  {
   "cell_type": "code",
   "execution_count": 145,
   "metadata": {},
   "outputs": [
    {
     "data": {
      "text/plain": [
       "(528, 904)"
      ]
     },
     "execution_count": 145,
     "metadata": {},
     "output_type": "execute_result"
    }
   ],
   "source": [
    "tf_training_matrix_df.shape"
   ]
  },
  {
   "cell_type": "code",
   "execution_count": 146,
   "metadata": {},
   "outputs": [],
   "source": [
    "tf_svm_model_linear = svm.SVC(kernel='linear',gamma = 'auto').fit(X_train_tf,y_train_tf)\n",
    "tf_svm_predicted_linear = tf_svm_model_linear.predict(X_test_tf)"
   ]
  },
  {
   "cell_type": "code",
   "execution_count": 147,
   "metadata": {},
   "outputs": [
    {
     "data": {
      "text/plain": [
       "0.5660377358490566"
      ]
     },
     "execution_count": 147,
     "metadata": {},
     "output_type": "execute_result"
    }
   ],
   "source": [
    "accuracy_score(y_test, tf_svm_predicted_linear)"
   ]
  },
  {
   "cell_type": "markdown",
   "metadata": {},
   "source": [
    "Checking Model Performance on tfidf data through logistic regression "
   ]
  },
  {
   "cell_type": "code",
   "execution_count": 148,
   "metadata": {},
   "outputs": [
    {
     "name": "stderr",
     "output_type": "stream",
     "text": [
      "/Users/apple/opt/anaconda3/lib/python3.7/site-packages/sklearn/linear_model/logistic.py:432: FutureWarning: Default solver will be changed to 'lbfgs' in 0.22. Specify a solver to silence this warning.\n",
      "  FutureWarning)\n",
      "/Users/apple/opt/anaconda3/lib/python3.7/site-packages/sklearn/linear_model/logistic.py:469: FutureWarning: Default multi_class will be changed to 'auto' in 0.22. Specify the multi_class option to silence this warning.\n",
      "  \"this warning.\", FutureWarning)\n"
     ]
    }
   ],
   "source": [
    "logi_model_tf = LogisticRegression(random_state=20).fit(X_train_tf, y_train_tf)"
   ]
  },
  {
   "cell_type": "code",
   "execution_count": 149,
   "metadata": {},
   "outputs": [
    {
     "name": "stdout",
     "output_type": "stream",
     "text": [
      "0.4528301886792453\n"
     ]
    }
   ],
   "source": [
    "# Using score method to get accuracy of model\n",
    "score_tf = logi_model_tf.score(X_test_tf, y_test_tf)\n",
    "print(score_tf)"
   ]
  },
  {
   "cell_type": "markdown",
   "metadata": {},
   "source": [
    "We observe that after modelling on the TF-IDF data our accuracy of the SVM model which is considered to be very good with text classification and logistic is considered to be a base line model here, SVM model's performance has imporved significantly, hence we can say that for the next few questions we will proceed with SVM model on the TV-IDF data. "
   ]
  },
  {
   "cell_type": "markdown",
   "metadata": {},
   "source": [
    "#### Problem - 12"
   ]
  },
  {
   "cell_type": "markdown",
   "metadata": {},
   "source": [
    "Using any of the three models of your choosing, generate labels for the test set. Use only\n",
    "last names in all caps as outputs. In other words, ensure every label is one of the following\n",
    "(note the lack of apostrophes and punctuation): BIDEN, BOOKER, BUTTIGIEG, CASTRO, GABBARD, HARRIS, KLOBUCHAR, OROURKE, SANDERS, STEYER, WARREN,\n",
    "YANG. Save these labels as you will include them in your submission, as detailed at the end\n",
    "of this document."
   ]
  },
  {
   "cell_type": "markdown",
   "metadata": {},
   "source": [
    "We see that our model performance on the tfidf data increased with SVM so we will try to test model performance on our main testing data through SVM. "
   ]
  },
  {
   "cell_type": "code",
   "execution_count": 150,
   "metadata": {},
   "outputs": [],
   "source": [
    "X_train_tf_svm = tf_training_matrix_df.copy()\n",
    "X_train_tf_svm = X_train_tf_svm.drop(labels='Target', axis=1)\n",
    "X_test_tf_svm = tf_testing_matrix_df.copy()"
   ]
  },
  {
   "cell_type": "code",
   "execution_count": 151,
   "metadata": {},
   "outputs": [],
   "source": [
    "y_train_tf_svm = training_matrix_df['Target']"
   ]
  },
  {
   "cell_type": "code",
   "execution_count": 152,
   "metadata": {},
   "outputs": [],
   "source": [
    "q12_tf_svm_model_linear = svm.SVC(kernel='linear',gamma = 'auto').fit(X_train_tf_svm,y_train_tf_svm)\n",
    "q12_tf_svm_predicted_linear = q12_tf_svm_model_linear.predict(X_test_tf_svm)"
   ]
  },
  {
   "cell_type": "code",
   "execution_count": 153,
   "metadata": {},
   "outputs": [
    {
     "data": {
      "text/plain": [
       "array(['Sanders', 'Warren', 'Booker', 'Warren', 'Buttigieg', 'Gabbard',\n",
       "       'Biden', \"O'Rourke\", 'Biden', 'Warren', 'Warren', 'Klobuchar',\n",
       "       'Warren', \"O'Rourke\", 'Warren', 'Buttigieg', 'Klobuchar',\n",
       "       'Buttigieg', 'Yang', 'Booker', 'Buttigieg', 'Warren', 'Buttigieg',\n",
       "       'Klobuchar', 'Booker', 'Klobuchar', 'Buttigieg', 'Biden', 'Biden',\n",
       "       'Biden', 'Warren', 'Biden', 'Buttigieg', 'Warren', 'Buttigieg',\n",
       "       'Biden', 'Warren', 'Buttigieg', 'Booker', 'Sanders', 'Castro',\n",
       "       'Booker', 'Warren', 'Buttigieg', 'Warren', 'Warren', 'Harris',\n",
       "       'Buttigieg', 'Warren', 'Harris', 'Warren', 'Booker', 'Buttigieg',\n",
       "       'Sanders', 'Biden', 'Sanders', 'Biden', 'Warren', 'Buttigieg',\n",
       "       'Yang', 'Booker', 'Klobuchar', 'Warren', 'Warren', 'Harris',\n",
       "       'Booker', 'Warren', 'Booker', 'Buttigieg', 'Warren', 'Sanders',\n",
       "       'Sanders', 'Booker', 'Biden', 'Booker', 'Buttigieg', 'Klobuchar',\n",
       "       'Yang', 'Buttigieg', 'Buttigieg', 'Buttigieg', 'Klobuchar',\n",
       "       'Buttigieg', 'Warren', 'Warren', 'Harris', 'Booker', 'Harris',\n",
       "       'Booker', 'Klobuchar', 'Buttigieg', 'Sanders', \"O'Rourke\",\n",
       "       'Warren', 'Klobuchar', \"O'Rourke\", 'Warren', 'Biden', 'Buttigieg',\n",
       "       'Biden', 'Klobuchar', 'Biden', 'Warren', 'Klobuchar', 'Klobuchar',\n",
       "       'Warren', 'Sanders', 'Booker', 'Klobuchar', 'Booker', 'Gabbard'],\n",
       "      dtype=object)"
      ]
     },
     "execution_count": 153,
     "metadata": {},
     "output_type": "execute_result"
    }
   ],
   "source": [
    "q12_tf_svm_predicted_linear"
   ]
  },
  {
   "cell_type": "code",
   "execution_count": 154,
   "metadata": {},
   "outputs": [],
   "source": [
    "test_labels = pd.DataFrame(q12_tf_svm_predicted_linear)"
   ]
  },
  {
   "cell_type": "code",
   "execution_count": 155,
   "metadata": {},
   "outputs": [],
   "source": [
    "test_labels.columns = ['Predicted Name']"
   ]
  },
  {
   "cell_type": "code",
   "execution_count": 156,
   "metadata": {},
   "outputs": [
    {
     "data": {
      "text/html": [
       "<div>\n",
       "<style scoped>\n",
       "    .dataframe tbody tr th:only-of-type {\n",
       "        vertical-align: middle;\n",
       "    }\n",
       "\n",
       "    .dataframe tbody tr th {\n",
       "        vertical-align: top;\n",
       "    }\n",
       "\n",
       "    .dataframe thead th {\n",
       "        text-align: right;\n",
       "    }\n",
       "</style>\n",
       "<table border=\"1\" class=\"dataframe\">\n",
       "  <thead>\n",
       "    <tr style=\"text-align: right;\">\n",
       "      <th></th>\n",
       "      <th>Predicted Name</th>\n",
       "    </tr>\n",
       "  </thead>\n",
       "  <tbody>\n",
       "    <tr>\n",
       "      <td>0</td>\n",
       "      <td>Sanders</td>\n",
       "    </tr>\n",
       "    <tr>\n",
       "      <td>1</td>\n",
       "      <td>Warren</td>\n",
       "    </tr>\n",
       "    <tr>\n",
       "      <td>2</td>\n",
       "      <td>Booker</td>\n",
       "    </tr>\n",
       "    <tr>\n",
       "      <td>3</td>\n",
       "      <td>Warren</td>\n",
       "    </tr>\n",
       "    <tr>\n",
       "      <td>4</td>\n",
       "      <td>Buttigieg</td>\n",
       "    </tr>\n",
       "    <tr>\n",
       "      <td>...</td>\n",
       "      <td>...</td>\n",
       "    </tr>\n",
       "    <tr>\n",
       "      <td>106</td>\n",
       "      <td>Sanders</td>\n",
       "    </tr>\n",
       "    <tr>\n",
       "      <td>107</td>\n",
       "      <td>Booker</td>\n",
       "    </tr>\n",
       "    <tr>\n",
       "      <td>108</td>\n",
       "      <td>Klobuchar</td>\n",
       "    </tr>\n",
       "    <tr>\n",
       "      <td>109</td>\n",
       "      <td>Booker</td>\n",
       "    </tr>\n",
       "    <tr>\n",
       "      <td>110</td>\n",
       "      <td>Gabbard</td>\n",
       "    </tr>\n",
       "  </tbody>\n",
       "</table>\n",
       "<p>111 rows × 1 columns</p>\n",
       "</div>"
      ],
      "text/plain": [
       "    Predicted Name\n",
       "0          Sanders\n",
       "1           Warren\n",
       "2           Booker\n",
       "3           Warren\n",
       "4        Buttigieg\n",
       "..             ...\n",
       "106        Sanders\n",
       "107         Booker\n",
       "108      Klobuchar\n",
       "109         Booker\n",
       "110        Gabbard\n",
       "\n",
       "[111 rows x 1 columns]"
      ]
     },
     "execution_count": 156,
     "metadata": {},
     "output_type": "execute_result"
    }
   ],
   "source": [
    "test_labels"
   ]
  },
  {
   "cell_type": "code",
   "execution_count": 157,
   "metadata": {},
   "outputs": [],
   "source": [
    "test_labels['Predicted Name'] = test_labels['Predicted Name'].str.upper() "
   ]
  },
  {
   "cell_type": "code",
   "execution_count": 158,
   "metadata": {},
   "outputs": [
    {
     "data": {
      "text/html": [
       "<div>\n",
       "<style scoped>\n",
       "    .dataframe tbody tr th:only-of-type {\n",
       "        vertical-align: middle;\n",
       "    }\n",
       "\n",
       "    .dataframe tbody tr th {\n",
       "        vertical-align: top;\n",
       "    }\n",
       "\n",
       "    .dataframe thead th {\n",
       "        text-align: right;\n",
       "    }\n",
       "</style>\n",
       "<table border=\"1\" class=\"dataframe\">\n",
       "  <thead>\n",
       "    <tr style=\"text-align: right;\">\n",
       "      <th></th>\n",
       "      <th>Predicted Name</th>\n",
       "    </tr>\n",
       "  </thead>\n",
       "  <tbody>\n",
       "    <tr>\n",
       "      <td>0</td>\n",
       "      <td>SANDERS</td>\n",
       "    </tr>\n",
       "    <tr>\n",
       "      <td>1</td>\n",
       "      <td>WARREN</td>\n",
       "    </tr>\n",
       "    <tr>\n",
       "      <td>2</td>\n",
       "      <td>BOOKER</td>\n",
       "    </tr>\n",
       "    <tr>\n",
       "      <td>3</td>\n",
       "      <td>WARREN</td>\n",
       "    </tr>\n",
       "    <tr>\n",
       "      <td>4</td>\n",
       "      <td>BUTTIGIEG</td>\n",
       "    </tr>\n",
       "    <tr>\n",
       "      <td>...</td>\n",
       "      <td>...</td>\n",
       "    </tr>\n",
       "    <tr>\n",
       "      <td>106</td>\n",
       "      <td>SANDERS</td>\n",
       "    </tr>\n",
       "    <tr>\n",
       "      <td>107</td>\n",
       "      <td>BOOKER</td>\n",
       "    </tr>\n",
       "    <tr>\n",
       "      <td>108</td>\n",
       "      <td>KLOBUCHAR</td>\n",
       "    </tr>\n",
       "    <tr>\n",
       "      <td>109</td>\n",
       "      <td>BOOKER</td>\n",
       "    </tr>\n",
       "    <tr>\n",
       "      <td>110</td>\n",
       "      <td>GABBARD</td>\n",
       "    </tr>\n",
       "  </tbody>\n",
       "</table>\n",
       "<p>111 rows × 1 columns</p>\n",
       "</div>"
      ],
      "text/plain": [
       "    Predicted Name\n",
       "0          SANDERS\n",
       "1           WARREN\n",
       "2           BOOKER\n",
       "3           WARREN\n",
       "4        BUTTIGIEG\n",
       "..             ...\n",
       "106        SANDERS\n",
       "107         BOOKER\n",
       "108      KLOBUCHAR\n",
       "109         BOOKER\n",
       "110        GABBARD\n",
       "\n",
       "[111 rows x 1 columns]"
      ]
     },
     "execution_count": 158,
     "metadata": {},
     "output_type": "execute_result"
    }
   ],
   "source": [
    "test_labels"
   ]
  },
  {
   "cell_type": "code",
   "execution_count": 159,
   "metadata": {},
   "outputs": [],
   "source": [
    "test_labels['Predicted Name'] = test_labels['Predicted Name'].str.replace('[^\\w\\s]','')"
   ]
  },
  {
   "cell_type": "code",
   "execution_count": 160,
   "metadata": {},
   "outputs": [
    {
     "data": {
      "text/html": [
       "<div>\n",
       "<style scoped>\n",
       "    .dataframe tbody tr th:only-of-type {\n",
       "        vertical-align: middle;\n",
       "    }\n",
       "\n",
       "    .dataframe tbody tr th {\n",
       "        vertical-align: top;\n",
       "    }\n",
       "\n",
       "    .dataframe thead th {\n",
       "        text-align: right;\n",
       "    }\n",
       "</style>\n",
       "<table border=\"1\" class=\"dataframe\">\n",
       "  <thead>\n",
       "    <tr style=\"text-align: right;\">\n",
       "      <th></th>\n",
       "      <th>Predicted Name</th>\n",
       "    </tr>\n",
       "  </thead>\n",
       "  <tbody>\n",
       "    <tr>\n",
       "      <td>0</td>\n",
       "      <td>SANDERS</td>\n",
       "    </tr>\n",
       "    <tr>\n",
       "      <td>1</td>\n",
       "      <td>WARREN</td>\n",
       "    </tr>\n",
       "    <tr>\n",
       "      <td>2</td>\n",
       "      <td>BOOKER</td>\n",
       "    </tr>\n",
       "    <tr>\n",
       "      <td>3</td>\n",
       "      <td>WARREN</td>\n",
       "    </tr>\n",
       "    <tr>\n",
       "      <td>4</td>\n",
       "      <td>BUTTIGIEG</td>\n",
       "    </tr>\n",
       "    <tr>\n",
       "      <td>5</td>\n",
       "      <td>GABBARD</td>\n",
       "    </tr>\n",
       "    <tr>\n",
       "      <td>6</td>\n",
       "      <td>BIDEN</td>\n",
       "    </tr>\n",
       "    <tr>\n",
       "      <td>7</td>\n",
       "      <td>OROURKE</td>\n",
       "    </tr>\n",
       "    <tr>\n",
       "      <td>8</td>\n",
       "      <td>BIDEN</td>\n",
       "    </tr>\n",
       "    <tr>\n",
       "      <td>9</td>\n",
       "      <td>WARREN</td>\n",
       "    </tr>\n",
       "    <tr>\n",
       "      <td>10</td>\n",
       "      <td>WARREN</td>\n",
       "    </tr>\n",
       "    <tr>\n",
       "      <td>11</td>\n",
       "      <td>KLOBUCHAR</td>\n",
       "    </tr>\n",
       "    <tr>\n",
       "      <td>12</td>\n",
       "      <td>WARREN</td>\n",
       "    </tr>\n",
       "    <tr>\n",
       "      <td>13</td>\n",
       "      <td>OROURKE</td>\n",
       "    </tr>\n",
       "    <tr>\n",
       "      <td>14</td>\n",
       "      <td>WARREN</td>\n",
       "    </tr>\n",
       "    <tr>\n",
       "      <td>15</td>\n",
       "      <td>BUTTIGIEG</td>\n",
       "    </tr>\n",
       "    <tr>\n",
       "      <td>16</td>\n",
       "      <td>KLOBUCHAR</td>\n",
       "    </tr>\n",
       "    <tr>\n",
       "      <td>17</td>\n",
       "      <td>BUTTIGIEG</td>\n",
       "    </tr>\n",
       "    <tr>\n",
       "      <td>18</td>\n",
       "      <td>YANG</td>\n",
       "    </tr>\n",
       "    <tr>\n",
       "      <td>19</td>\n",
       "      <td>BOOKER</td>\n",
       "    </tr>\n",
       "    <tr>\n",
       "      <td>20</td>\n",
       "      <td>BUTTIGIEG</td>\n",
       "    </tr>\n",
       "    <tr>\n",
       "      <td>21</td>\n",
       "      <td>WARREN</td>\n",
       "    </tr>\n",
       "    <tr>\n",
       "      <td>22</td>\n",
       "      <td>BUTTIGIEG</td>\n",
       "    </tr>\n",
       "    <tr>\n",
       "      <td>23</td>\n",
       "      <td>KLOBUCHAR</td>\n",
       "    </tr>\n",
       "    <tr>\n",
       "      <td>24</td>\n",
       "      <td>BOOKER</td>\n",
       "    </tr>\n",
       "    <tr>\n",
       "      <td>25</td>\n",
       "      <td>KLOBUCHAR</td>\n",
       "    </tr>\n",
       "    <tr>\n",
       "      <td>26</td>\n",
       "      <td>BUTTIGIEG</td>\n",
       "    </tr>\n",
       "    <tr>\n",
       "      <td>27</td>\n",
       "      <td>BIDEN</td>\n",
       "    </tr>\n",
       "    <tr>\n",
       "      <td>28</td>\n",
       "      <td>BIDEN</td>\n",
       "    </tr>\n",
       "    <tr>\n",
       "      <td>29</td>\n",
       "      <td>BIDEN</td>\n",
       "    </tr>\n",
       "    <tr>\n",
       "      <td>30</td>\n",
       "      <td>WARREN</td>\n",
       "    </tr>\n",
       "    <tr>\n",
       "      <td>31</td>\n",
       "      <td>BIDEN</td>\n",
       "    </tr>\n",
       "    <tr>\n",
       "      <td>32</td>\n",
       "      <td>BUTTIGIEG</td>\n",
       "    </tr>\n",
       "    <tr>\n",
       "      <td>33</td>\n",
       "      <td>WARREN</td>\n",
       "    </tr>\n",
       "    <tr>\n",
       "      <td>34</td>\n",
       "      <td>BUTTIGIEG</td>\n",
       "    </tr>\n",
       "    <tr>\n",
       "      <td>35</td>\n",
       "      <td>BIDEN</td>\n",
       "    </tr>\n",
       "    <tr>\n",
       "      <td>36</td>\n",
       "      <td>WARREN</td>\n",
       "    </tr>\n",
       "    <tr>\n",
       "      <td>37</td>\n",
       "      <td>BUTTIGIEG</td>\n",
       "    </tr>\n",
       "    <tr>\n",
       "      <td>38</td>\n",
       "      <td>BOOKER</td>\n",
       "    </tr>\n",
       "    <tr>\n",
       "      <td>39</td>\n",
       "      <td>SANDERS</td>\n",
       "    </tr>\n",
       "    <tr>\n",
       "      <td>40</td>\n",
       "      <td>CASTRO</td>\n",
       "    </tr>\n",
       "    <tr>\n",
       "      <td>41</td>\n",
       "      <td>BOOKER</td>\n",
       "    </tr>\n",
       "    <tr>\n",
       "      <td>42</td>\n",
       "      <td>WARREN</td>\n",
       "    </tr>\n",
       "    <tr>\n",
       "      <td>43</td>\n",
       "      <td>BUTTIGIEG</td>\n",
       "    </tr>\n",
       "    <tr>\n",
       "      <td>44</td>\n",
       "      <td>WARREN</td>\n",
       "    </tr>\n",
       "    <tr>\n",
       "      <td>45</td>\n",
       "      <td>WARREN</td>\n",
       "    </tr>\n",
       "    <tr>\n",
       "      <td>46</td>\n",
       "      <td>HARRIS</td>\n",
       "    </tr>\n",
       "    <tr>\n",
       "      <td>47</td>\n",
       "      <td>BUTTIGIEG</td>\n",
       "    </tr>\n",
       "    <tr>\n",
       "      <td>48</td>\n",
       "      <td>WARREN</td>\n",
       "    </tr>\n",
       "    <tr>\n",
       "      <td>49</td>\n",
       "      <td>HARRIS</td>\n",
       "    </tr>\n",
       "  </tbody>\n",
       "</table>\n",
       "</div>"
      ],
      "text/plain": [
       "   Predicted Name\n",
       "0         SANDERS\n",
       "1          WARREN\n",
       "2          BOOKER\n",
       "3          WARREN\n",
       "4       BUTTIGIEG\n",
       "5         GABBARD\n",
       "6           BIDEN\n",
       "7         OROURKE\n",
       "8           BIDEN\n",
       "9          WARREN\n",
       "10         WARREN\n",
       "11      KLOBUCHAR\n",
       "12         WARREN\n",
       "13        OROURKE\n",
       "14         WARREN\n",
       "15      BUTTIGIEG\n",
       "16      KLOBUCHAR\n",
       "17      BUTTIGIEG\n",
       "18           YANG\n",
       "19         BOOKER\n",
       "20      BUTTIGIEG\n",
       "21         WARREN\n",
       "22      BUTTIGIEG\n",
       "23      KLOBUCHAR\n",
       "24         BOOKER\n",
       "25      KLOBUCHAR\n",
       "26      BUTTIGIEG\n",
       "27          BIDEN\n",
       "28          BIDEN\n",
       "29          BIDEN\n",
       "30         WARREN\n",
       "31          BIDEN\n",
       "32      BUTTIGIEG\n",
       "33         WARREN\n",
       "34      BUTTIGIEG\n",
       "35          BIDEN\n",
       "36         WARREN\n",
       "37      BUTTIGIEG\n",
       "38         BOOKER\n",
       "39        SANDERS\n",
       "40         CASTRO\n",
       "41         BOOKER\n",
       "42         WARREN\n",
       "43      BUTTIGIEG\n",
       "44         WARREN\n",
       "45         WARREN\n",
       "46         HARRIS\n",
       "47      BUTTIGIEG\n",
       "48         WARREN\n",
       "49         HARRIS"
      ]
     },
     "execution_count": 160,
     "metadata": {},
     "output_type": "execute_result"
    }
   ],
   "source": [
    "test_labels.head(50)"
   ]
  },
  {
   "cell_type": "code",
   "execution_count": 161,
   "metadata": {},
   "outputs": [],
   "source": [
    "testing_trial = testing_data_new.copy()"
   ]
  },
  {
   "cell_type": "code",
   "execution_count": 162,
   "metadata": {},
   "outputs": [],
   "source": [
    "test_labels_trial = test_labels.copy()"
   ]
  },
  {
   "cell_type": "code",
   "execution_count": 163,
   "metadata": {},
   "outputs": [],
   "source": [
    "test_labels_trial['Actual Comments'] = testing_trial ['Comments']"
   ]
  },
  {
   "cell_type": "code",
   "execution_count": 164,
   "metadata": {},
   "outputs": [
    {
     "data": {
      "text/html": [
       "<div>\n",
       "<style scoped>\n",
       "    .dataframe tbody tr th:only-of-type {\n",
       "        vertical-align: middle;\n",
       "    }\n",
       "\n",
       "    .dataframe tbody tr th {\n",
       "        vertical-align: top;\n",
       "    }\n",
       "\n",
       "    .dataframe thead th {\n",
       "        text-align: right;\n",
       "    }\n",
       "</style>\n",
       "<table border=\"1\" class=\"dataframe\">\n",
       "  <thead>\n",
       "    <tr style=\"text-align: right;\">\n",
       "      <th></th>\n",
       "      <th>Predicted Name</th>\n",
       "      <th>Actual Comments</th>\n",
       "    </tr>\n",
       "  </thead>\n",
       "  <tbody>\n",
       "    <tr>\n",
       "      <td>0</td>\n",
       "      <td>SANDERS</td>\n",
       "      <td>i agree. let me… she referenced me. i agreed w...</td>\n",
       "    </tr>\n",
       "    <tr>\n",
       "      <td>1</td>\n",
       "      <td>WARREN</td>\n",
       "      <td>well, a few months after i got elected, the la...</td>\n",
       "    </tr>\n",
       "    <tr>\n",
       "      <td>2</td>\n",
       "      <td>BOOKER</td>\n",
       "      <td>thank you. probably rand paul. he and i, actua...</td>\n",
       "    </tr>\n",
       "    <tr>\n",
       "      <td>3</td>\n",
       "      <td>WARREN</td>\n",
       "      <td>so in my view, if fraud is involved, then that...</td>\n",
       "    </tr>\n",
       "    <tr>\n",
       "      <td>4</td>\n",
       "      <td>BUTTIGIEG</td>\n",
       "      <td>so, first of all, washington experience is not...</td>\n",
       "    </tr>\n",
       "    <tr>\n",
       "      <td>...</td>\n",
       "      <td>...</td>\n",
       "      <td>...</td>\n",
       "    </tr>\n",
       "    <tr>\n",
       "      <td>106</td>\n",
       "      <td>SANDERS</td>\n",
       "      <td>look, on this issue, my friends, there is no c...</td>\n",
       "    </tr>\n",
       "    <tr>\n",
       "      <td>107</td>\n",
       "      <td>BOOKER</td>\n",
       "      <td>and you know what, we came back four years lat...</td>\n",
       "    </tr>\n",
       "    <tr>\n",
       "      <td>108</td>\n",
       "      <td>KLOBUCHAR</td>\n",
       "      <td>think about the nuclear agreement with russia ...</td>\n",
       "    </tr>\n",
       "    <tr>\n",
       "      <td>109</td>\n",
       "      <td>BOOKER</td>\n",
       "      <td>you want to know how we get this done? we get ...</td>\n",
       "    </tr>\n",
       "    <tr>\n",
       "      <td>110</td>\n",
       "      <td>GABBARD</td>\n",
       "      <td>well, what kamala harris is doing is, unfortun...</td>\n",
       "    </tr>\n",
       "  </tbody>\n",
       "</table>\n",
       "<p>111 rows × 2 columns</p>\n",
       "</div>"
      ],
      "text/plain": [
       "    Predicted Name                                    Actual Comments\n",
       "0          SANDERS  i agree. let me… she referenced me. i agreed w...\n",
       "1           WARREN  well, a few months after i got elected, the la...\n",
       "2           BOOKER  thank you. probably rand paul. he and i, actua...\n",
       "3           WARREN  so in my view, if fraud is involved, then that...\n",
       "4        BUTTIGIEG  so, first of all, washington experience is not...\n",
       "..             ...                                                ...\n",
       "106        SANDERS  look, on this issue, my friends, there is no c...\n",
       "107         BOOKER  and you know what, we came back four years lat...\n",
       "108      KLOBUCHAR  think about the nuclear agreement with russia ...\n",
       "109         BOOKER  you want to know how we get this done? we get ...\n",
       "110        GABBARD  well, what kamala harris is doing is, unfortun...\n",
       "\n",
       "[111 rows x 2 columns]"
      ]
     },
     "execution_count": 164,
     "metadata": {},
     "output_type": "execute_result"
    }
   ],
   "source": [
    "test_labels_trial"
   ]
  },
  {
   "cell_type": "code",
   "execution_count": 165,
   "metadata": {},
   "outputs": [],
   "source": [
    "test_labels['File Name'] = pd.Series(trial123['File Name'])"
   ]
  },
  {
   "cell_type": "code",
   "execution_count": 166,
   "metadata": {},
   "outputs": [
    {
     "data": {
      "text/html": [
       "<div>\n",
       "<style scoped>\n",
       "    .dataframe tbody tr th:only-of-type {\n",
       "        vertical-align: middle;\n",
       "    }\n",
       "\n",
       "    .dataframe tbody tr th {\n",
       "        vertical-align: top;\n",
       "    }\n",
       "\n",
       "    .dataframe thead th {\n",
       "        text-align: right;\n",
       "    }\n",
       "</style>\n",
       "<table border=\"1\" class=\"dataframe\">\n",
       "  <thead>\n",
       "    <tr style=\"text-align: right;\">\n",
       "      <th></th>\n",
       "      <th>Predicted Name</th>\n",
       "      <th>File Name</th>\n",
       "    </tr>\n",
       "  </thead>\n",
       "  <tbody>\n",
       "    <tr>\n",
       "      <td>0</td>\n",
       "      <td>SANDERS</td>\n",
       "      <td>test_76.txt</td>\n",
       "    </tr>\n",
       "    <tr>\n",
       "      <td>1</td>\n",
       "      <td>WARREN</td>\n",
       "      <td>test_62.txt</td>\n",
       "    </tr>\n",
       "    <tr>\n",
       "      <td>2</td>\n",
       "      <td>BOOKER</td>\n",
       "      <td>test_111.txt</td>\n",
       "    </tr>\n",
       "    <tr>\n",
       "      <td>3</td>\n",
       "      <td>WARREN</td>\n",
       "      <td>test_89.txt</td>\n",
       "    </tr>\n",
       "    <tr>\n",
       "      <td>4</td>\n",
       "      <td>BUTTIGIEG</td>\n",
       "      <td>test_105.txt</td>\n",
       "    </tr>\n",
       "    <tr>\n",
       "      <td>...</td>\n",
       "      <td>...</td>\n",
       "      <td>...</td>\n",
       "    </tr>\n",
       "    <tr>\n",
       "      <td>106</td>\n",
       "      <td>SANDERS</td>\n",
       "      <td>test_84.txt</td>\n",
       "    </tr>\n",
       "    <tr>\n",
       "      <td>107</td>\n",
       "      <td>BOOKER</td>\n",
       "      <td>test_90.txt</td>\n",
       "    </tr>\n",
       "    <tr>\n",
       "      <td>108</td>\n",
       "      <td>KLOBUCHAR</td>\n",
       "      <td>test_108.txt</td>\n",
       "    </tr>\n",
       "    <tr>\n",
       "      <td>109</td>\n",
       "      <td>BOOKER</td>\n",
       "      <td>test_47.txt</td>\n",
       "    </tr>\n",
       "    <tr>\n",
       "      <td>110</td>\n",
       "      <td>GABBARD</td>\n",
       "      <td>test_53.txt</td>\n",
       "    </tr>\n",
       "  </tbody>\n",
       "</table>\n",
       "<p>111 rows × 2 columns</p>\n",
       "</div>"
      ],
      "text/plain": [
       "    Predicted Name     File Name\n",
       "0          SANDERS   test_76.txt\n",
       "1           WARREN   test_62.txt\n",
       "2           BOOKER  test_111.txt\n",
       "3           WARREN   test_89.txt\n",
       "4        BUTTIGIEG  test_105.txt\n",
       "..             ...           ...\n",
       "106        SANDERS   test_84.txt\n",
       "107         BOOKER   test_90.txt\n",
       "108      KLOBUCHAR  test_108.txt\n",
       "109         BOOKER   test_47.txt\n",
       "110        GABBARD   test_53.txt\n",
       "\n",
       "[111 rows x 2 columns]"
      ]
     },
     "execution_count": 166,
     "metadata": {},
     "output_type": "execute_result"
    }
   ],
   "source": [
    "test_labels"
   ]
  },
  {
   "cell_type": "code",
   "execution_count": 167,
   "metadata": {},
   "outputs": [],
   "source": [
    "X_train_lg = training_matrix_df.copy()\n",
    "X_train_lg = X_train_lg.drop(labels='Target', axis=1)\n",
    "X_test_lg = testing_matrix_df.copy()\n",
    "y_train_lg = training_matrix_df['Target']"
   ]
  },
  {
   "cell_type": "code",
   "execution_count": 168,
   "metadata": {},
   "outputs": [
    {
     "name": "stderr",
     "output_type": "stream",
     "text": [
      "/Users/apple/opt/anaconda3/lib/python3.7/site-packages/sklearn/linear_model/logistic.py:432: FutureWarning: Default solver will be changed to 'lbfgs' in 0.22. Specify a solver to silence this warning.\n",
      "  FutureWarning)\n",
      "/Users/apple/opt/anaconda3/lib/python3.7/site-packages/sklearn/linear_model/logistic.py:469: FutureWarning: Default multi_class will be changed to 'auto' in 0.22. Specify the multi_class option to silence this warning.\n",
      "  \"this warning.\", FutureWarning)\n"
     ]
    }
   ],
   "source": [
    "logi_model_lg = LogisticRegression(random_state=20).fit(X_train_lg, y_train_lg)"
   ]
  },
  {
   "cell_type": "code",
   "execution_count": 169,
   "metadata": {},
   "outputs": [
    {
     "data": {
      "text/plain": [
       "array(['Sanders', 'Warren', 'Booker', 'Steyer', 'Buttigieg', 'Gabbard',\n",
       "       'Biden', \"O'Rourke\", 'Biden', 'Warren', 'Warren', 'Biden',\n",
       "       'Warren', \"O'Rourke\", 'Warren', 'Buttigieg', 'Klobuchar',\n",
       "       'Buttigieg', 'Yang', 'Booker', 'Buttigieg', 'Castro', 'Buttigieg',\n",
       "       'Klobuchar', 'Steyer', 'Klobuchar', 'Biden', 'Sanders', 'Biden',\n",
       "       'Biden', 'Warren', 'Biden', 'Buttigieg', 'Warren', 'Warren',\n",
       "       'Biden', 'Buttigieg', 'Buttigieg', 'Booker', 'Sanders', 'Castro',\n",
       "       'Booker', 'Warren', 'Yang', 'Warren', 'Sanders', 'Yang', 'Sanders',\n",
       "       'Warren', 'Booker', 'Warren', 'Booker', 'Buttigieg', 'Sanders',\n",
       "       'Biden', 'Sanders', 'Biden', 'Warren', 'Buttigieg', 'Yang',\n",
       "       'Gabbard', 'Klobuchar', 'Warren', 'Booker', 'Harris', 'Booker',\n",
       "       'Warren', 'Harris', 'Buttigieg', 'Warren', 'Steyer', 'Sanders',\n",
       "       'Buttigieg', 'Biden', 'Booker', 'Buttigieg', 'Klobuchar', 'Yang',\n",
       "       'Klobuchar', 'Buttigieg', 'Sanders', 'Sanders', 'Buttigieg',\n",
       "       'Warren', 'Warren', 'Harris', 'Booker', 'Harris', 'Gabbard',\n",
       "       \"O'Rourke\", 'Gabbard', 'Sanders', \"O'Rourke\", 'Warren',\n",
       "       'Klobuchar', \"O'Rourke\", 'Warren', 'Biden', 'Klobuchar', 'Biden',\n",
       "       'Klobuchar', 'Biden', 'Booker', \"O'Rourke\", 'Klobuchar', 'Warren',\n",
       "       'Sanders', 'Booker', 'Klobuchar', 'Klobuchar', 'Gabbard'],\n",
       "      dtype=object)"
      ]
     },
     "execution_count": 169,
     "metadata": {},
     "output_type": "execute_result"
    }
   ],
   "source": [
    "logi_model_lg.predict(X_test_lg)"
   ]
  },
  {
   "cell_type": "code",
   "execution_count": 170,
   "metadata": {},
   "outputs": [],
   "source": [
    "test_labels_lg = pd.DataFrame(logi_model_lg.predict(X_test_lg))"
   ]
  },
  {
   "cell_type": "code",
   "execution_count": 171,
   "metadata": {},
   "outputs": [],
   "source": [
    "test_labels_lg.columns = ['Predicted Name Logistic']"
   ]
  },
  {
   "cell_type": "code",
   "execution_count": 172,
   "metadata": {},
   "outputs": [],
   "source": [
    "test_labels_lg['Predicted Name Logistic'] = test_labels_lg['Predicted Name Logistic'].str.upper() "
   ]
  },
  {
   "cell_type": "code",
   "execution_count": 173,
   "metadata": {},
   "outputs": [],
   "source": [
    "test_labels_lg['Predicted Name Logistic'] = test_labels_lg['Predicted Name Logistic'].str.replace('[^\\w\\s]','')"
   ]
  },
  {
   "cell_type": "code",
   "execution_count": 174,
   "metadata": {},
   "outputs": [],
   "source": [
    "test_labels['Predicted Name Logistic'] = pd.Series(test_labels_lg['Predicted Name Logistic'])"
   ]
  },
  {
   "cell_type": "code",
   "execution_count": 175,
   "metadata": {},
   "outputs": [
    {
     "data": {
      "text/html": [
       "<div>\n",
       "<style scoped>\n",
       "    .dataframe tbody tr th:only-of-type {\n",
       "        vertical-align: middle;\n",
       "    }\n",
       "\n",
       "    .dataframe tbody tr th {\n",
       "        vertical-align: top;\n",
       "    }\n",
       "\n",
       "    .dataframe thead th {\n",
       "        text-align: right;\n",
       "    }\n",
       "</style>\n",
       "<table border=\"1\" class=\"dataframe\">\n",
       "  <thead>\n",
       "    <tr style=\"text-align: right;\">\n",
       "      <th></th>\n",
       "      <th>Predicted Name</th>\n",
       "      <th>File Name</th>\n",
       "      <th>Predicted Name Logistic</th>\n",
       "    </tr>\n",
       "  </thead>\n",
       "  <tbody>\n",
       "    <tr>\n",
       "      <td>0</td>\n",
       "      <td>SANDERS</td>\n",
       "      <td>test_76.txt</td>\n",
       "      <td>SANDERS</td>\n",
       "    </tr>\n",
       "    <tr>\n",
       "      <td>1</td>\n",
       "      <td>WARREN</td>\n",
       "      <td>test_62.txt</td>\n",
       "      <td>WARREN</td>\n",
       "    </tr>\n",
       "    <tr>\n",
       "      <td>2</td>\n",
       "      <td>BOOKER</td>\n",
       "      <td>test_111.txt</td>\n",
       "      <td>BOOKER</td>\n",
       "    </tr>\n",
       "    <tr>\n",
       "      <td>3</td>\n",
       "      <td>WARREN</td>\n",
       "      <td>test_89.txt</td>\n",
       "      <td>STEYER</td>\n",
       "    </tr>\n",
       "    <tr>\n",
       "      <td>4</td>\n",
       "      <td>BUTTIGIEG</td>\n",
       "      <td>test_105.txt</td>\n",
       "      <td>BUTTIGIEG</td>\n",
       "    </tr>\n",
       "    <tr>\n",
       "      <td>...</td>\n",
       "      <td>...</td>\n",
       "      <td>...</td>\n",
       "      <td>...</td>\n",
       "    </tr>\n",
       "    <tr>\n",
       "      <td>106</td>\n",
       "      <td>SANDERS</td>\n",
       "      <td>test_84.txt</td>\n",
       "      <td>SANDERS</td>\n",
       "    </tr>\n",
       "    <tr>\n",
       "      <td>107</td>\n",
       "      <td>BOOKER</td>\n",
       "      <td>test_90.txt</td>\n",
       "      <td>BOOKER</td>\n",
       "    </tr>\n",
       "    <tr>\n",
       "      <td>108</td>\n",
       "      <td>KLOBUCHAR</td>\n",
       "      <td>test_108.txt</td>\n",
       "      <td>KLOBUCHAR</td>\n",
       "    </tr>\n",
       "    <tr>\n",
       "      <td>109</td>\n",
       "      <td>BOOKER</td>\n",
       "      <td>test_47.txt</td>\n",
       "      <td>KLOBUCHAR</td>\n",
       "    </tr>\n",
       "    <tr>\n",
       "      <td>110</td>\n",
       "      <td>GABBARD</td>\n",
       "      <td>test_53.txt</td>\n",
       "      <td>GABBARD</td>\n",
       "    </tr>\n",
       "  </tbody>\n",
       "</table>\n",
       "<p>111 rows × 3 columns</p>\n",
       "</div>"
      ],
      "text/plain": [
       "    Predicted Name     File Name Predicted Name Logistic\n",
       "0          SANDERS   test_76.txt                 SANDERS\n",
       "1           WARREN   test_62.txt                  WARREN\n",
       "2           BOOKER  test_111.txt                  BOOKER\n",
       "3           WARREN   test_89.txt                  STEYER\n",
       "4        BUTTIGIEG  test_105.txt               BUTTIGIEG\n",
       "..             ...           ...                     ...\n",
       "106        SANDERS   test_84.txt                 SANDERS\n",
       "107         BOOKER   test_90.txt                  BOOKER\n",
       "108      KLOBUCHAR  test_108.txt               KLOBUCHAR\n",
       "109         BOOKER   test_47.txt               KLOBUCHAR\n",
       "110        GABBARD   test_53.txt                 GABBARD\n",
       "\n",
       "[111 rows x 3 columns]"
      ]
     },
     "execution_count": 175,
     "metadata": {},
     "output_type": "execute_result"
    }
   ],
   "source": [
    "test_labels"
   ]
  },
  {
   "cell_type": "markdown",
   "metadata": {},
   "source": [
    "The above shows a comparision between the labels generated through SVM and Logistic on the TF-IDF analyis."
   ]
  },
  {
   "cell_type": "markdown",
   "metadata": {},
   "source": [
    "Now we are choosing SVM model with TF-IDF for our analysis in the coming questions."
   ]
  },
  {
   "cell_type": "markdown",
   "metadata": {},
   "source": [
    "#### Question - 13"
   ]
  },
  {
   "cell_type": "markdown",
   "metadata": {},
   "source": [
    "For this part, we will implement a semi-supervised learning process. As a first step, select which\n",
    "of the classifiers from part 2 you will use. You want a classifier that outputs class probabilities\n",
    "(i.e. predict proba in sklearn). We will be training and re-training this classifier 10 more\n",
    "times so you also want to use a model that does not take long to train. State which model\n",
    "you chose and your thought process for choosing it versus the other models. You may want to\n",
    "copy this model to another variable so you can refer to it in its current form later ?"
   ]
  },
  {
   "cell_type": "markdown",
   "metadata": {},
   "source": [
    "SVM tries to finds the best margin (distance between the line and the support vectors) that separates the classes and this reduces the risk of error on the data, while logistic regression does not, instead it can have different decision boundaries with different weights that are near the optimal point hence we are going with SVM. \n",
    "We could have chosen Naive Bayes also but it performs the best when all the features chosen are independent of each other but it is 100% the case with our tokens and tree based models didn't perform well as per our expectation hence we are going ahead with SVM. "
   ]
  },
  {
   "cell_type": "code",
   "execution_count": 176,
   "metadata": {},
   "outputs": [],
   "source": [
    "training_dataset_13_svm = tf_training_matrix_df.copy()"
   ]
  },
  {
   "cell_type": "code",
   "execution_count": 177,
   "metadata": {},
   "outputs": [],
   "source": [
    "testing_dataset_13_svm = tf_testing_matrix_df.copy()"
   ]
  },
  {
   "cell_type": "markdown",
   "metadata": {},
   "source": [
    "#### The below analysis is a combined effort for Problem -14, Problem 15 and Problem -16"
   ]
  },
  {
   "cell_type": "markdown",
   "metadata": {},
   "source": [
    "#### Working with SVM with tfidf testing and training dataset"
   ]
  },
  {
   "cell_type": "code",
   "execution_count": 178,
   "metadata": {},
   "outputs": [],
   "source": [
    "SVM_13 = svm.SVC(kernel='linear',gamma = 'auto',probability=True).fit(training_dataset_13_svm.iloc[:,:-1],training_dataset_13_svm.iloc[:,-1])\n",
    "SVM_13_predicted = SVM_13.predict(testing_dataset_13_svm)"
   ]
  },
  {
   "cell_type": "code",
   "execution_count": 179,
   "metadata": {},
   "outputs": [],
   "source": [
    "results =SVM_13.predict_proba(testing_dataset_13_svm)[0]"
   ]
  },
  {
   "cell_type": "code",
   "execution_count": 180,
   "metadata": {},
   "outputs": [
    {
     "data": {
      "text/plain": [
       "array([0.04663071, 0.02482818, 0.09241468, 0.01514827, 0.00874572,\n",
       "       0.01145903, 0.0864141 , 0.09131778, 0.38125243, 0.01763409,\n",
       "       0.21688571, 0.00726931])"
      ]
     },
     "execution_count": 180,
     "metadata": {},
     "output_type": "execute_result"
    }
   ],
   "source": [
    "results"
   ]
  },
  {
   "cell_type": "markdown",
   "metadata": {},
   "source": [
    "We see that in the above cell we have successfully calculated the probabilities. "
   ]
  },
  {
   "cell_type": "code",
   "execution_count": 181,
   "metadata": {},
   "outputs": [
    {
     "data": {
      "text/plain": [
       "array(['Biden', 'Booker', 'Buttigieg', 'Castro', 'Gabbard', 'Harris',\n",
       "       'Klobuchar', \"O'Rourke\", 'Sanders', 'Steyer', 'Warren', 'Yang'],\n",
       "      dtype=object)"
      ]
     },
     "execution_count": 181,
     "metadata": {},
     "output_type": "execute_result"
    }
   ],
   "source": [
    "SVM_13.classes_"
   ]
  },
  {
   "cell_type": "code",
   "execution_count": 182,
   "metadata": {},
   "outputs": [],
   "source": [
    "trial_13 = testing_dataset_13_svm.copy()"
   ]
  },
  {
   "cell_type": "code",
   "execution_count": 183,
   "metadata": {},
   "outputs": [],
   "source": [
    "SVM_13_predicted_df = pd.DataFrame(SVM_13_predicted)"
   ]
  },
  {
   "cell_type": "markdown",
   "metadata": {},
   "source": [
    "#### Appending the probabilities with the testing dataset "
   ]
  },
  {
   "cell_type": "code",
   "execution_count": 184,
   "metadata": {},
   "outputs": [],
   "source": [
    "#test_labels['File Name'] = pd.Series(trial123['File Name'])\n",
    "testing_dataset_13_svm['Predicted_Names_SVM_13'] = pd.Series(SVM_13_predicted_df[0])"
   ]
  },
  {
   "cell_type": "code",
   "execution_count": 185,
   "metadata": {},
   "outputs": [],
   "source": [
    "def proba_value(x):\n",
    "    if x['Predicted_Names_SVM_13'] == 'Biden':\n",
    "        return 0.04562407\n",
    "    if x['Predicted_Names_SVM_13'] == 'Booker':\n",
    "        return 0.03063671\n",
    "    if x['Predicted_Names_SVM_13'] == 'Buttigieg':\n",
    "        return 0.08824035\n",
    "    if x['Predicted_Names_SVM_13'] == 'Castro':\n",
    "        return 0.01504624\n",
    "    if x['Predicted_Names_SVM_13'] == 'Gabbard':\n",
    "        return 0.00854555\n",
    "    if x['Predicted_Names_SVM_13'] == 'Harris':\n",
    "        return 0.01212717\n",
    "    if x['Predicted_Names_SVM_13'] == 'Klobuchar':\n",
    "        return 0.0936352\n",
    "    if x['Predicted_Names_SVM_13'] == \"O'Rourke\":\n",
    "        return 0.10196509\n",
    "    if x['Predicted_Names_SVM_13'] == 'Sanders':\n",
    "        return 0.33850753\n",
    "    if x['Predicted_Names_SVM_13'] == 'Steyer':\n",
    "        return 0.01693285\n",
    "    if x['Predicted_Names_SVM_13'] == 'Warren':\n",
    "        return 0.24147104\n",
    "    if x['Predicted_Names_SVM_13'] == 'Yang':\n",
    "        return 0.0072682 "
   ]
  },
  {
   "cell_type": "code",
   "execution_count": 186,
   "metadata": {},
   "outputs": [],
   "source": [
    "testing_dataset_13_svm['Predicted Probabilities'] = testing_dataset_13_svm.apply(lambda x: proba_value(x), axis=1)"
   ]
  },
  {
   "cell_type": "code",
   "execution_count": 187,
   "metadata": {},
   "outputs": [],
   "source": [
    "testing_dataset_13_svm = testing_dataset_13_svm.sort_values(by = ['Predicted Probabilities'],ascending = False)"
   ]
  },
  {
   "cell_type": "code",
   "execution_count": 188,
   "metadata": {},
   "outputs": [],
   "source": [
    "testing_dataset_13_svm = testing_dataset_13_svm.fillna(0,axis = 0)"
   ]
  },
  {
   "cell_type": "code",
   "execution_count": 189,
   "metadata": {},
   "outputs": [],
   "source": [
    "pp = testing_dataset_13_svm.copy()"
   ]
  },
  {
   "cell_type": "markdown",
   "metadata": {},
   "source": [
    "#### Creating the testing datasets as per requirement "
   ]
  },
  {
   "cell_type": "code",
   "execution_count": 190,
   "metadata": {},
   "outputs": [],
   "source": [
    "test_10 = pp.iloc[:11,:]\n",
    "test_10 = test_10.drop(labels = 'Predicted Probabilities',axis = 1)\n",
    "test_10 = test_10.rename(columns={'Predicted_Names_SVM_13':'Target'})"
   ]
  },
  {
   "cell_type": "code",
   "execution_count": 191,
   "metadata": {},
   "outputs": [],
   "source": [
    "test_20 = pp.iloc[11:22,:]\n",
    "test_20 = test_20.drop(labels = 'Predicted Probabilities',axis = 1)\n",
    "test_20 = test_20.rename(columns={'Predicted_Names_SVM_13':'Target'})"
   ]
  },
  {
   "cell_type": "code",
   "execution_count": 192,
   "metadata": {},
   "outputs": [],
   "source": [
    "test_30 = pp.iloc[22:33,:]\n",
    "test_30 = test_30.drop(labels = 'Predicted Probabilities',axis = 1)\n",
    "test_30 = test_30.rename(columns={'Predicted_Names_SVM_13':'Target'})"
   ]
  },
  {
   "cell_type": "code",
   "execution_count": 193,
   "metadata": {},
   "outputs": [],
   "source": [
    "test_40 = pp.iloc[33:44,:]\n",
    "test_40 = test_40.drop(labels = 'Predicted Probabilities',axis = 1)\n",
    "test_40 = test_40.rename(columns={'Predicted_Names_SVM_13':'Target'})"
   ]
  },
  {
   "cell_type": "code",
   "execution_count": 194,
   "metadata": {},
   "outputs": [],
   "source": [
    "test_50 = pp.iloc[44:55,:]\n",
    "test_50 = test_50.drop(labels = 'Predicted Probabilities',axis = 1)\n",
    "test_50 = test_50.rename(columns={'Predicted_Names_SVM_13':'Target'})"
   ]
  },
  {
   "cell_type": "code",
   "execution_count": 195,
   "metadata": {},
   "outputs": [],
   "source": [
    "test_60 = pp.iloc[55:66,:]\n",
    "test_60 = test_60.drop(labels = 'Predicted Probabilities',axis = 1)\n",
    "test_60 = test_60.rename(columns={'Predicted_Names_SVM_13':'Target'})"
   ]
  },
  {
   "cell_type": "code",
   "execution_count": 196,
   "metadata": {},
   "outputs": [],
   "source": [
    "test_70 = pp.iloc[66:77,:]\n",
    "test_70 = test_70.drop(labels = 'Predicted Probabilities',axis = 1)\n",
    "test_70 = test_70.rename(columns={'Predicted_Names_SVM_13':'Target'})"
   ]
  },
  {
   "cell_type": "code",
   "execution_count": 197,
   "metadata": {},
   "outputs": [],
   "source": [
    "test_80 = pp.iloc[77:88,:]\n",
    "test_80 = test_80.drop(labels = 'Predicted Probabilities',axis = 1)\n",
    "test_80 = test_80.rename(columns={'Predicted_Names_SVM_13':'Target'})"
   ]
  },
  {
   "cell_type": "code",
   "execution_count": 198,
   "metadata": {},
   "outputs": [],
   "source": [
    "test_90 = pp.iloc[88:99,:]\n",
    "test_90 = test_90.drop(labels = 'Predicted Probabilities',axis = 1)\n",
    "test_90 = test_90.rename(columns={'Predicted_Names_SVM_13':'Target'})"
   ]
  },
  {
   "cell_type": "code",
   "execution_count": 199,
   "metadata": {},
   "outputs": [],
   "source": [
    "test_100 = pp.iloc[99:111,:]\n",
    "test_100 = test_100.drop(labels = 'Predicted Probabilities',axis = 1)\n",
    "test_100 = test_100.rename(columns={'Predicted_Names_SVM_13':'Target'})"
   ]
  },
  {
   "cell_type": "markdown",
   "metadata": {},
   "source": [
    "#### Adding Rows to the Training_data from the different proportions of the testing data"
   ]
  },
  {
   "cell_type": "code",
   "execution_count": 200,
   "metadata": {},
   "outputs": [],
   "source": [
    "train_0 = training_dataset_13_svm.copy()"
   ]
  },
  {
   "cell_type": "code",
   "execution_count": 201,
   "metadata": {},
   "outputs": [
    {
     "data": {
      "text/plain": [
       "(528, 904)"
      ]
     },
     "execution_count": 201,
     "metadata": {},
     "output_type": "execute_result"
    }
   ],
   "source": [
    "train_0.shape"
   ]
  },
  {
   "cell_type": "code",
   "execution_count": 202,
   "metadata": {},
   "outputs": [
    {
     "data": {
      "text/plain": [
       "(11, 904)"
      ]
     },
     "execution_count": 202,
     "metadata": {},
     "output_type": "execute_result"
    }
   ],
   "source": [
    "test_10.shape"
   ]
  },
  {
   "cell_type": "code",
   "execution_count": 203,
   "metadata": {},
   "outputs": [],
   "source": [
    "train_10 = pd.concat([train_0, test_10], axis=0)"
   ]
  },
  {
   "cell_type": "code",
   "execution_count": 204,
   "metadata": {},
   "outputs": [],
   "source": [
    "train_20 = pd.concat([train_10, test_20], axis=0)"
   ]
  },
  {
   "cell_type": "code",
   "execution_count": 205,
   "metadata": {},
   "outputs": [],
   "source": [
    "train_30 = pd.concat([train_20, test_30], axis=0)"
   ]
  },
  {
   "cell_type": "code",
   "execution_count": 206,
   "metadata": {},
   "outputs": [],
   "source": [
    "train_40 = pd.concat([train_30, test_40], axis=0)"
   ]
  },
  {
   "cell_type": "code",
   "execution_count": 207,
   "metadata": {},
   "outputs": [],
   "source": [
    "train_50 = pd.concat([train_40, test_50], axis=0)"
   ]
  },
  {
   "cell_type": "code",
   "execution_count": 208,
   "metadata": {},
   "outputs": [],
   "source": [
    "train_60 = pd.concat([train_50, test_60], axis=0)"
   ]
  },
  {
   "cell_type": "code",
   "execution_count": 209,
   "metadata": {},
   "outputs": [],
   "source": [
    "train_70 = pd.concat([train_60, test_70], axis=0)"
   ]
  },
  {
   "cell_type": "code",
   "execution_count": 210,
   "metadata": {},
   "outputs": [],
   "source": [
    "train_80 = pd.concat([train_70, test_80], axis=0)"
   ]
  },
  {
   "cell_type": "code",
   "execution_count": 211,
   "metadata": {},
   "outputs": [],
   "source": [
    "train_90 = pd.concat([train_80, test_90], axis=0)"
   ]
  },
  {
   "cell_type": "code",
   "execution_count": 212,
   "metadata": {},
   "outputs": [],
   "source": [
    "train_100 = pd.concat([train_90, test_100], axis=0)"
   ]
  },
  {
   "cell_type": "markdown",
   "metadata": {},
   "source": [
    "#### Training and Testing "
   ]
  },
  {
   "cell_type": "code",
   "execution_count": 213,
   "metadata": {},
   "outputs": [],
   "source": [
    "train_list = [train_0,train_10,train_20,train_30,train_40,train_50,train_60,train_70,train_80,train_90,train_100]"
   ]
  },
  {
   "cell_type": "code",
   "execution_count": 214,
   "metadata": {},
   "outputs": [
    {
     "name": "stdout",
     "output_type": "stream",
     "text": [
      "[0.4716981132075472, 0.49074074074074076, 0.5363636363636364, 0.5575221238938053, 0.4608695652173913, 0.47863247863247865, 0.5378151260504201, 0.512396694214876, 0.5967741935483871, 0.5396825396825397, 0.5625]\n"
     ]
    }
   ],
   "source": [
    "accuracies = []\n",
    "for item in train_list:\n",
    "    X_train_final,X_test_final,y_train_final,y_test_final = train_test_split(item.iloc[:,:-1], item['Target'], test_size=0.20, random_state=21)\n",
    "    SVM_final = svm.SVC(kernel='linear',gamma = 'auto').fit(X_train_final,y_train_final)\n",
    "    SVM_predicted_final = SVM_final.predict(X_test_final)\n",
    "    accuracies.append(accuracy_score(y_test_final, SVM_predicted_final))\n",
    "print(accuracies)"
   ]
  },
  {
   "cell_type": "markdown",
   "metadata": {},
   "source": [
    "We observe that after adding the first 10% of the data to our training dataset accuracy of our SVM classifier has increased slightly to a 49% as earlier from 47% hence we can say that there is a slight imporvement. "
   ]
  },
  {
   "cell_type": "code",
   "execution_count": 215,
   "metadata": {},
   "outputs": [],
   "source": [
    "list_X = ['0%','10%','20%','30%','40%','50%','60%','70%','80%','90%','100%']"
   ]
  },
  {
   "cell_type": "markdown",
   "metadata": {},
   "source": [
    "#### Plotting Percentage of Test data Used vs Accuracies"
   ]
  },
  {
   "cell_type": "code",
   "execution_count": 216,
   "metadata": {},
   "outputs": [],
   "source": [
    "plot_df = pd.DataFrame()"
   ]
  },
  {
   "cell_type": "code",
   "execution_count": 217,
   "metadata": {},
   "outputs": [],
   "source": [
    "plot_df['Test Percentage'] = list_X"
   ]
  },
  {
   "cell_type": "code",
   "execution_count": 218,
   "metadata": {},
   "outputs": [],
   "source": [
    "plot_df['Accuracies'] = accuracies"
   ]
  },
  {
   "cell_type": "code",
   "execution_count": 219,
   "metadata": {},
   "outputs": [
    {
     "data": {
      "text/html": [
       "<div>\n",
       "<style scoped>\n",
       "    .dataframe tbody tr th:only-of-type {\n",
       "        vertical-align: middle;\n",
       "    }\n",
       "\n",
       "    .dataframe tbody tr th {\n",
       "        vertical-align: top;\n",
       "    }\n",
       "\n",
       "    .dataframe thead th {\n",
       "        text-align: right;\n",
       "    }\n",
       "</style>\n",
       "<table border=\"1\" class=\"dataframe\">\n",
       "  <thead>\n",
       "    <tr style=\"text-align: right;\">\n",
       "      <th></th>\n",
       "      <th>Test Percentage</th>\n",
       "      <th>Accuracies</th>\n",
       "    </tr>\n",
       "  </thead>\n",
       "  <tbody>\n",
       "    <tr>\n",
       "      <td>0</td>\n",
       "      <td>0%</td>\n",
       "      <td>0.471698</td>\n",
       "    </tr>\n",
       "    <tr>\n",
       "      <td>1</td>\n",
       "      <td>10%</td>\n",
       "      <td>0.490741</td>\n",
       "    </tr>\n",
       "    <tr>\n",
       "      <td>2</td>\n",
       "      <td>20%</td>\n",
       "      <td>0.536364</td>\n",
       "    </tr>\n",
       "    <tr>\n",
       "      <td>3</td>\n",
       "      <td>30%</td>\n",
       "      <td>0.557522</td>\n",
       "    </tr>\n",
       "    <tr>\n",
       "      <td>4</td>\n",
       "      <td>40%</td>\n",
       "      <td>0.460870</td>\n",
       "    </tr>\n",
       "    <tr>\n",
       "      <td>5</td>\n",
       "      <td>50%</td>\n",
       "      <td>0.478632</td>\n",
       "    </tr>\n",
       "    <tr>\n",
       "      <td>6</td>\n",
       "      <td>60%</td>\n",
       "      <td>0.537815</td>\n",
       "    </tr>\n",
       "    <tr>\n",
       "      <td>7</td>\n",
       "      <td>70%</td>\n",
       "      <td>0.512397</td>\n",
       "    </tr>\n",
       "    <tr>\n",
       "      <td>8</td>\n",
       "      <td>80%</td>\n",
       "      <td>0.596774</td>\n",
       "    </tr>\n",
       "    <tr>\n",
       "      <td>9</td>\n",
       "      <td>90%</td>\n",
       "      <td>0.539683</td>\n",
       "    </tr>\n",
       "    <tr>\n",
       "      <td>10</td>\n",
       "      <td>100%</td>\n",
       "      <td>0.562500</td>\n",
       "    </tr>\n",
       "  </tbody>\n",
       "</table>\n",
       "</div>"
      ],
      "text/plain": [
       "   Test Percentage  Accuracies\n",
       "0               0%    0.471698\n",
       "1              10%    0.490741\n",
       "2              20%    0.536364\n",
       "3              30%    0.557522\n",
       "4              40%    0.460870\n",
       "5              50%    0.478632\n",
       "6              60%    0.537815\n",
       "7              70%    0.512397\n",
       "8              80%    0.596774\n",
       "9              90%    0.539683\n",
       "10            100%    0.562500"
      ]
     },
     "execution_count": 219,
     "metadata": {},
     "output_type": "execute_result"
    }
   ],
   "source": [
    "plot_df"
   ]
  },
  {
   "cell_type": "code",
   "execution_count": 257,
   "metadata": {},
   "outputs": [
    {
     "data": {
      "text/plain": [
       "0.5222722919592566"
      ]
     },
     "execution_count": 257,
     "metadata": {},
     "output_type": "execute_result"
    }
   ],
   "source": [
    "sum(accuracies)/11 #Mean accuracy calculation"
   ]
  },
  {
   "cell_type": "code",
   "execution_count": 255,
   "metadata": {},
   "outputs": [
    {
     "data": {
      "image/png": "[encoded data removed]",
      "text/plain": [
       "<Figure size 432x288 with 1 Axes>"
      ]
     },
     "metadata": {
      "needs_background": "light"
     },
     "output_type": "display_data"
    }
   ],
   "source": [
    "plot_df.plot(x='Test Percentage', y='Accuracies', kind='bar')\n",
    "matplot.xticks(rotation=360)\n",
    "matplot.show()"
   ]
  },
  {
   "cell_type": "markdown",
   "metadata": {},
   "source": [
    "The plot seem to have no specific trend but we observe that the with every addition of the testing data initially it is increasing then around 40% there is a dip and then increasing then around 90 % there is a dip but on an average the mean of our accuracies is around 52%. Not significant help observed here. "
   ]
  },
  {
   "cell_type": "markdown",
   "metadata": {},
   "source": [
    "#### Problem - 16"
   ]
  },
  {
   "cell_type": "markdown",
   "metadata": {},
   "source": [
    "Using the model that is trained on the entirety of the training data and 100% of the test data\n",
    "(labeled by you), generate a final set of labels for the test data. Be sure to only use last names in all caps for the labels, as you did in Question 12. Include these in your submission per the\n",
    "instructions below."
   ]
  },
  {
   "cell_type": "code",
   "execution_count": 221,
   "metadata": {},
   "outputs": [],
   "source": [
    "X_train_16 = train_100.copy() \n",
    "X_train_16 = X_train_16.iloc[:,:-1]"
   ]
  },
  {
   "cell_type": "markdown",
   "metadata": {},
   "source": [
    "We are choosing train_100 here as it is a combination of the entirety of the training data and 100% of the test data that is labelled above. "
   ]
  },
  {
   "cell_type": "code",
   "execution_count": 222,
   "metadata": {},
   "outputs": [],
   "source": [
    "y_train_16 = train_100.iloc[:,-1]"
   ]
  },
  {
   "cell_type": "code",
   "execution_count": 223,
   "metadata": {},
   "outputs": [],
   "source": [
    "X_test_16 = testing_dataset_13_svm.iloc[:,:903]"
   ]
  },
  {
   "cell_type": "code",
   "execution_count": 224,
   "metadata": {},
   "outputs": [],
   "source": [
    "SVM_final_16 = svm.SVC(kernel='linear').fit(X_train_16,y_train_16)\n"
   ]
  },
  {
   "cell_type": "code",
   "execution_count": 225,
   "metadata": {},
   "outputs": [],
   "source": [
    "SVM_predicted_final_16 = SVM_final_16.predict(X_test_16)"
   ]
  },
  {
   "cell_type": "code",
   "execution_count": 226,
   "metadata": {},
   "outputs": [
    {
     "data": {
      "text/plain": [
       "array(['Sanders', 'Sanders', 'Sanders', 'Sanders', 'Sanders', 'Sanders',\n",
       "       'Sanders', 'Sanders', 'Warren', 'Warren', 'Warren', 'Warren',\n",
       "       'Warren', 'Warren', 'Warren', 'Warren', 'Warren', 'Warren',\n",
       "       'Warren', 'Warren', 'Warren', 'Warren', 'Warren', 'Warren',\n",
       "       'Warren', 'Warren', 'Warren', 'Warren', 'Warren', 'Warren',\n",
       "       'Warren', 'Warren', 'Warren', 'Warren', \"O'Rourke\", \"O'Rourke\",\n",
       "       \"O'Rourke\", \"O'Rourke\", 'Klobuchar', 'Klobuchar', 'Klobuchar',\n",
       "       'Klobuchar', 'Klobuchar', 'Klobuchar', 'Klobuchar', 'Klobuchar',\n",
       "       'Klobuchar', 'Klobuchar', 'Klobuchar', 'Klobuchar', 'Klobuchar',\n",
       "       'Buttigieg', 'Buttigieg', 'Buttigieg', 'Buttigieg', 'Buttigieg',\n",
       "       'Buttigieg', 'Buttigieg', 'Buttigieg', 'Buttigieg', 'Buttigieg',\n",
       "       'Buttigieg', 'Buttigieg', 'Buttigieg', 'Buttigieg', 'Buttigieg',\n",
       "       'Buttigieg', 'Buttigieg', 'Buttigieg', 'Buttigieg', 'Buttigieg',\n",
       "       'Buttigieg', 'Biden', 'Biden', 'Biden', 'Biden', 'Biden', 'Biden',\n",
       "       'Biden', 'Biden', 'Biden', 'Biden', 'Biden', 'Biden', 'Biden',\n",
       "       'Booker', 'Booker', 'Booker', 'Booker', 'Booker', 'Booker',\n",
       "       'Booker', 'Booker', 'Booker', 'Booker', 'Booker', 'Booker',\n",
       "       'Booker', 'Booker', 'Booker', 'Castro', 'Harris', 'Harris',\n",
       "       'Harris', 'Harris', 'Harris', 'Gabbard', 'Gabbard', 'Yang', 'Yang',\n",
       "       'Yang'], dtype=object)"
      ]
     },
     "execution_count": 226,
     "metadata": {},
     "output_type": "execute_result"
    }
   ],
   "source": [
    "SVM_predicted_final_16"
   ]
  },
  {
   "cell_type": "code",
   "execution_count": 227,
   "metadata": {},
   "outputs": [],
   "source": [
    "test_labels['Final_Prediction'] = SVM_predicted_final_16"
   ]
  },
  {
   "cell_type": "code",
   "execution_count": 228,
   "metadata": {},
   "outputs": [],
   "source": [
    "test_labels = test_labels.drop(labels = 'Predicted Name Logistic',axis = 1)"
   ]
  },
  {
   "cell_type": "code",
   "execution_count": 229,
   "metadata": {},
   "outputs": [],
   "source": [
    "test_labels = test_labels.drop(labels = 'File Name',axis = 1)"
   ]
  },
  {
   "cell_type": "code",
   "execution_count": 230,
   "metadata": {},
   "outputs": [],
   "source": [
    "test_labels['Final_Prediction'] = test_labels['Final_Prediction'].str.upper() "
   ]
  },
  {
   "cell_type": "code",
   "execution_count": 231,
   "metadata": {},
   "outputs": [],
   "source": [
    "test_labels['Final_Prediction'] = test_labels['Final_Prediction'].str.replace('[^\\w\\s]','')"
   ]
  },
  {
   "cell_type": "code",
   "execution_count": 232,
   "metadata": {},
   "outputs": [],
   "source": [
    "names_1 = pd.DataFrame()"
   ]
  },
  {
   "cell_type": "code",
   "execution_count": 233,
   "metadata": {},
   "outputs": [],
   "source": [
    "names_1['names'] = files_1"
   ]
  },
  {
   "cell_type": "code",
   "execution_count": 234,
   "metadata": {},
   "outputs": [
    {
     "data": {
      "text/html": [
       "<div>\n",
       "<style scoped>\n",
       "    .dataframe tbody tr th:only-of-type {\n",
       "        vertical-align: middle;\n",
       "    }\n",
       "\n",
       "    .dataframe tbody tr th {\n",
       "        vertical-align: top;\n",
       "    }\n",
       "\n",
       "    .dataframe thead th {\n",
       "        text-align: right;\n",
       "    }\n",
       "</style>\n",
       "<table border=\"1\" class=\"dataframe\">\n",
       "  <thead>\n",
       "    <tr style=\"text-align: right;\">\n",
       "      <th></th>\n",
       "      <th>names</th>\n",
       "    </tr>\n",
       "  </thead>\n",
       "  <tbody>\n",
       "    <tr>\n",
       "      <td>0</td>\n",
       "      <td>/Users/apple/Desktop/Problem_Set_3/test/test_7...</td>\n",
       "    </tr>\n",
       "    <tr>\n",
       "      <td>1</td>\n",
       "      <td>/Users/apple/Desktop/Problem_Set_3/test/test_6...</td>\n",
       "    </tr>\n",
       "    <tr>\n",
       "      <td>2</td>\n",
       "      <td>/Users/apple/Desktop/Problem_Set_3/test/test_1...</td>\n",
       "    </tr>\n",
       "    <tr>\n",
       "      <td>3</td>\n",
       "      <td>/Users/apple/Desktop/Problem_Set_3/test/test_8...</td>\n",
       "    </tr>\n",
       "    <tr>\n",
       "      <td>4</td>\n",
       "      <td>/Users/apple/Desktop/Problem_Set_3/test/test_1...</td>\n",
       "    </tr>\n",
       "    <tr>\n",
       "      <td>...</td>\n",
       "      <td>...</td>\n",
       "    </tr>\n",
       "    <tr>\n",
       "      <td>106</td>\n",
       "      <td>/Users/apple/Desktop/Problem_Set_3/test/test_8...</td>\n",
       "    </tr>\n",
       "    <tr>\n",
       "      <td>107</td>\n",
       "      <td>/Users/apple/Desktop/Problem_Set_3/test/test_9...</td>\n",
       "    </tr>\n",
       "    <tr>\n",
       "      <td>108</td>\n",
       "      <td>/Users/apple/Desktop/Problem_Set_3/test/test_1...</td>\n",
       "    </tr>\n",
       "    <tr>\n",
       "      <td>109</td>\n",
       "      <td>/Users/apple/Desktop/Problem_Set_3/test/test_4...</td>\n",
       "    </tr>\n",
       "    <tr>\n",
       "      <td>110</td>\n",
       "      <td>/Users/apple/Desktop/Problem_Set_3/test/test_5...</td>\n",
       "    </tr>\n",
       "  </tbody>\n",
       "</table>\n",
       "<p>111 rows × 1 columns</p>\n",
       "</div>"
      ],
      "text/plain": [
       "                                                 names\n",
       "0    /Users/apple/Desktop/Problem_Set_3/test/test_7...\n",
       "1    /Users/apple/Desktop/Problem_Set_3/test/test_6...\n",
       "2    /Users/apple/Desktop/Problem_Set_3/test/test_1...\n",
       "3    /Users/apple/Desktop/Problem_Set_3/test/test_8...\n",
       "4    /Users/apple/Desktop/Problem_Set_3/test/test_1...\n",
       "..                                                 ...\n",
       "106  /Users/apple/Desktop/Problem_Set_3/test/test_8...\n",
       "107  /Users/apple/Desktop/Problem_Set_3/test/test_9...\n",
       "108  /Users/apple/Desktop/Problem_Set_3/test/test_1...\n",
       "109  /Users/apple/Desktop/Problem_Set_3/test/test_4...\n",
       "110  /Users/apple/Desktop/Problem_Set_3/test/test_5...\n",
       "\n",
       "[111 rows x 1 columns]"
      ]
     },
     "execution_count": 234,
     "metadata": {},
     "output_type": "execute_result"
    }
   ],
   "source": [
    "names_1"
   ]
  },
  {
   "cell_type": "code",
   "execution_count": 235,
   "metadata": {},
   "outputs": [],
   "source": [
    "names_1['names'] = names_1['names'].str.replace('/Users/apple/Desktop/Problem_Set_3/test/', '')"
   ]
  },
  {
   "cell_type": "code",
   "execution_count": 236,
   "metadata": {},
   "outputs": [
    {
     "data": {
      "text/html": [
       "<div>\n",
       "<style scoped>\n",
       "    .dataframe tbody tr th:only-of-type {\n",
       "        vertical-align: middle;\n",
       "    }\n",
       "\n",
       "    .dataframe tbody tr th {\n",
       "        vertical-align: top;\n",
       "    }\n",
       "\n",
       "    .dataframe thead th {\n",
       "        text-align: right;\n",
       "    }\n",
       "</style>\n",
       "<table border=\"1\" class=\"dataframe\">\n",
       "  <thead>\n",
       "    <tr style=\"text-align: right;\">\n",
       "      <th></th>\n",
       "      <th>names</th>\n",
       "    </tr>\n",
       "  </thead>\n",
       "  <tbody>\n",
       "    <tr>\n",
       "      <td>0</td>\n",
       "      <td>test_76.txt</td>\n",
       "    </tr>\n",
       "    <tr>\n",
       "      <td>1</td>\n",
       "      <td>test_62.txt</td>\n",
       "    </tr>\n",
       "    <tr>\n",
       "      <td>2</td>\n",
       "      <td>test_111.txt</td>\n",
       "    </tr>\n",
       "    <tr>\n",
       "      <td>3</td>\n",
       "      <td>test_89.txt</td>\n",
       "    </tr>\n",
       "    <tr>\n",
       "      <td>4</td>\n",
       "      <td>test_105.txt</td>\n",
       "    </tr>\n",
       "    <tr>\n",
       "      <td>...</td>\n",
       "      <td>...</td>\n",
       "    </tr>\n",
       "    <tr>\n",
       "      <td>106</td>\n",
       "      <td>test_84.txt</td>\n",
       "    </tr>\n",
       "    <tr>\n",
       "      <td>107</td>\n",
       "      <td>test_90.txt</td>\n",
       "    </tr>\n",
       "    <tr>\n",
       "      <td>108</td>\n",
       "      <td>test_108.txt</td>\n",
       "    </tr>\n",
       "    <tr>\n",
       "      <td>109</td>\n",
       "      <td>test_47.txt</td>\n",
       "    </tr>\n",
       "    <tr>\n",
       "      <td>110</td>\n",
       "      <td>test_53.txt</td>\n",
       "    </tr>\n",
       "  </tbody>\n",
       "</table>\n",
       "<p>111 rows × 1 columns</p>\n",
       "</div>"
      ],
      "text/plain": [
       "            names\n",
       "0     test_76.txt\n",
       "1     test_62.txt\n",
       "2    test_111.txt\n",
       "3     test_89.txt\n",
       "4    test_105.txt\n",
       "..            ...\n",
       "106   test_84.txt\n",
       "107   test_90.txt\n",
       "108  test_108.txt\n",
       "109   test_47.txt\n",
       "110   test_53.txt\n",
       "\n",
       "[111 rows x 1 columns]"
      ]
     },
     "execution_count": 236,
     "metadata": {},
     "output_type": "execute_result"
    }
   ],
   "source": [
    "names_1"
   ]
  },
  {
   "cell_type": "code",
   "execution_count": 237,
   "metadata": {},
   "outputs": [],
   "source": [
    "test_labels['File'] = names_1"
   ]
  },
  {
   "cell_type": "code",
   "execution_count": 238,
   "metadata": {},
   "outputs": [
    {
     "data": {
      "text/html": [
       "<div>\n",
       "<style scoped>\n",
       "    .dataframe tbody tr th:only-of-type {\n",
       "        vertical-align: middle;\n",
       "    }\n",
       "\n",
       "    .dataframe tbody tr th {\n",
       "        vertical-align: top;\n",
       "    }\n",
       "\n",
       "    .dataframe thead th {\n",
       "        text-align: right;\n",
       "    }\n",
       "</style>\n",
       "<table border=\"1\" class=\"dataframe\">\n",
       "  <thead>\n",
       "    <tr style=\"text-align: right;\">\n",
       "      <th></th>\n",
       "      <th>Predicted Name</th>\n",
       "      <th>Final_Prediction</th>\n",
       "      <th>File</th>\n",
       "    </tr>\n",
       "  </thead>\n",
       "  <tbody>\n",
       "    <tr>\n",
       "      <td>0</td>\n",
       "      <td>SANDERS</td>\n",
       "      <td>SANDERS</td>\n",
       "      <td>test_76.txt</td>\n",
       "    </tr>\n",
       "    <tr>\n",
       "      <td>1</td>\n",
       "      <td>WARREN</td>\n",
       "      <td>SANDERS</td>\n",
       "      <td>test_62.txt</td>\n",
       "    </tr>\n",
       "    <tr>\n",
       "      <td>2</td>\n",
       "      <td>BOOKER</td>\n",
       "      <td>SANDERS</td>\n",
       "      <td>test_111.txt</td>\n",
       "    </tr>\n",
       "    <tr>\n",
       "      <td>3</td>\n",
       "      <td>WARREN</td>\n",
       "      <td>SANDERS</td>\n",
       "      <td>test_89.txt</td>\n",
       "    </tr>\n",
       "    <tr>\n",
       "      <td>4</td>\n",
       "      <td>BUTTIGIEG</td>\n",
       "      <td>SANDERS</td>\n",
       "      <td>test_105.txt</td>\n",
       "    </tr>\n",
       "    <tr>\n",
       "      <td>...</td>\n",
       "      <td>...</td>\n",
       "      <td>...</td>\n",
       "      <td>...</td>\n",
       "    </tr>\n",
       "    <tr>\n",
       "      <td>106</td>\n",
       "      <td>SANDERS</td>\n",
       "      <td>GABBARD</td>\n",
       "      <td>test_84.txt</td>\n",
       "    </tr>\n",
       "    <tr>\n",
       "      <td>107</td>\n",
       "      <td>BOOKER</td>\n",
       "      <td>GABBARD</td>\n",
       "      <td>test_90.txt</td>\n",
       "    </tr>\n",
       "    <tr>\n",
       "      <td>108</td>\n",
       "      <td>KLOBUCHAR</td>\n",
       "      <td>YANG</td>\n",
       "      <td>test_108.txt</td>\n",
       "    </tr>\n",
       "    <tr>\n",
       "      <td>109</td>\n",
       "      <td>BOOKER</td>\n",
       "      <td>YANG</td>\n",
       "      <td>test_47.txt</td>\n",
       "    </tr>\n",
       "    <tr>\n",
       "      <td>110</td>\n",
       "      <td>GABBARD</td>\n",
       "      <td>YANG</td>\n",
       "      <td>test_53.txt</td>\n",
       "    </tr>\n",
       "  </tbody>\n",
       "</table>\n",
       "<p>111 rows × 3 columns</p>\n",
       "</div>"
      ],
      "text/plain": [
       "    Predicted Name Final_Prediction          File\n",
       "0          SANDERS          SANDERS   test_76.txt\n",
       "1           WARREN          SANDERS   test_62.txt\n",
       "2           BOOKER          SANDERS  test_111.txt\n",
       "3           WARREN          SANDERS   test_89.txt\n",
       "4        BUTTIGIEG          SANDERS  test_105.txt\n",
       "..             ...              ...           ...\n",
       "106        SANDERS          GABBARD   test_84.txt\n",
       "107         BOOKER          GABBARD   test_90.txt\n",
       "108      KLOBUCHAR             YANG  test_108.txt\n",
       "109         BOOKER             YANG   test_47.txt\n",
       "110        GABBARD             YANG   test_53.txt\n",
       "\n",
       "[111 rows x 3 columns]"
      ]
     },
     "execution_count": 238,
     "metadata": {},
     "output_type": "execute_result"
    }
   ],
   "source": [
    "test_labels"
   ]
  },
  {
   "cell_type": "code",
   "execution_count": 239,
   "metadata": {},
   "outputs": [],
   "source": [
    "test_labels.columns = ['MODEL1','MODEL2','FILE']"
   ]
  },
  {
   "cell_type": "code",
   "execution_count": 240,
   "metadata": {},
   "outputs": [],
   "source": [
    "test_labels = test_labels[['FILE','MODEL1','MODEL2']]"
   ]
  },
  {
   "cell_type": "code",
   "execution_count": 241,
   "metadata": {},
   "outputs": [],
   "source": [
    "test_labels = test_labels.sort_values('FILE')"
   ]
  },
  {
   "cell_type": "code",
   "execution_count": 242,
   "metadata": {},
   "outputs": [
    {
     "data": {
      "text/html": [
       "<div>\n",
       "<style scoped>\n",
       "    .dataframe tbody tr th:only-of-type {\n",
       "        vertical-align: middle;\n",
       "    }\n",
       "\n",
       "    .dataframe tbody tr th {\n",
       "        vertical-align: top;\n",
       "    }\n",
       "\n",
       "    .dataframe thead th {\n",
       "        text-align: right;\n",
       "    }\n",
       "</style>\n",
       "<table border=\"1\" class=\"dataframe\">\n",
       "  <thead>\n",
       "    <tr style=\"text-align: right;\">\n",
       "      <th></th>\n",
       "      <th>FILE</th>\n",
       "      <th>MODEL1</th>\n",
       "      <th>MODEL2</th>\n",
       "    </tr>\n",
       "  </thead>\n",
       "  <tbody>\n",
       "    <tr>\n",
       "      <td>56</td>\n",
       "      <td>test_1.txt</td>\n",
       "      <td>BIDEN</td>\n",
       "      <td>BUTTIGIEG</td>\n",
       "    </tr>\n",
       "    <tr>\n",
       "      <td>44</td>\n",
       "      <td>test_10.txt</td>\n",
       "      <td>WARREN</td>\n",
       "      <td>KLOBUCHAR</td>\n",
       "    </tr>\n",
       "    <tr>\n",
       "      <td>28</td>\n",
       "      <td>test_100.txt</td>\n",
       "      <td>BIDEN</td>\n",
       "      <td>WARREN</td>\n",
       "    </tr>\n",
       "    <tr>\n",
       "      <td>30</td>\n",
       "      <td>test_101.txt</td>\n",
       "      <td>WARREN</td>\n",
       "      <td>WARREN</td>\n",
       "    </tr>\n",
       "    <tr>\n",
       "      <td>22</td>\n",
       "      <td>test_102.txt</td>\n",
       "      <td>BUTTIGIEG</td>\n",
       "      <td>WARREN</td>\n",
       "    </tr>\n",
       "    <tr>\n",
       "      <td>...</td>\n",
       "      <td>...</td>\n",
       "      <td>...</td>\n",
       "      <td>...</td>\n",
       "    </tr>\n",
       "    <tr>\n",
       "      <td>78</td>\n",
       "      <td>test_95.txt</td>\n",
       "      <td>BUTTIGIEG</td>\n",
       "      <td>BIDEN</td>\n",
       "    </tr>\n",
       "    <tr>\n",
       "      <td>86</td>\n",
       "      <td>test_96.txt</td>\n",
       "      <td>BOOKER</td>\n",
       "      <td>BOOKER</td>\n",
       "    </tr>\n",
       "    <tr>\n",
       "      <td>85</td>\n",
       "      <td>test_97.txt</td>\n",
       "      <td>HARRIS</td>\n",
       "      <td>BOOKER</td>\n",
       "    </tr>\n",
       "    <tr>\n",
       "      <td>29</td>\n",
       "      <td>test_98.txt</td>\n",
       "      <td>BIDEN</td>\n",
       "      <td>WARREN</td>\n",
       "    </tr>\n",
       "    <tr>\n",
       "      <td>31</td>\n",
       "      <td>test_99.txt</td>\n",
       "      <td>BIDEN</td>\n",
       "      <td>WARREN</td>\n",
       "    </tr>\n",
       "  </tbody>\n",
       "</table>\n",
       "<p>111 rows × 3 columns</p>\n",
       "</div>"
      ],
      "text/plain": [
       "            FILE     MODEL1     MODEL2\n",
       "56    test_1.txt      BIDEN  BUTTIGIEG\n",
       "44   test_10.txt     WARREN  KLOBUCHAR\n",
       "28  test_100.txt      BIDEN     WARREN\n",
       "30  test_101.txt     WARREN     WARREN\n",
       "22  test_102.txt  BUTTIGIEG     WARREN\n",
       "..           ...        ...        ...\n",
       "78   test_95.txt  BUTTIGIEG      BIDEN\n",
       "86   test_96.txt     BOOKER     BOOKER\n",
       "85   test_97.txt     HARRIS     BOOKER\n",
       "29   test_98.txt      BIDEN     WARREN\n",
       "31   test_99.txt      BIDEN     WARREN\n",
       "\n",
       "[111 rows x 3 columns]"
      ]
     },
     "execution_count": 242,
     "metadata": {},
     "output_type": "execute_result"
    }
   ],
   "source": [
    "test_labels # we see that we have created the text file in the desired format. "
   ]
  },
  {
   "cell_type": "code",
   "execution_count": 243,
   "metadata": {},
   "outputs": [],
   "source": [
    "test_labels = test_labels.reset_index(drop=True) #Index reset has been done. "
   ]
  },
  {
   "cell_type": "code",
   "execution_count": 244,
   "metadata": {},
   "outputs": [
    {
     "data": {
      "text/html": [
       "<div>\n",
       "<style scoped>\n",
       "    .dataframe tbody tr th:only-of-type {\n",
       "        vertical-align: middle;\n",
       "    }\n",
       "\n",
       "    .dataframe tbody tr th {\n",
       "        vertical-align: top;\n",
       "    }\n",
       "\n",
       "    .dataframe thead th {\n",
       "        text-align: right;\n",
       "    }\n",
       "</style>\n",
       "<table border=\"1\" class=\"dataframe\">\n",
       "  <thead>\n",
       "    <tr style=\"text-align: right;\">\n",
       "      <th></th>\n",
       "      <th>FILE</th>\n",
       "      <th>MODEL1</th>\n",
       "      <th>MODEL2</th>\n",
       "    </tr>\n",
       "  </thead>\n",
       "  <tbody>\n",
       "    <tr>\n",
       "      <td>0</td>\n",
       "      <td>test_1.txt</td>\n",
       "      <td>BIDEN</td>\n",
       "      <td>BUTTIGIEG</td>\n",
       "    </tr>\n",
       "    <tr>\n",
       "      <td>1</td>\n",
       "      <td>test_10.txt</td>\n",
       "      <td>WARREN</td>\n",
       "      <td>KLOBUCHAR</td>\n",
       "    </tr>\n",
       "    <tr>\n",
       "      <td>2</td>\n",
       "      <td>test_100.txt</td>\n",
       "      <td>BIDEN</td>\n",
       "      <td>WARREN</td>\n",
       "    </tr>\n",
       "    <tr>\n",
       "      <td>3</td>\n",
       "      <td>test_101.txt</td>\n",
       "      <td>WARREN</td>\n",
       "      <td>WARREN</td>\n",
       "    </tr>\n",
       "    <tr>\n",
       "      <td>4</td>\n",
       "      <td>test_102.txt</td>\n",
       "      <td>BUTTIGIEG</td>\n",
       "      <td>WARREN</td>\n",
       "    </tr>\n",
       "    <tr>\n",
       "      <td>...</td>\n",
       "      <td>...</td>\n",
       "      <td>...</td>\n",
       "      <td>...</td>\n",
       "    </tr>\n",
       "    <tr>\n",
       "      <td>106</td>\n",
       "      <td>test_95.txt</td>\n",
       "      <td>BUTTIGIEG</td>\n",
       "      <td>BIDEN</td>\n",
       "    </tr>\n",
       "    <tr>\n",
       "      <td>107</td>\n",
       "      <td>test_96.txt</td>\n",
       "      <td>BOOKER</td>\n",
       "      <td>BOOKER</td>\n",
       "    </tr>\n",
       "    <tr>\n",
       "      <td>108</td>\n",
       "      <td>test_97.txt</td>\n",
       "      <td>HARRIS</td>\n",
       "      <td>BOOKER</td>\n",
       "    </tr>\n",
       "    <tr>\n",
       "      <td>109</td>\n",
       "      <td>test_98.txt</td>\n",
       "      <td>BIDEN</td>\n",
       "      <td>WARREN</td>\n",
       "    </tr>\n",
       "    <tr>\n",
       "      <td>110</td>\n",
       "      <td>test_99.txt</td>\n",
       "      <td>BIDEN</td>\n",
       "      <td>WARREN</td>\n",
       "    </tr>\n",
       "  </tbody>\n",
       "</table>\n",
       "<p>111 rows × 3 columns</p>\n",
       "</div>"
      ],
      "text/plain": [
       "             FILE     MODEL1     MODEL2\n",
       "0      test_1.txt      BIDEN  BUTTIGIEG\n",
       "1     test_10.txt     WARREN  KLOBUCHAR\n",
       "2    test_100.txt      BIDEN     WARREN\n",
       "3    test_101.txt     WARREN     WARREN\n",
       "4    test_102.txt  BUTTIGIEG     WARREN\n",
       "..            ...        ...        ...\n",
       "106   test_95.txt  BUTTIGIEG      BIDEN\n",
       "107   test_96.txt     BOOKER     BOOKER\n",
       "108   test_97.txt     HARRIS     BOOKER\n",
       "109   test_98.txt      BIDEN     WARREN\n",
       "110   test_99.txt      BIDEN     WARREN\n",
       "\n",
       "[111 rows x 3 columns]"
      ]
     },
     "execution_count": 244,
     "metadata": {},
     "output_type": "execute_result"
    }
   ],
   "source": [
    "test_labels"
   ]
  },
  {
   "cell_type": "code",
   "execution_count": 245,
   "metadata": {},
   "outputs": [],
   "source": [
    "test_labels.to_csv(\"Rohan_Khurana.txt\", index=False, header = True, sep='\\t')"
   ]
  }
 ],
 "metadata": {
  "kernelspec": {
   "display_name": "Python 3",
   "language": "python",
   "name": "python3"
  },
  "language_info": {
   "codemirror_mode": {
    "name": "ipython",
    "version": 3
   },
   "file_extension": ".py",
   "mimetype": "text/x-python",
   "name": "python",
   "nbconvert_exporter": "python",
   "pygments_lexer": "ipython3",
   "version": "3.7.4"
  }
 },
 "nbformat": 4,
 "nbformat_minor": 2
}
